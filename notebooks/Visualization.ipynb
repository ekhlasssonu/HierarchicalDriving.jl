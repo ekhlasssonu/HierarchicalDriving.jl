{
 "cells": [
  {
   "cell_type": "code",
   "execution_count": 2,
   "metadata": {
    "collapsed": false,
    "deletable": true,
    "editable": true
   },
   "outputs": [
    {
     "data": {
      "text/html": [
       "<div id=\"interact-js-shim\">\n",
       "    <script charset=\"utf-8\">\n",
       "(function (IPython, $, _, MathJax) {\n",
       "    $.event.special.destroyed = {\n",
       "\tremove: function(o) {\n",
       "\t    if (o.handler) {\n",
       "\t\to.handler.apply(this, arguments)\n",
       "\t    }\n",
       "\t}\n",
       "    }\n",
       "\n",
       "    var OutputArea = IPython.version >= \"4.0.0\" ? require(\"notebook/js/outputarea\").OutputArea : IPython.OutputArea;\n",
       "\n",
       "    var redrawValue = function (container, type, val) {\n",
       "\tvar selector = $(\"<div/>\");\n",
       "\tvar oa = new OutputArea(_.extend(selector, {\n",
       "\t    selector: selector,\n",
       "\t    prompt_area: true,\n",
       "\t    events: IPython.events,\n",
       "\t    keyboard_manager: IPython.keyboard_manager\n",
       "\t})); // Hack to work with IPython 2.1.0\n",
       "\n",
       "\tswitch (type) {\n",
       "\tcase \"image/png\":\n",
       "            var _src = 'data:' + type + ';base64,' + val;\n",
       "\t    $(container).find(\"img\").attr('src', _src);\n",
       "\t    break;\n",
       "\tcase \"text/latex\":\n",
       "\t\tif (MathJax){\n",
       "\t\t\tvar math = MathJax.Hub.getAllJax(container)[0];\n",
       "\t\t\tMathJax.Hub.Queue([\"Text\", math, val.replace(/^\\${1,2}|\\${1,2}$/g, '')]);\n",
       "\t\t\tbreak;\n",
       "\t\t}\n",
       "\tdefault:\n",
       "\t    var toinsert = OutputArea.append_map[type].apply(\n",
       "\t\toa, [val, {}, selector]\n",
       "\t    );\n",
       "\t    $(container).empty().append(toinsert.contents());\n",
       "\t    selector.remove();\n",
       "\t}\n",
       "    }\n",
       "\n",
       "\n",
       "    $(document).ready(function() {\n",
       "\tfunction initComm(evt, data) {\n",
       "\t    var comm_manager = data.kernel.comm_manager;\n",
       "        //_.extend(comm_manager.targets, require(\"widgets/js/widget\"))\n",
       "\t    comm_manager.register_target(\"Signal\", function (comm) {\n",
       "            comm.on_msg(function (msg) {\n",
       "                var val = msg.content.data.value;\n",
       "                $(\".signal-\" + comm.comm_id).each(function() {\n",
       "                var type = $(this).data(\"type\");\n",
       "                if (typeof(val[type]) !== \"undefined\" && val[type] !== null) {\n",
       "                    redrawValue(this, type, val[type], type);\n",
       "                }\n",
       "                });\n",
       "                delete val;\n",
       "                delete msg.content.data.value;\n",
       "            });\n",
       "\t    });\n",
       "\n",
       "\t    // coordingate with Comm and redraw Signals\n",
       "\t    // XXX: Test using Reactive here to improve performance\n",
       "\t    $([IPython.events]).on(\n",
       "\t\t'output_appended.OutputArea', function (event, type, value, md, toinsert) {\n",
       "\t\t    if (md && md.reactive) {\n",
       "                // console.log(md.comm_id);\n",
       "                toinsert.addClass(\"signal-\" + md.comm_id);\n",
       "                toinsert.data(\"type\", type);\n",
       "                // Signal back indicating the mimetype required\n",
       "                var comm_manager = IPython.notebook.kernel.comm_manager;\n",
       "                var comm = comm_manager.comms[md.comm_id];\n",
       "                comm.then(function (c) {\n",
       "                    c.send({action: \"subscribe_mime\",\n",
       "                       mime: type});\n",
       "                    toinsert.bind(\"destroyed\", function() {\n",
       "                        c.send({action: \"unsubscribe_mime\",\n",
       "                               mime: type});\n",
       "                    });\n",
       "                })\n",
       "\t\t    }\n",
       "\t    });\n",
       "\t}\n",
       "\n",
       "\ttry {\n",
       "\t    // try to initialize right away. otherwise, wait on the status_started event.\n",
       "\t    initComm(undefined, IPython.notebook);\n",
       "\t} catch (e) {\n",
       "\t    $([IPython.events]).on('kernel_created.Kernel kernel_created.Session', initComm);\n",
       "\t}\n",
       "    });\n",
       "})(IPython, jQuery, _, MathJax);\n",
       "</script>\n",
       "    <script>\n",
       "        window.interactLoadedFlag = true\n",
       "       $(\"#interact-js-shim\").bind(\"destroyed\", function () {\n",
       "           if (window.interactLoadedFlag) {\n",
       "               console.warn(\"JavaScript required by Interact will be removed if you remove this cell or run using Interact more than once.\")\n",
       "           }\n",
       "       })\n",
       "       $([IPython.events]).on(\"kernel_starting.Kernel kernel_restarting.Kernel\", function () { window.interactLoadedFlag = false })\n",
       "   </script>\n",
       "</div>"
      ]
     },
     "metadata": {},
     "output_type": "display_data"
    }
   ],
   "source": [
    "using HierarchicalDriving\n",
    "import POMDPs:initial_state\n",
    "using POMDPToolbox\n",
    "using Interact\n",
    "using MCTS\n",
    "using AutoViz\n",
    "import ParticleFilters: obs_weight\n",
    "import Base: ==, +, *, -, <, >, copy, Random, hash"
   ]
  },
  {
   "cell_type": "code",
   "execution_count": 3,
   "metadata": {
    "collapsed": false,
    "deletable": true,
    "editable": true
   },
   "outputs": [],
   "source": [
    "HORIZON = 15\n",
    "TIME_STEP = 0.3\n",
    "lb_x = (AVG_HWY_VELOCITY - 5.0) * TIME_STEP * HORIZON\n",
    "ub_x = (AVG_HWY_VELOCITY + 5.0) * TIME_STEP * HORIZON\n",
    "p = LowLevelMDP(0.99,TIME_STEP, HORIZON,\n",
    "                            HierarchicalDriving.RoadSegment((-100.0, 500.0),[0.0, LANE_WIDTH, 2.0 * LANE_WIDTH, 3.0 * LANE_WIDTH, 4.0 * LANE_WIDTH]),\n",
    "                            CarPhysicalState((0.0, 3.0 * LANE_WIDTH/2.0, AVG_HWY_VELOCITY)),\n",
    "                            (CarPhysicalState((lb_x, 5.0 * LANE_WIDTH/2.0 - 0.5, AVG_HWY_VELOCITY - 5)),\n",
    "                             CarPhysicalState((ub_x, 5.0 * LANE_WIDTH/2.0 + 0.5, AVG_HWY_VELOCITY + 5))),\n",
    "                            50.0, -500.0, -1.0, -5.0, -5.0, -1.0, HierarchicalDriving.getFrameList());"
   ]
  },
  {
   "cell_type": "code",
   "execution_count": 16,
   "metadata": {
    "collapsed": false,
    "deletable": true,
    "editable": true
   },
   "outputs": [
    {
     "name": "stderr",
     "output_type": "stream",
     "text": [
      "WARNING: Method definition "
     ]
    },
    {
     "data": {
      "text/plain": [
       "testing (generic function with 1 method)"
      ]
     },
     "execution_count": 16,
     "metadata": {},
     "output_type": "execute_result"
    },
    {
     "name": "stderr",
     "output_type": "stream",
     "text": [
      "testing() in module Main at In[11]:2 overwritten at In[16]:2.\n"
     ]
    }
   ],
   "source": [
    "function testing()\n",
    "    n = 100\n",
    "    sum = 0.0\n",
    "    sum1 = 0.0\n",
    "    numPositiveRnd = 0\n",
    "    numPositiveMCTS = 0\n",
    "    for i in 1:n\n",
    "        #policy = RandomPolicy(p)\n",
    "        policy = subintentional_lowlevel_policy(p)\n",
    "        hr = HistoryRecorder(max_steps = p.HORIZON, rng = MersenneTwister(i))\n",
    "        hist = simulate(hr, p, policy)\n",
    "        finState = state_hist(hist)[end]\n",
    "\n",
    "        solver = DPWSolver(depth=p.HORIZON,\n",
    "                               exploration_constant=10.0,\n",
    "                               n_iterations=1_000,\n",
    "                               k_action=10.0,\n",
    "                               alpha_action=1/10,\n",
    "                               k_state=5.0,\n",
    "                               alpha_state=1/10,\n",
    "                               #estimate_value=RolloutEstimator(subintentional_lowlevel_policy(p))\n",
    "                              )\n",
    "        policy1 = solve(solver, p)\n",
    "        hr1 = HistoryRecorder(max_steps = p.HORIZON, rng = MersenneTwister(i))\n",
    "        hist1 = simulate(hr1, p, policy1)\n",
    "        finState1 = state_hist(hist1)[end]\n",
    "        \n",
    "\n",
    "        println(i, \",\", discounted_reward(hist), \",\", discounted_reward(hist1))\n",
    "        sum += discounted_reward(hist)\n",
    "        sum1+= discounted_reward(hist1)\n",
    "        if finState.terminal == 2 || HierarchicalDriving.checkTargetCoordinates(finState,p)\n",
    "            numPositiveRnd += 1\n",
    "        end\n",
    "        if finState1.terminal == 2 || HierarchicalDriving.checkTargetCoordinates(finState1,p)\n",
    "            numPositiveMCTS += 1\n",
    "        end\n",
    "    end\n",
    "    println(\"Mean: \",sum/n,\",\", sum1/n)\n",
    "    println(\"Success Rate: \", numPositiveRnd/n, \",\", numPositiveMCTS/n)\n",
    "end"
   ]
  },
  {
   "cell_type": "code",
   "execution_count": 17,
   "metadata": {
    "collapsed": false,
    "deletable": true,
    "editable": true
   },
   "outputs": [
    {
     "name": "stdout",
     "output_type": "stream",
     "text": [
      "1,0.0,41.51433016439041\n",
      "2,41.58177576142221,42.023356534159674\n",
      "3,0.0,36.34854217177064\n",
      "4,0.0,37.34292567696259\n",
      "5,41.58177576142221,41.96908812855566\n",
      "6,-0.470702276736646,42.188642689310704\n",
      "7,0.0,40.74609341347663\n",
      "8,0.0,-9.318328252879787\n",
      "9,41.58177576142221,41.96797524253026\n",
      "10,41.58177576142221,41.64227655767312\n",
      "11,0.0,41.80407380446759\n",
      "12,42.0210696654222,41.85725689677056\n",
      "13,0.0,42.172192754087476\n",
      "14,41.58177576142221,41.459519129541384\n",
      "15,0.0,41.91206793161958\n",
      "16,41.58177576142221,41.96963623890415\n",
      "17,0.0,42.02225477699453\n",
      "18,41.58177576142221,42.0430593551454\n",
      "19,0.0,41.74429616899632\n",
      "20,0.0,41.96851244548282\n",
      "21,-1.3711187821329274,41.56692781276788\n",
      "22,41.67082678674326,41.989892706706534\n",
      "23,41.58177576142221,41.364137418140274\n",
      "24,0.0,41.91314776381714\n",
      "25,41.58177576142221,41.24840219389955\n",
      "26,0.0,41.967432613285254\n",
      "27,41.58177576142221,41.859460522389455\n",
      "28,0.0,41.68997205924109\n",
      "29,41.58177576142221,41.94082056918044\n",
      "30,41.804733751047124,41.91316420768124\n",
      "31,0.0,36.93513549205555\n",
      "32,41.58177576142221,41.40970887333789\n",
      "33,41.58177576142221,41.4178577133958\n",
      "34,41.58177576142221,41.97017344185671\n",
      "35,41.58177576142221,41.70314493273789\n",
      "36,0.0,42.15268696131161\n",
      "37,41.58177576142221,41.968534481739006\n",
      "38,0.0,36.93392005257594\n",
      "39,0.0,41.91151982127109\n",
      "40,0.0,41.76685800958694\n",
      "41,41.58177576142221,41.96962533150822\n",
      "42,41.58177576142221,42.120100401378004\n",
      "43,41.58177576142221,41.52585184054778\n",
      "44,41.804733751047124,41.91427155723848\n",
      "45,41.58177576142221,42.119557772133\n",
      "46,0.0,41.858901283180714\n",
      "47,41.949681217329875,41.91371231802973\n",
      "48,41.58177576142221,41.85779952601557\n",
      "49,41.58177576142221,41.91262157843624\n",
      "50,0.0,41.916453146601185\n",
      "51,41.58177576142221,41.63690264925258\n",
      "52,41.87757167380228,41.804616433712596\n",
      "53,41.58177576142221,41.85725689677056\n",
      "54,41.58177576142221,41.99041889208744\n",
      "55,41.58177576142221,41.49240462305838\n",
      "56,0.0,41.8648593551454\n",
      "57,41.949681217329875,40.41138299815353\n",
      "58,41.58177576142221,41.97017344185671\n",
      "59,41.58177576142221,42.172192754087476\n",
      "60,41.58177576142221,42.097875926462585\n",
      "61,0.0,41.96797524253026\n",
      "62,0.0,42.0430593551454\n",
      "63,41.58177576142221,42.023356534159674\n",
      "64,0.0,41.7667562624176\n",
      "65,0.0,41.721633254182166\n",
      "66,41.58177576142221,41.85725689677056\n",
      "67,41.58177576142221,41.912610560864586\n",
      "68,41.58177576142221,41.2550416428971\n",
      "69,41.58177576142221,41.912610560864586\n",
      "70,41.58177576142221,41.91314776381714\n",
      "71,41.58177576142221,41.85943848613327\n",
      "72,41.58177576142221,41.97017344185671\n",
      "73,41.58177576142221,41.91427155723848\n",
      "74,41.58177576142221,41.91371231802973\n",
      "75,-0.470702276736646,41.968534481739006\n",
      "76,0.0,41.85942746856162\n",
      "77,41.58177576142221,41.91371231802973\n",
      "78,0.0,41.91427155723848\n",
      "79,41.58177576142221,41.934528025040855\n",
      "80,41.58177576142221,41.62909266660467\n",
      "81,0.0,41.91314776381714\n",
      "82,41.58177576142221,41.42167848323877\n",
      "83,41.58177576142221,36.440844101271935\n",
      "84,0.0,41.97017344185671\n",
      "85,-4.499699232913609,42.022808423811185\n",
      "86,41.58177576142221,41.80571819087775\n",
      "87,41.58177576142221,42.04415563120706\n",
      "88,0.0,-1.692569828965901\n",
      "89,41.58177576142221,40.90994971075541\n",
      "90,41.58177576142221,36.4671494389881\n",
      "91,0.0,39.07686823798964\n",
      "92,41.58177576142221,41.51434118196206\n",
      "93,41.58177576142221,42.02225477699453\n",
      "94,41.67082678674326,41.96744374214551\n",
      "95,-6.484030849370415,41.364696657349015\n",
      "96,0.0,41.91316420768124\n",
      "97,0.0,36.44086591716556\n",
      "98,41.58177576142221,41.85999772534201\n",
      "99,41.804733751047124,41.96908812855566\n",
      "100,41.58177576142221,41.9137014106338\n",
      "Mean: 25.255099447765783,40.48003735937392\n",
      "Success Rate: 0.61,0.98\n",
      "434.185039 seconds (5.43 G allocations: 152.949 GB, 11.42% gc time)\n"
     ]
    }
   ],
   "source": [
    "@time testing()"
   ]
  },
  {
   "cell_type": "code",
   "execution_count": 5,
   "metadata": {
    "collapsed": false,
    "deletable": true,
    "editable": true,
    "scrolled": false
   },
   "outputs": [
    {
     "data": {
      "text/html": [],
      "text/plain": [
       "Interact.Options{:SelectionSlider,Int64}(Signal{Int64}(8, nactions=1),\"i\",8,\"8\",Interact.OptionDict(DataStructures.OrderedDict(\"1\"=>1,\"2\"=>2,\"3\"=>3,\"4\"=>4,\"5\"=>5,\"6\"=>6,\"7\"=>7,\"8\"=>8,\"9\"=>9,\"10\"=>10…),Dict(2=>\"2\",11=>\"11\",7=>\"7\",9=>\"9\",10=>\"10\",8=>\"8\",6=>\"6\",4=>\"4\",3=>\"3\",5=>\"5\"…)),Any[],Any[],true,\"horizontal\")"
      ]
     },
     "metadata": {},
     "output_type": "display_data"
    },
    {
     "data": {
      "image/png": "[encoded data removed]",
      "text/plain": [
       "(HierarchicalDriving.LowLevelMDP(0.99,0.3,15,HierarchicalDriving.RoadSegment((-100.0,500.0),[0.0,4.0,8.0,12.0,16.0]),HierarchicalDriving.CarPhysicalState((0.0,6.0,25.0)),(HierarchicalDriving.CarPhysicalState((90.0,9.5,20.0)),HierarchicalDriving.CarPhysicalState((135.0,10.5,30.0))),50.0,-500.0,-1.0,-5.0,-5.0,-1.0,HierarchicalDriving.LowLevelCarFrameL0[HierarchicalDriving.LowLevelCarFrameL0(HierarchicalDriving.IDMParam(1.4,2.0,1.5,22.7648,2.0,4.0),HierarchicalDriving.MOBILParam(0.0,2.0,-1.0),HierarchicalDriving.FSM{Int64,Float64,String}(HierarchicalDriving.FSM_Node{Int64}[HierarchicalDriving.FSM_Node{Int64}(1),HierarchicalDriving.FSM_Node{Int64}(2),HierarchicalDriving.FSM_Node{Int64}(3),HierarchicalDriving.FSM_Node{Int64}(4)],HierarchicalDriving.FSM_Edge{String}[HierarchicalDriving.FSM_Edge{String}(\"Reached\"),HierarchicalDriving.FSM_Edge{String}(\"SafeSmooth\"),HierarchicalDriving.FSM_Edge{String}(\"UnsafeOrUnsmooth\"),HierarchicalDriving.FSM_Edge{String}(\"Undetermined\")],Dict((HierarchicalDriving.FSM_Node{Int64}(1),0.0)=>0.5,(HierarchicalDriving.FSM_Node{Int64}(1),2.0)=>0.5,(HierarchicalDriving.FSM_Node{Int64}(2),0.0)=>1.0,(HierarchicalDriving.FSM_Node{Int64}(3),-2.0)=>1.0,(HierarchicalDriving.FSM_Node{Int64}(4),2.0)=>1.0),Dict((HierarchicalDriving.FSM_Node{Int64}(2),HierarchicalDriving.FSM_Edge{String}(\"UnsafeOrUnsmooth\"),HierarchicalDriving.FSM_Node{Int64}(2))=>1.0,(HierarchicalDriving.FSM_Node{Int64}(4),HierarchicalDriving.FSM_Edge{String}(\"Reached\"),HierarchicalDriving.FSM_Node{Int64}(2))=>1.0,(HierarchicalDriving.FSM_Node{Int64}(2),HierarchicalDriving.FSM_Edge{String}(\"SafeSmooth\"),HierarchicalDriving.FSM_Node{Int64}(4))=>1.0,(HierarchicalDriving.FSM_Node{Int64}(1),HierarchicalDriving.FSM_Edge{String}(\"Undetermined\"),HierarchicalDriving.FSM_Node{Int64}(3))=>0.5,(HierarchicalDriving.FSM_Node{Int64}(1),HierarchicalDriving.FSM_Edge{String}(\"Undetermined\"),HierarchicalDriving.FSM_Node{Int64}(4))=>0.5,(HierarchicalDriving.FSM_Node{Int64}(3),HierarchicalDriving.FSM_Edge{String}(\"Undetermined\"),HierarchicalDriving.FSM_Node{Int64}(3))=>1.0,(HierarchicalDriving.FSM_Node{Int64}(1),HierarchicalDriving.FSM_Edge{String}(\"SafeSmooth\"),HierarchicalDriving.FSM_Node{Int64}(4))=>1.0,(HierarchicalDriving.FSM_Node{Int64}(3),HierarchicalDriving.FSM_Edge{String}(\"Reached\"),HierarchicalDriving.FSM_Node{Int64}(2))=>1.0,(HierarchicalDriving.FSM_Node{Int64}(3),HierarchicalDriving.FSM_Edge{String}(\"UnsafeOrUnsmooth\"),HierarchicalDriving.FSM_Node{Int64}(3))=>1.0,(HierarchicalDriving.FSM_Node{Int64}(2),HierarchicalDriving.FSM_Edge{String}(\"Undetermined\"),HierarchicalDriving.FSM_Node{Int64}(2))=>1.0…)),6.0,2.5),HierarchicalDriving.LowLevelCarFrameL0(HierarchicalDriving.IDMParam(1.4,2.0,1.5,25.0,1.0,4.0),HierarchicalDriving.MOBILParam(0.0,2.0,-1.5),HierarchicalDriving.FSM{Int64,Float64,String}(HierarchicalDriving.FSM_Node{Int64}[HierarchicalDriving.FSM_Node{Int64}(1),HierarchicalDriving.FSM_Node{Int64}(2),HierarchicalDriving.FSM_Node{Int64}(3),HierarchicalDriving.FSM_Node{Int64}(4)],HierarchicalDriving.FSM_Edge{String}[HierarchicalDriving.FSM_Edge{String}(\"Reached\"),HierarchicalDriving.FSM_Edge{String}(\"SafeSmooth\"),HierarchicalDriving.FSM_Edge{String}(\"UnsafeOrUnsmooth\"),HierarchicalDriving.FSM_Edge{String}(\"Undetermined\")],Dict((HierarchicalDriving.FSM_Node{Int64}(1),0.0)=>0.5,(HierarchicalDriving.FSM_Node{Int64}(1),2.0)=>0.5,(HierarchicalDriving.FSM_Node{Int64}(2),0.0)=>1.0,(HierarchicalDriving.FSM_Node{Int64}(3),-2.0)=>1.0,(HierarchicalDriving.FSM_Node{Int64}(4),2.0)=>1.0),Dict((HierarchicalDriving.FSM_Node{Int64}(2),HierarchicalDriving.FSM_Edge{String}(\"UnsafeOrUnsmooth\"),HierarchicalDriving.FSM_Node{Int64}(2))=>1.0,(HierarchicalDriving.FSM_Node{Int64}(4),HierarchicalDriving.FSM_Edge{String}(\"Reached\"),HierarchicalDriving.FSM_Node{Int64}(2))=>1.0,(HierarchicalDriving.FSM_Node{Int64}(2),HierarchicalDriving.FSM_Edge{String}(\"SafeSmooth\"),HierarchicalDriving.FSM_Node{Int64}(4))=>1.0,(HierarchicalDriving.FSM_Node{Int64}(1),HierarchicalDriving.FSM_Edge{String}(\"Undetermined\"),HierarchicalDriving.FSM_Node{Int64}(3))=>0.5,(HierarchicalDriving.FSM_Node{Int64}(1),HierarchicalDriving.FSM_Edge{String}(\"Undetermined\"),HierarchicalDriving.FSM_Node{Int64}(4))=>0.5,(HierarchicalDriving.FSM_Node{Int64}(3),HierarchicalDriving.FSM_Edge{String}(\"Undetermined\"),HierarchicalDriving.FSM_Node{Int64}(3))=>1.0,(HierarchicalDriving.FSM_Node{Int64}(1),HierarchicalDriving.FSM_Edge{String}(\"SafeSmooth\"),HierarchicalDriving.FSM_Node{Int64}(4))=>1.0,(HierarchicalDriving.FSM_Node{Int64}(3),HierarchicalDriving.FSM_Edge{String}(\"Reached\"),HierarchicalDriving.FSM_Node{Int64}(2))=>1.0,(HierarchicalDriving.FSM_Node{Int64}(3),HierarchicalDriving.FSM_Edge{String}(\"UnsafeOrUnsmooth\"),HierarchicalDriving.FSM_Node{Int64}(3))=>1.0,(HierarchicalDriving.FSM_Node{Int64}(2),HierarchicalDriving.FSM_Edge{String}(\"Undetermined\"),HierarchicalDriving.FSM_Node{Int64}(2))=>1.0…)),6.0,2.5),HierarchicalDriving.LowLevelCarFrameL0(HierarchicalDriving.IDMParam(1.4,2.0,1.5,27.2352,0.5,4.0),HierarchicalDriving.MOBILParam(0.0,2.0,-2.0),HierarchicalDriving.FSM{Int64,Float64,String}(HierarchicalDriving.FSM_Node{Int64}[HierarchicalDriving.FSM_Node{Int64}(1),HierarchicalDriving.FSM_Node{Int64}(2),HierarchicalDriving.FSM_Node{Int64}(3),HierarchicalDriving.FSM_Node{Int64}(4)],HierarchicalDriving.FSM_Edge{String}[HierarchicalDriving.FSM_Edge{String}(\"Reached\"),HierarchicalDriving.FSM_Edge{String}(\"SafeSmooth\"),HierarchicalDriving.FSM_Edge{String}(\"UnsafeOrUnsmooth\"),HierarchicalDriving.FSM_Edge{String}(\"Undetermined\")],Dict((HierarchicalDriving.FSM_Node{Int64}(1),0.0)=>0.5,(HierarchicalDriving.FSM_Node{Int64}(1),2.0)=>0.5,(HierarchicalDriving.FSM_Node{Int64}(2),0.0)=>1.0,(HierarchicalDriving.FSM_Node{Int64}(3),-2.0)=>1.0,(HierarchicalDriving.FSM_Node{Int64}(4),2.0)=>1.0),Dict((HierarchicalDriving.FSM_Node{Int64}(2),HierarchicalDriving.FSM_Edge{String}(\"UnsafeOrUnsmooth\"),HierarchicalDriving.FSM_Node{Int64}(2))=>1.0,(HierarchicalDriving.FSM_Node{Int64}(4),HierarchicalDriving.FSM_Edge{String}(\"Reached\"),HierarchicalDriving.FSM_Node{Int64}(2))=>1.0,(HierarchicalDriving.FSM_Node{Int64}(2),HierarchicalDriving.FSM_Edge{String}(\"SafeSmooth\"),HierarchicalDriving.FSM_Node{Int64}(4))=>1.0,(HierarchicalDriving.FSM_Node{Int64}(1),HierarchicalDriving.FSM_Edge{String}(\"Undetermined\"),HierarchicalDriving.FSM_Node{Int64}(3))=>0.5,(HierarchicalDriving.FSM_Node{Int64}(1),HierarchicalDriving.FSM_Edge{String}(\"Undetermined\"),HierarchicalDriving.FSM_Node{Int64}(4))=>0.5,(HierarchicalDriving.FSM_Node{Int64}(3),HierarchicalDriving.FSM_Edge{String}(\"Undetermined\"),HierarchicalDriving.FSM_Node{Int64}(3))=>1.0,(HierarchicalDriving.FSM_Node{Int64}(1),HierarchicalDriving.FSM_Edge{String}(\"SafeSmooth\"),HierarchicalDriving.FSM_Node{Int64}(4))=>1.0,(HierarchicalDriving.FSM_Node{Int64}(3),HierarchicalDriving.FSM_Edge{String}(\"Reached\"),HierarchicalDriving.FSM_Node{Int64}(2))=>1.0,(HierarchicalDriving.FSM_Node{Int64}(3),HierarchicalDriving.FSM_Edge{String}(\"UnsafeOrUnsmooth\"),HierarchicalDriving.FSM_Node{Int64}(3))=>1.0,(HierarchicalDriving.FSM_Node{Int64}(2),HierarchicalDriving.FSM_Edge{String}(\"Undetermined\"),HierarchicalDriving.FSM_Node{Int64}(2))=>1.0…)),6.0,2.5)]),HierarchicalDriving.GlobalStateL1{HierarchicalDriving.CarLocalIS}(0,HierarchicalDriving.CarPhysicalState((52.5,10.199999999999998,25.0)),Array{HierarchicalDriving.CarLocalIS,1}[HierarchicalDriving.CarLocalIS[HierarchicalDriving.CarLocalIS{HierarchicalDriving.ParamCarModelL0}(HierarchicalDriving.CarPhysicalState((95.5715,2.0,24.7105)),HierarchicalDriving.ParamCarModelL0(2,HierarchicalDriving.LowLevelCarFrameL0(HierarchicalDriving.IDMParam(1.4,2.0,1.5,22.7648,2.0,4.0),HierarchicalDriving.MOBILParam(0.0,2.0,-1.0),HierarchicalDriving.FSM{Int64,Float64,String}(HierarchicalDriving.FSM_Node{Int64}[HierarchicalDriving.FSM_Node{Int64}(1),HierarchicalDriving.FSM_Node{Int64}(2),HierarchicalDriving.FSM_Node{Int64}(3),HierarchicalDriving.FSM_Node{Int64}(4)],HierarchicalDriving.FSM_Edge{String}[HierarchicalDriving.FSM_Edge{String}(\"Reached\"),HierarchicalDriving.FSM_Edge{String}(\"SafeSmooth\"),HierarchicalDriving.FSM_Edge{String}(\"UnsafeOrUnsmooth\"),HierarchicalDriving.FSM_Edge{String}(\"Undetermined\")],Dict((HierarchicalDriving.FSM_Node{Int64}(1),0.0)=>0.5,(HierarchicalDriving.FSM_Node{Int64}(1),2.0)=>0.5,(HierarchicalDriving.FSM_Node{Int64}(2),0.0)=>1.0,(HierarchicalDriving.FSM_Node{Int64}(3),-2.0)=>1.0,(HierarchicalDriving.FSM_Node{Int64}(4),2.0)=>1.0),Dict((HierarchicalDriving.FSM_Node{Int64}(2),HierarchicalDriving.FSM_Edge{String}(\"UnsafeOrUnsmooth\"),HierarchicalDriving.FSM_Node{Int64}(2))=>1.0,(HierarchicalDriving.FSM_Node{Int64}(4),HierarchicalDriving.FSM_Edge{String}(\"Reached\"),HierarchicalDriving.FSM_Node{Int64}(2))=>1.0,(HierarchicalDriving.FSM_Node{Int64}(2),HierarchicalDriving.FSM_Edge{String}(\"SafeSmooth\"),HierarchicalDriving.FSM_Node{Int64}(4))=>1.0,(HierarchicalDriving.FSM_Node{Int64}(1),HierarchicalDriving.FSM_Edge{String}(\"Undetermined\"),HierarchicalDriving.FSM_Node{Int64}(3))=>0.5,(HierarchicalDriving.FSM_Node{Int64}(1),HierarchicalDriving.FSM_Edge{String}(\"Undetermined\"),HierarchicalDriving.FSM_Node{Int64}(4))=>0.5,(HierarchicalDriving.FSM_Node{Int64}(3),HierarchicalDriving.FSM_Edge{String}(\"Undetermined\"),HierarchicalDriving.FSM_Node{Int64}(3))=>1.0,(HierarchicalDriving.FSM_Node{Int64}(1),HierarchicalDriving.FSM_Edge{String}(\"SafeSmooth\"),HierarchicalDriving.FSM_Node{Int64}(4))=>1.0,(HierarchicalDriving.FSM_Node{Int64}(3),HierarchicalDriving.FSM_Edge{String}(\"Reached\"),HierarchicalDriving.FSM_Node{Int64}(2))=>1.0,(HierarchicalDriving.FSM_Node{Int64}(3),HierarchicalDriving.FSM_Edge{String}(\"UnsafeOrUnsmooth\"),HierarchicalDriving.FSM_Node{Int64}(3))=>1.0,(HierarchicalDriving.FSM_Node{Int64}(2),HierarchicalDriving.FSM_Edge{String}(\"Undetermined\"),HierarchicalDriving.FSM_Node{Int64}(2))=>1.0…)),6.0,2.5),HierarchicalDriving.FSM_Node{Int64}(3))),HierarchicalDriving.CarLocalIS{HierarchicalDriving.ParamCarModelL0}(HierarchicalDriving.CarPhysicalState((2.03442,1.95691,24.1282)),HierarchicalDriving.ParamCarModelL0(1,HierarchicalDriving.LowLevelCarFrameL0(HierarchicalDriving.IDMParam(1.4,2.0,1.5,22.7648,2.0,4.0),HierarchicalDriving.MOBILParam(0.0,2.0,-1.0),HierarchicalDriving.FSM{Int64,Float64,String}(HierarchicalDriving.FSM_Node{Int64}[HierarchicalDriving.FSM_Node{Int64}(1),HierarchicalDriving.FSM_Node{Int64}(2),HierarchicalDriving.FSM_Node{Int64}(3),HierarchicalDriving.FSM_Node{Int64}(4)],HierarchicalDriving.FSM_Edge{String}[HierarchicalDriving.FSM_Edge{String}(\"Reached\"),HierarchicalDriving.FSM_Edge{String}(\"SafeSmooth\"),HierarchicalDriving.FSM_Edge{String}(\"UnsafeOrUnsmooth\"),HierarchicalDriving.FSM_Edge{String}(\"Undetermined\")],Dict((HierarchicalDriving.FSM_Node{Int64}(1),0.0)=>0.5,(HierarchicalDriving.FSM_Node{Int64}(1),2.0)=>0.5,(HierarchicalDriving.FSM_Node{Int64}(2),0.0)=>1.0,(HierarchicalDriving.FSM_Node{Int64}(3),-2.0)=>1.0,(HierarchicalDriving.FSM_Node{Int64}(4),2.0)=>1.0),Dict((HierarchicalDriving.FSM_Node{Int64}(2),HierarchicalDriving.FSM_Edge{String}(\"UnsafeOrUnsmooth\"),HierarchicalDriving.FSM_Node{Int64}(2))=>1.0,(HierarchicalDriving.FSM_Node{Int64}(4),HierarchicalDriving.FSM_Edge{String}(\"Reached\"),HierarchicalDriving.FSM_Node{Int64}(2))=>1.0,(HierarchicalDriving.FSM_Node{Int64}(2),HierarchicalDriving.FSM_Edge{String}(\"SafeSmooth\"),HierarchicalDriving.FSM_Node{Int64}(4))=>1.0,(HierarchicalDriving.FSM_Node{Int64}(1),HierarchicalDriving.FSM_Edge{String}(\"Undetermined\"),HierarchicalDriving.FSM_Node{Int64}(3))=>0.5,(HierarchicalDriving.FSM_Node{Int64}(1),HierarchicalDriving.FSM_Edge{String}(\"Undetermined\"),HierarchicalDriving.FSM_Node{Int64}(4))=>0.5,(HierarchicalDriving.FSM_Node{Int64}(3),HierarchicalDriving.FSM_Edge{String}(\"Undetermined\"),HierarchicalDriving.FSM_Node{Int64}(3))=>1.0,(HierarchicalDriving.FSM_Node{Int64}(1),HierarchicalDriving.FSM_Edge{String}(\"SafeSmooth\"),HierarchicalDriving.FSM_Node{Int64}(4))=>1.0,(HierarchicalDriving.FSM_Node{Int64}(3),HierarchicalDriving.FSM_Edge{String}(\"Reached\"),HierarchicalDriving.FSM_Node{Int64}(2))=>1.0,(HierarchicalDriving.FSM_Node{Int64}(3),HierarchicalDriving.FSM_Edge{String}(\"UnsafeOrUnsmooth\"),HierarchicalDriving.FSM_Node{Int64}(3))=>1.0,(HierarchicalDriving.FSM_Node{Int64}(2),HierarchicalDriving.FSM_Edge{String}(\"Undetermined\"),HierarchicalDriving.FSM_Node{Int64}(2))=>1.0…)),6.0,2.5),HierarchicalDriving.FSM_Node{Int64}(2)))],HierarchicalDriving.CarLocalIS[HierarchicalDriving.CarLocalIS{HierarchicalDriving.ParamCarModelL0}(HierarchicalDriving.CarPhysicalState((128.937,6.0,24.7183)),HierarchicalDriving.ParamCarModelL0(2,HierarchicalDriving.LowLevelCarFrameL0(HierarchicalDriving.IDMParam(1.4,2.0,1.5,25.0,1.0,4.0),HierarchicalDriving.MOBILParam(0.0,2.0,-1.5),HierarchicalDriving.FSM{Int64,Float64,String}(HierarchicalDriving.FSM_Node{Int64}[HierarchicalDriving.FSM_Node{Int64}(1),HierarchicalDriving.FSM_Node{Int64}(2),HierarchicalDriving.FSM_Node{Int64}(3),HierarchicalDriving.FSM_Node{Int64}(4)],HierarchicalDriving.FSM_Edge{String}[HierarchicalDriving.FSM_Edge{String}(\"Reached\"),HierarchicalDriving.FSM_Edge{String}(\"SafeSmooth\"),HierarchicalDriving.FSM_Edge{String}(\"UnsafeOrUnsmooth\"),HierarchicalDriving.FSM_Edge{String}(\"Undetermined\")],Dict((HierarchicalDriving.FSM_Node{Int64}(1),0.0)=>0.5,(HierarchicalDriving.FSM_Node{Int64}(1),2.0)=>0.5,(HierarchicalDriving.FSM_Node{Int64}(2),0.0)=>1.0,(HierarchicalDriving.FSM_Node{Int64}(3),-2.0)=>1.0,(HierarchicalDriving.FSM_Node{Int64}(4),2.0)=>1.0),Dict((HierarchicalDriving.FSM_Node{Int64}(2),HierarchicalDriving.FSM_Edge{String}(\"UnsafeOrUnsmooth\"),HierarchicalDriving.FSM_Node{Int64}(2))=>1.0,(HierarchicalDriving.FSM_Node{Int64}(4),HierarchicalDriving.FSM_Edge{String}(\"Reached\"),HierarchicalDriving.FSM_Node{Int64}(2))=>1.0,(HierarchicalDriving.FSM_Node{Int64}(2),HierarchicalDriving.FSM_Edge{String}(\"SafeSmooth\"),HierarchicalDriving.FSM_Node{Int64}(4))=>1.0,(HierarchicalDriving.FSM_Node{Int64}(1),HierarchicalDriving.FSM_Edge{String}(\"Undetermined\"),HierarchicalDriving.FSM_Node{Int64}(3))=>0.5,(HierarchicalDriving.FSM_Node{Int64}(1),HierarchicalDriving.FSM_Edge{String}(\"Undetermined\"),HierarchicalDriving.FSM_Node{Int64}(4))=>0.5,(HierarchicalDriving.FSM_Node{Int64}(3),HierarchicalDriving.FSM_Edge{String}(\"Undetermined\"),HierarchicalDriving.FSM_Node{Int64}(3))=>1.0,(HierarchicalDriving.FSM_Node{Int64}(1),HierarchicalDriving.FSM_Edge{String}(\"SafeSmooth\"),HierarchicalDriving.FSM_Node{Int64}(4))=>1.0,(HierarchicalDriving.FSM_Node{Int64}(3),HierarchicalDriving.FSM_Edge{String}(\"Reached\"),HierarchicalDriving.FSM_Node{Int64}(2))=>1.0,(HierarchicalDriving.FSM_Node{Int64}(3),HierarchicalDriving.FSM_Edge{String}(\"UnsafeOrUnsmooth\"),HierarchicalDriving.FSM_Node{Int64}(3))=>1.0,(HierarchicalDriving.FSM_Node{Int64}(2),HierarchicalDriving.FSM_Edge{String}(\"Undetermined\"),HierarchicalDriving.FSM_Node{Int64}(2))=>1.0…)),6.0,2.5),HierarchicalDriving.FSM_Node{Int64}(2))),HierarchicalDriving.CarLocalIS{HierarchicalDriving.ParamCarModelL0}(HierarchicalDriving.CarPhysicalState((-18.8393,6.0,25.6786)),HierarchicalDriving.ParamCarModelL0(2,HierarchicalDriving.LowLevelCarFrameL0(HierarchicalDriving.IDMParam(1.4,2.0,1.5,25.0,1.0,4.0),HierarchicalDriving.MOBILParam(0.0,2.0,-1.5),HierarchicalDriving.FSM{Int64,Float64,String}(HierarchicalDriving.FSM_Node{Int64}[HierarchicalDriving.FSM_Node{Int64}(1),HierarchicalDriving.FSM_Node{Int64}(2),HierarchicalDriving.FSM_Node{Int64}(3),HierarchicalDriving.FSM_Node{Int64}(4)],HierarchicalDriving.FSM_Edge{String}[HierarchicalDriving.FSM_Edge{String}(\"Reached\"),HierarchicalDriving.FSM_Edge{String}(\"SafeSmooth\"),HierarchicalDriving.FSM_Edge{String}(\"UnsafeOrUnsmooth\"),HierarchicalDriving.FSM_Edge{String}(\"Undetermined\")],Dict((HierarchicalDriving.FSM_Node{Int64}(1),0.0)=>0.5,(HierarchicalDriving.FSM_Node{Int64}(1),2.0)=>0.5,(HierarchicalDriving.FSM_Node{Int64}(2),0.0)=>1.0,(HierarchicalDriving.FSM_Node{Int64}(3),-2.0)=>1.0,(HierarchicalDriving.FSM_Node{Int64}(4),2.0)=>1.0),Dict((HierarchicalDriving.FSM_Node{Int64}(2),HierarchicalDriving.FSM_Edge{String}(\"UnsafeOrUnsmooth\"),HierarchicalDriving.FSM_Node{Int64}(2))=>1.0,(HierarchicalDriving.FSM_Node{Int64}(4),HierarchicalDriving.FSM_Edge{String}(\"Reached\"),HierarchicalDriving.FSM_Node{Int64}(2))=>1.0,(HierarchicalDriving.FSM_Node{Int64}(2),HierarchicalDriving.FSM_Edge{String}(\"SafeSmooth\"),HierarchicalDriving.FSM_Node{Int64}(4))=>1.0,(HierarchicalDriving.FSM_Node{Int64}(1),HierarchicalDriving.FSM_Edge{String}(\"Undetermined\"),HierarchicalDriving.FSM_Node{Int64}(3))=>0.5,(HierarchicalDriving.FSM_Node{Int64}(1),HierarchicalDriving.FSM_Edge{String}(\"Undetermined\"),HierarchicalDriving.FSM_Node{Int64}(4))=>0.5,(HierarchicalDriving.FSM_Node{Int64}(3),HierarchicalDriving.FSM_Edge{String}(\"Undetermined\"),HierarchicalDriving.FSM_Node{Int64}(3))=>1.0,(HierarchicalDriving.FSM_Node{Int64}(1),HierarchicalDriving.FSM_Edge{String}(\"SafeSmooth\"),HierarchicalDriving.FSM_Node{Int64}(4))=>1.0,(HierarchicalDriving.FSM_Node{Int64}(3),HierarchicalDriving.FSM_Edge{String}(\"Reached\"),HierarchicalDriving.FSM_Node{Int64}(2))=>1.0,(HierarchicalDriving.FSM_Node{Int64}(3),HierarchicalDriving.FSM_Edge{String}(\"UnsafeOrUnsmooth\"),HierarchicalDriving.FSM_Node{Int64}(3))=>1.0,(HierarchicalDriving.FSM_Node{Int64}(2),HierarchicalDriving.FSM_Edge{String}(\"Undetermined\"),HierarchicalDriving.FSM_Node{Int64}(2))=>1.0…)),6.0,2.5),HierarchicalDriving.FSM_Node{Int64}(2)))],HierarchicalDriving.CarLocalIS[],HierarchicalDriving.CarLocalIS[HierarchicalDriving.CarLocalIS{HierarchicalDriving.ParamCarModelL0}(HierarchicalDriving.CarPhysicalState((106.612,14.0,24.7542)),HierarchicalDriving.ParamCarModelL0(4,HierarchicalDriving.LowLevelCarFrameL0(HierarchicalDriving.IDMParam(1.4,2.0,1.5,22.7648,2.0,4.0),HierarchicalDriving.MOBILParam(0.0,2.0,-1.0),HierarchicalDriving.FSM{Int64,Float64,String}(HierarchicalDriving.FSM_Node{Int64}[HierarchicalDriving.FSM_Node{Int64}(1),HierarchicalDriving.FSM_Node{Int64}(2),HierarchicalDriving.FSM_Node{Int64}(3),HierarchicalDriving.FSM_Node{Int64}(4)],HierarchicalDriving.FSM_Edge{String}[HierarchicalDriving.FSM_Edge{String}(\"Reached\"),HierarchicalDriving.FSM_Edge{String}(\"SafeSmooth\"),HierarchicalDriving.FSM_Edge{String}(\"UnsafeOrUnsmooth\"),HierarchicalDriving.FSM_Edge{String}(\"Undetermined\")],Dict((HierarchicalDriving.FSM_Node{Int64}(1),0.0)=>0.5,(HierarchicalDriving.FSM_Node{Int64}(1),2.0)=>0.5,(HierarchicalDriving.FSM_Node{Int64}(2),0.0)=>1.0,(HierarchicalDriving.FSM_Node{Int64}(3),-2.0)=>1.0,(HierarchicalDriving.FSM_Node{Int64}(4),2.0)=>1.0),Dict((HierarchicalDriving.FSM_Node{Int64}(2),HierarchicalDriving.FSM_Edge{String}(\"UnsafeOrUnsmooth\"),HierarchicalDriving.FSM_Node{Int64}(2))=>1.0,(HierarchicalDriving.FSM_Node{Int64}(4),HierarchicalDriving.FSM_Edge{String}(\"Reached\"),HierarchicalDriving.FSM_Node{Int64}(2))=>1.0,(HierarchicalDriving.FSM_Node{Int64}(2),HierarchicalDriving.FSM_Edge{String}(\"SafeSmooth\"),HierarchicalDriving.FSM_Node{Int64}(4))=>1.0,(HierarchicalDriving.FSM_Node{Int64}(1),HierarchicalDriving.FSM_Edge{String}(\"Undetermined\"),HierarchicalDriving.FSM_Node{Int64}(3))=>0.5,(HierarchicalDriving.FSM_Node{Int64}(1),HierarchicalDriving.FSM_Edge{String}(\"Undetermined\"),HierarchicalDriving.FSM_Node{Int64}(4))=>0.5,(HierarchicalDriving.FSM_Node{Int64}(3),HierarchicalDriving.FSM_Edge{String}(\"Undetermined\"),HierarchicalDriving.FSM_Node{Int64}(3))=>1.0,(HierarchicalDriving.FSM_Node{Int64}(1),HierarchicalDriving.FSM_Edge{String}(\"SafeSmooth\"),HierarchicalDriving.FSM_Node{Int64}(4))=>1.0,(HierarchicalDriving.FSM_Node{Int64}(3),HierarchicalDriving.FSM_Edge{String}(\"Reached\"),HierarchicalDriving.FSM_Node{Int64}(2))=>1.0,(HierarchicalDriving.FSM_Node{Int64}(3),HierarchicalDriving.FSM_Edge{String}(\"UnsafeOrUnsmooth\"),HierarchicalDriving.FSM_Node{Int64}(3))=>1.0,(HierarchicalDriving.FSM_Node{Int64}(2),HierarchicalDriving.FSM_Edge{String}(\"Undetermined\"),HierarchicalDriving.FSM_Node{Int64}(2))=>1.0…)),6.0,2.5),HierarchicalDriving.FSM_Node{Int64}(2))),HierarchicalDriving.CarLocalIS{HierarchicalDriving.ParamCarModelL0}(HierarchicalDriving.CarPhysicalState((-28.3404,14.0,22.8721)),HierarchicalDriving.ParamCarModelL0(3,HierarchicalDriving.LowLevelCarFrameL0(HierarchicalDriving.IDMParam(1.4,2.0,1.5,22.7648,2.0,4.0),HierarchicalDriving.MOBILParam(0.0,2.0,-1.0),HierarchicalDriving.FSM{Int64,Float64,String}(HierarchicalDriving.FSM_Node{Int64}[HierarchicalDriving.FSM_Node{Int64}(1),HierarchicalDriving.FSM_Node{Int64}(2),HierarchicalDriving.FSM_Node{Int64}(3),HierarchicalDriving.FSM_Node{Int64}(4)],HierarchicalDriving.FSM_Edge{String}[HierarchicalDriving.FSM_Edge{String}(\"Reached\"),HierarchicalDriving.FSM_Edge{String}(\"SafeSmooth\"),HierarchicalDriving.FSM_Edge{String}(\"UnsafeOrUnsmooth\"),HierarchicalDriving.FSM_Edge{String}(\"Undetermined\")],Dict((HierarchicalDriving.FSM_Node{Int64}(1),0.0)=>0.5,(HierarchicalDriving.FSM_Node{Int64}(1),2.0)=>0.5,(HierarchicalDriving.FSM_Node{Int64}(2),0.0)=>1.0,(HierarchicalDriving.FSM_Node{Int64}(3),-2.0)=>1.0,(HierarchicalDriving.FSM_Node{Int64}(4),2.0)=>1.0),Dict((HierarchicalDriving.FSM_Node{Int64}(2),HierarchicalDriving.FSM_Edge{String}(\"UnsafeOrUnsmooth\"),HierarchicalDriving.FSM_Node{Int64}(2))=>1.0,(HierarchicalDriving.FSM_Node{Int64}(4),HierarchicalDriving.FSM_Edge{String}(\"Reached\"),HierarchicalDriving.FSM_Node{Int64}(2))=>1.0,(HierarchicalDriving.FSM_Node{Int64}(2),HierarchicalDriving.FSM_Edge{String}(\"SafeSmooth\"),HierarchicalDriving.FSM_Node{Int64}(4))=>1.0,(HierarchicalDriving.FSM_Node{Int64}(1),HierarchicalDriving.FSM_Edge{String}(\"Undetermined\"),HierarchicalDriving.FSM_Node{Int64}(3))=>0.5,(HierarchicalDriving.FSM_Node{Int64}(1),HierarchicalDriving.FSM_Edge{String}(\"Undetermined\"),HierarchicalDriving.FSM_Node{Int64}(4))=>0.5,(HierarchicalDriving.FSM_Node{Int64}(3),HierarchicalDriving.FSM_Edge{String}(\"Undetermined\"),HierarchicalDriving.FSM_Node{Int64}(3))=>1.0,(HierarchicalDriving.FSM_Node{Int64}(1),HierarchicalDriving.FSM_Edge{String}(\"SafeSmooth\"),HierarchicalDriving.FSM_Node{Int64}(4))=>1.0,(HierarchicalDriving.FSM_Node{Int64}(3),HierarchicalDriving.FSM_Edge{String}(\"Reached\"),HierarchicalDriving.FSM_Node{Int64}(2))=>1.0,(HierarchicalDriving.FSM_Node{Int64}(3),HierarchicalDriving.FSM_Edge{String}(\"UnsafeOrUnsmooth\"),HierarchicalDriving.FSM_Node{Int64}(3))=>1.0,(HierarchicalDriving.FSM_Node{Int64}(2),HierarchicalDriving.FSM_Edge{String}(\"Undetermined\"),HierarchicalDriving.FSM_Node{Int64}(2))=>1.0…)),6.0,2.5),HierarchicalDriving.FSM_Node{Int64}(3)))]],Dict{HierarchicalDriving.CarPhysicalState,Array{StaticArrays.SVector{2,HierarchicalDriving.CarPhysicalState},1}}()),AutoViz.SceneOverlay[HierarchicalDriving.CarVelOverlay(),HierarchicalDriving.CarIDOverlay()])"
      ]
     },
     "execution_count": 5,
     "metadata": {
      "comm_id": "82ef08b1-8b33-4ee9-a477-3da1af111096",
      "reactive": true
     },
     "output_type": "execute_result"
    }
   ],
   "source": [
    "i = 5\n",
    "#policy = RandomPolicy(p)\n",
    "policy = subintentional_lowlevel_policy(p);\n",
    "hr = HistoryRecorder(max_steps = p.HORIZON, rng = MersenneTwister(i));\n",
    "hist = simulate(hr, p, policy);\n",
    "@manipulate for i in 1:n_steps(hist)+1\n",
    "    (p,state_hist(hist)[i],SceneOverlay[CarVelOverlay(), CarIDOverlay()])\n",
    "end"
   ]
  },
  {
   "cell_type": "code",
   "execution_count": 15,
   "metadata": {
    "collapsed": false,
    "deletable": true,
    "editable": true
   },
   "outputs": [
    {
     "data": {
      "text/html": [],
      "text/plain": [
       "Interact.Options{:SelectionSlider,Int64}(Signal{Int64}(8, nactions=1),\"i\",8,\"8\",Interact.OptionDict(DataStructures.OrderedDict(\"1\"=>1,\"2\"=>2,\"3\"=>3,\"4\"=>4,\"5\"=>5,\"6\"=>6,\"7\"=>7,\"8\"=>8,\"9\"=>9,\"10\"=>10…),Dict(2=>\"2\",16=>\"16\",11=>\"11\",7=>\"7\",9=>\"9\",10=>\"10\",8=>\"8\",6=>\"6\",4=>\"4\",3=>\"3\"…)),Any[],Any[],true,\"horizontal\")"
      ]
     },
     "metadata": {},
     "output_type": "display_data"
    },
    {
     "data": {
      "image/png": "[encoded data removed]",
      "text/plain": [
       "(HierarchicalDriving.LowLevelMDP(0.99,0.3,15,HierarchicalDriving.RoadSegment((-100.0,500.0),[0.0,4.0,8.0,12.0,16.0]),HierarchicalDriving.CarPhysicalState((0.0,6.0,25.0)),(HierarchicalDriving.CarPhysicalState((90.0,9.5,20.0)),HierarchicalDriving.CarPhysicalState((135.0,10.5,30.0))),50.0,-500.0,-1.0,-5.0,-5.0,-1.0,HierarchicalDriving.LowLevelCarFrameL0[HierarchicalDriving.LowLevelCarFrameL0(HierarchicalDriving.IDMParam(1.4,2.0,1.5,22.7648,2.0,4.0),HierarchicalDriving.MOBILParam(0.0,2.0,-1.0),HierarchicalDriving.FSM{Int64,Float64,String}(HierarchicalDriving.FSM_Node{Int64}[HierarchicalDriving.FSM_Node{Int64}(1),HierarchicalDriving.FSM_Node{Int64}(2),HierarchicalDriving.FSM_Node{Int64}(3),HierarchicalDriving.FSM_Node{Int64}(4)],HierarchicalDriving.FSM_Edge{String}[HierarchicalDriving.FSM_Edge{String}(\"Reached\"),HierarchicalDriving.FSM_Edge{String}(\"SafeSmooth\"),HierarchicalDriving.FSM_Edge{String}(\"UnsafeOrUnsmooth\"),HierarchicalDriving.FSM_Edge{String}(\"Undetermined\")],Dict((HierarchicalDriving.FSM_Node{Int64}(1),0.0)=>0.5,(HierarchicalDriving.FSM_Node{Int64}(1),2.0)=>0.5,(HierarchicalDriving.FSM_Node{Int64}(2),0.0)=>1.0,(HierarchicalDriving.FSM_Node{Int64}(3),-2.0)=>1.0,(HierarchicalDriving.FSM_Node{Int64}(4),2.0)=>1.0),Dict((HierarchicalDriving.FSM_Node{Int64}(2),HierarchicalDriving.FSM_Edge{String}(\"UnsafeOrUnsmooth\"),HierarchicalDriving.FSM_Node{Int64}(2))=>1.0,(HierarchicalDriving.FSM_Node{Int64}(4),HierarchicalDriving.FSM_Edge{String}(\"Reached\"),HierarchicalDriving.FSM_Node{Int64}(2))=>1.0,(HierarchicalDriving.FSM_Node{Int64}(2),HierarchicalDriving.FSM_Edge{String}(\"SafeSmooth\"),HierarchicalDriving.FSM_Node{Int64}(4))=>1.0,(HierarchicalDriving.FSM_Node{Int64}(1),HierarchicalDriving.FSM_Edge{String}(\"Undetermined\"),HierarchicalDriving.FSM_Node{Int64}(3))=>0.5,(HierarchicalDriving.FSM_Node{Int64}(1),HierarchicalDriving.FSM_Edge{String}(\"Undetermined\"),HierarchicalDriving.FSM_Node{Int64}(4))=>0.5,(HierarchicalDriving.FSM_Node{Int64}(3),HierarchicalDriving.FSM_Edge{String}(\"Undetermined\"),HierarchicalDriving.FSM_Node{Int64}(3))=>1.0,(HierarchicalDriving.FSM_Node{Int64}(1),HierarchicalDriving.FSM_Edge{String}(\"SafeSmooth\"),HierarchicalDriving.FSM_Node{Int64}(4))=>1.0,(HierarchicalDriving.FSM_Node{Int64}(3),HierarchicalDriving.FSM_Edge{String}(\"Reached\"),HierarchicalDriving.FSM_Node{Int64}(2))=>1.0,(HierarchicalDriving.FSM_Node{Int64}(3),HierarchicalDriving.FSM_Edge{String}(\"UnsafeOrUnsmooth\"),HierarchicalDriving.FSM_Node{Int64}(3))=>1.0,(HierarchicalDriving.FSM_Node{Int64}(2),HierarchicalDriving.FSM_Edge{String}(\"Undetermined\"),HierarchicalDriving.FSM_Node{Int64}(2))=>1.0…)),6.0,2.5),HierarchicalDriving.LowLevelCarFrameL0(HierarchicalDriving.IDMParam(1.4,2.0,1.5,25.0,1.0,4.0),HierarchicalDriving.MOBILParam(0.0,2.0,-1.5),HierarchicalDriving.FSM{Int64,Float64,String}(HierarchicalDriving.FSM_Node{Int64}[HierarchicalDriving.FSM_Node{Int64}(1),HierarchicalDriving.FSM_Node{Int64}(2),HierarchicalDriving.FSM_Node{Int64}(3),HierarchicalDriving.FSM_Node{Int64}(4)],HierarchicalDriving.FSM_Edge{String}[HierarchicalDriving.FSM_Edge{String}(\"Reached\"),HierarchicalDriving.FSM_Edge{String}(\"SafeSmooth\"),HierarchicalDriving.FSM_Edge{String}(\"UnsafeOrUnsmooth\"),HierarchicalDriving.FSM_Edge{String}(\"Undetermined\")],Dict((HierarchicalDriving.FSM_Node{Int64}(1),0.0)=>0.5,(HierarchicalDriving.FSM_Node{Int64}(1),2.0)=>0.5,(HierarchicalDriving.FSM_Node{Int64}(2),0.0)=>1.0,(HierarchicalDriving.FSM_Node{Int64}(3),-2.0)=>1.0,(HierarchicalDriving.FSM_Node{Int64}(4),2.0)=>1.0),Dict((HierarchicalDriving.FSM_Node{Int64}(2),HierarchicalDriving.FSM_Edge{String}(\"UnsafeOrUnsmooth\"),HierarchicalDriving.FSM_Node{Int64}(2))=>1.0,(HierarchicalDriving.FSM_Node{Int64}(4),HierarchicalDriving.FSM_Edge{String}(\"Reached\"),HierarchicalDriving.FSM_Node{Int64}(2))=>1.0,(HierarchicalDriving.FSM_Node{Int64}(2),HierarchicalDriving.FSM_Edge{String}(\"SafeSmooth\"),HierarchicalDriving.FSM_Node{Int64}(4))=>1.0,(HierarchicalDriving.FSM_Node{Int64}(1),HierarchicalDriving.FSM_Edge{String}(\"Undetermined\"),HierarchicalDriving.FSM_Node{Int64}(3))=>0.5,(HierarchicalDriving.FSM_Node{Int64}(1),HierarchicalDriving.FSM_Edge{String}(\"Undetermined\"),HierarchicalDriving.FSM_Node{Int64}(4))=>0.5,(HierarchicalDriving.FSM_Node{Int64}(3),HierarchicalDriving.FSM_Edge{String}(\"Undetermined\"),HierarchicalDriving.FSM_Node{Int64}(3))=>1.0,(HierarchicalDriving.FSM_Node{Int64}(1),HierarchicalDriving.FSM_Edge{String}(\"SafeSmooth\"),HierarchicalDriving.FSM_Node{Int64}(4))=>1.0,(HierarchicalDriving.FSM_Node{Int64}(3),HierarchicalDriving.FSM_Edge{String}(\"Reached\"),HierarchicalDriving.FSM_Node{Int64}(2))=>1.0,(HierarchicalDriving.FSM_Node{Int64}(3),HierarchicalDriving.FSM_Edge{String}(\"UnsafeOrUnsmooth\"),HierarchicalDriving.FSM_Node{Int64}(3))=>1.0,(HierarchicalDriving.FSM_Node{Int64}(2),HierarchicalDriving.FSM_Edge{String}(\"Undetermined\"),HierarchicalDriving.FSM_Node{Int64}(2))=>1.0…)),6.0,2.5),HierarchicalDriving.LowLevelCarFrameL0(HierarchicalDriving.IDMParam(1.4,2.0,1.5,27.2352,0.5,4.0),HierarchicalDriving.MOBILParam(0.0,2.0,-2.0),HierarchicalDriving.FSM{Int64,Float64,String}(HierarchicalDriving.FSM_Node{Int64}[HierarchicalDriving.FSM_Node{Int64}(1),HierarchicalDriving.FSM_Node{Int64}(2),HierarchicalDriving.FSM_Node{Int64}(3),HierarchicalDriving.FSM_Node{Int64}(4)],HierarchicalDriving.FSM_Edge{String}[HierarchicalDriving.FSM_Edge{String}(\"Reached\"),HierarchicalDriving.FSM_Edge{String}(\"SafeSmooth\"),HierarchicalDriving.FSM_Edge{String}(\"UnsafeOrUnsmooth\"),HierarchicalDriving.FSM_Edge{String}(\"Undetermined\")],Dict((HierarchicalDriving.FSM_Node{Int64}(1),0.0)=>0.5,(HierarchicalDriving.FSM_Node{Int64}(1),2.0)=>0.5,(HierarchicalDriving.FSM_Node{Int64}(2),0.0)=>1.0,(HierarchicalDriving.FSM_Node{Int64}(3),-2.0)=>1.0,(HierarchicalDriving.FSM_Node{Int64}(4),2.0)=>1.0),Dict((HierarchicalDriving.FSM_Node{Int64}(2),HierarchicalDriving.FSM_Edge{String}(\"UnsafeOrUnsmooth\"),HierarchicalDriving.FSM_Node{Int64}(2))=>1.0,(HierarchicalDriving.FSM_Node{Int64}(4),HierarchicalDriving.FSM_Edge{String}(\"Reached\"),HierarchicalDriving.FSM_Node{Int64}(2))=>1.0,(HierarchicalDriving.FSM_Node{Int64}(2),HierarchicalDriving.FSM_Edge{String}(\"SafeSmooth\"),HierarchicalDriving.FSM_Node{Int64}(4))=>1.0,(HierarchicalDriving.FSM_Node{Int64}(1),HierarchicalDriving.FSM_Edge{String}(\"Undetermined\"),HierarchicalDriving.FSM_Node{Int64}(3))=>0.5,(HierarchicalDriving.FSM_Node{Int64}(1),HierarchicalDriving.FSM_Edge{String}(\"Undetermined\"),HierarchicalDriving.FSM_Node{Int64}(4))=>0.5,(HierarchicalDriving.FSM_Node{Int64}(3),HierarchicalDriving.FSM_Edge{String}(\"Undetermined\"),HierarchicalDriving.FSM_Node{Int64}(3))=>1.0,(HierarchicalDriving.FSM_Node{Int64}(1),HierarchicalDriving.FSM_Edge{String}(\"SafeSmooth\"),HierarchicalDriving.FSM_Node{Int64}(4))=>1.0,(HierarchicalDriving.FSM_Node{Int64}(3),HierarchicalDriving.FSM_Edge{String}(\"Reached\"),HierarchicalDriving.FSM_Node{Int64}(2))=>1.0,(HierarchicalDriving.FSM_Node{Int64}(3),HierarchicalDriving.FSM_Edge{String}(\"UnsafeOrUnsmooth\"),HierarchicalDriving.FSM_Node{Int64}(3))=>1.0,(HierarchicalDriving.FSM_Node{Int64}(2),HierarchicalDriving.FSM_Edge{String}(\"Undetermined\"),HierarchicalDriving.FSM_Node{Int64}(2))=>1.0…)),6.0,2.5)]),HierarchicalDriving.GlobalStateL1{HierarchicalDriving.CarLocalIS}(0,HierarchicalDriving.CarPhysicalState((47.90041113923642,6.6,19.31181719372292)),Array{HierarchicalDriving.CarLocalIS,1}[HierarchicalDriving.CarLocalIS[HierarchicalDriving.CarLocalIS{HierarchicalDriving.ParamCarModelL0}(HierarchicalDriving.CarPhysicalState((38.8004,2.0,22.8819)),HierarchicalDriving.ParamCarModelL0(1,HierarchicalDriving.LowLevelCarFrameL0(HierarchicalDriving.IDMParam(1.4,2.0,1.5,27.2352,0.5,4.0),HierarchicalDriving.MOBILParam(0.0,2.0,-2.0),HierarchicalDriving.FSM{Int64,Float64,String}(HierarchicalDriving.FSM_Node{Int64}[HierarchicalDriving.FSM_Node{Int64}(1),HierarchicalDriving.FSM_Node{Int64}(2),HierarchicalDriving.FSM_Node{Int64}(3),HierarchicalDriving.FSM_Node{Int64}(4)],HierarchicalDriving.FSM_Edge{String}[HierarchicalDriving.FSM_Edge{String}(\"Reached\"),HierarchicalDriving.FSM_Edge{String}(\"SafeSmooth\"),HierarchicalDriving.FSM_Edge{String}(\"UnsafeOrUnsmooth\"),HierarchicalDriving.FSM_Edge{String}(\"Undetermined\")],Dict((HierarchicalDriving.FSM_Node{Int64}(1),0.0)=>0.5,(HierarchicalDriving.FSM_Node{Int64}(1),2.0)=>0.5,(HierarchicalDriving.FSM_Node{Int64}(2),0.0)=>1.0,(HierarchicalDriving.FSM_Node{Int64}(3),-2.0)=>1.0,(HierarchicalDriving.FSM_Node{Int64}(4),2.0)=>1.0),Dict((HierarchicalDriving.FSM_Node{Int64}(2),HierarchicalDriving.FSM_Edge{String}(\"UnsafeOrUnsmooth\"),HierarchicalDriving.FSM_Node{Int64}(2))=>1.0,(HierarchicalDriving.FSM_Node{Int64}(4),HierarchicalDriving.FSM_Edge{String}(\"Reached\"),HierarchicalDriving.FSM_Node{Int64}(2))=>1.0,(HierarchicalDriving.FSM_Node{Int64}(2),HierarchicalDriving.FSM_Edge{String}(\"SafeSmooth\"),HierarchicalDriving.FSM_Node{Int64}(4))=>1.0,(HierarchicalDriving.FSM_Node{Int64}(1),HierarchicalDriving.FSM_Edge{String}(\"Undetermined\"),HierarchicalDriving.FSM_Node{Int64}(3))=>0.5,(HierarchicalDriving.FSM_Node{Int64}(1),HierarchicalDriving.FSM_Edge{String}(\"Undetermined\"),HierarchicalDriving.FSM_Node{Int64}(4))=>0.5,(HierarchicalDriving.FSM_Node{Int64}(3),HierarchicalDriving.FSM_Edge{String}(\"Undetermined\"),HierarchicalDriving.FSM_Node{Int64}(3))=>1.0,(HierarchicalDriving.FSM_Node{Int64}(1),HierarchicalDriving.FSM_Edge{String}(\"SafeSmooth\"),HierarchicalDriving.FSM_Node{Int64}(4))=>1.0,(HierarchicalDriving.FSM_Node{Int64}(3),HierarchicalDriving.FSM_Edge{String}(\"Reached\"),HierarchicalDriving.FSM_Node{Int64}(2))=>1.0,(HierarchicalDriving.FSM_Node{Int64}(3),HierarchicalDriving.FSM_Edge{String}(\"UnsafeOrUnsmooth\"),HierarchicalDriving.FSM_Node{Int64}(3))=>1.0,(HierarchicalDriving.FSM_Node{Int64}(2),HierarchicalDriving.FSM_Edge{String}(\"Undetermined\"),HierarchicalDriving.FSM_Node{Int64}(2))=>1.0…)),6.0,2.5),HierarchicalDriving.FSM_Node{Int64}(2)))],HierarchicalDriving.CarLocalIS[HierarchicalDriving.CarLocalIS{HierarchicalDriving.ParamCarModelL0}(HierarchicalDriving.CarPhysicalState((-18.059,6.0,22.0178)),HierarchicalDriving.ParamCarModelL0(3,HierarchicalDriving.LowLevelCarFrameL0(HierarchicalDriving.IDMParam(1.4,2.0,1.5,22.7648,2.0,4.0),HierarchicalDriving.MOBILParam(0.0,2.0,-1.0),HierarchicalDriving.FSM{Int64,Float64,String}(HierarchicalDriving.FSM_Node{Int64}[HierarchicalDriving.FSM_Node{Int64}(1),HierarchicalDriving.FSM_Node{Int64}(2),HierarchicalDriving.FSM_Node{Int64}(3),HierarchicalDriving.FSM_Node{Int64}(4)],HierarchicalDriving.FSM_Edge{String}[HierarchicalDriving.FSM_Edge{String}(\"Reached\"),HierarchicalDriving.FSM_Edge{String}(\"SafeSmooth\"),HierarchicalDriving.FSM_Edge{String}(\"UnsafeOrUnsmooth\"),HierarchicalDriving.FSM_Edge{String}(\"Undetermined\")],Dict((HierarchicalDriving.FSM_Node{Int64}(1),0.0)=>0.5,(HierarchicalDriving.FSM_Node{Int64}(1),2.0)=>0.5,(HierarchicalDriving.FSM_Node{Int64}(2),0.0)=>1.0,(HierarchicalDriving.FSM_Node{Int64}(3),-2.0)=>1.0,(HierarchicalDriving.FSM_Node{Int64}(4),2.0)=>1.0),Dict((HierarchicalDriving.FSM_Node{Int64}(2),HierarchicalDriving.FSM_Edge{String}(\"UnsafeOrUnsmooth\"),HierarchicalDriving.FSM_Node{Int64}(2))=>1.0,(HierarchicalDriving.FSM_Node{Int64}(4),HierarchicalDriving.FSM_Edge{String}(\"Reached\"),HierarchicalDriving.FSM_Node{Int64}(2))=>1.0,(HierarchicalDriving.FSM_Node{Int64}(2),HierarchicalDriving.FSM_Edge{String}(\"SafeSmooth\"),HierarchicalDriving.FSM_Node{Int64}(4))=>1.0,(HierarchicalDriving.FSM_Node{Int64}(1),HierarchicalDriving.FSM_Edge{String}(\"Undetermined\"),HierarchicalDriving.FSM_Node{Int64}(3))=>0.5,(HierarchicalDriving.FSM_Node{Int64}(1),HierarchicalDriving.FSM_Edge{String}(\"Undetermined\"),HierarchicalDriving.FSM_Node{Int64}(4))=>0.5,(HierarchicalDriving.FSM_Node{Int64}(3),HierarchicalDriving.FSM_Edge{String}(\"Undetermined\"),HierarchicalDriving.FSM_Node{Int64}(3))=>1.0,(HierarchicalDriving.FSM_Node{Int64}(1),HierarchicalDriving.FSM_Edge{String}(\"SafeSmooth\"),HierarchicalDriving.FSM_Node{Int64}(4))=>1.0,(HierarchicalDriving.FSM_Node{Int64}(3),HierarchicalDriving.FSM_Edge{String}(\"Reached\"),HierarchicalDriving.FSM_Node{Int64}(2))=>1.0,(HierarchicalDriving.FSM_Node{Int64}(3),HierarchicalDriving.FSM_Edge{String}(\"UnsafeOrUnsmooth\"),HierarchicalDriving.FSM_Node{Int64}(3))=>1.0,(HierarchicalDriving.FSM_Node{Int64}(2),HierarchicalDriving.FSM_Edge{String}(\"Undetermined\"),HierarchicalDriving.FSM_Node{Int64}(2))=>1.0…)),6.0,2.5),HierarchicalDriving.FSM_Node{Int64}(3)))],HierarchicalDriving.CarLocalIS[HierarchicalDriving.CarLocalIS{HierarchicalDriving.ParamCarModelL0}(HierarchicalDriving.CarPhysicalState((68.1727,10.0,21.4245)),HierarchicalDriving.ParamCarModelL0(3,HierarchicalDriving.LowLevelCarFrameL0(HierarchicalDriving.IDMParam(1.4,2.0,1.5,22.7648,2.0,4.0),HierarchicalDriving.MOBILParam(0.0,2.0,-1.0),HierarchicalDriving.FSM{Int64,Float64,String}(HierarchicalDriving.FSM_Node{Int64}[HierarchicalDriving.FSM_Node{Int64}(1),HierarchicalDriving.FSM_Node{Int64}(2),HierarchicalDriving.FSM_Node{Int64}(3),HierarchicalDriving.FSM_Node{Int64}(4)],HierarchicalDriving.FSM_Edge{String}[HierarchicalDriving.FSM_Edge{String}(\"Reached\"),HierarchicalDriving.FSM_Edge{String}(\"SafeSmooth\"),HierarchicalDriving.FSM_Edge{String}(\"UnsafeOrUnsmooth\"),HierarchicalDriving.FSM_Edge{String}(\"Undetermined\")],Dict((HierarchicalDriving.FSM_Node{Int64}(1),0.0)=>0.5,(HierarchicalDriving.FSM_Node{Int64}(1),2.0)=>0.5,(HierarchicalDriving.FSM_Node{Int64}(2),0.0)=>1.0,(HierarchicalDriving.FSM_Node{Int64}(3),-2.0)=>1.0,(HierarchicalDriving.FSM_Node{Int64}(4),2.0)=>1.0),Dict((HierarchicalDriving.FSM_Node{Int64}(2),HierarchicalDriving.FSM_Edge{String}(\"UnsafeOrUnsmooth\"),HierarchicalDriving.FSM_Node{Int64}(2))=>1.0,(HierarchicalDriving.FSM_Node{Int64}(4),HierarchicalDriving.FSM_Edge{String}(\"Reached\"),HierarchicalDriving.FSM_Node{Int64}(2))=>1.0,(HierarchicalDriving.FSM_Node{Int64}(2),HierarchicalDriving.FSM_Edge{String}(\"SafeSmooth\"),HierarchicalDriving.FSM_Node{Int64}(4))=>1.0,(HierarchicalDriving.FSM_Node{Int64}(1),HierarchicalDriving.FSM_Edge{String}(\"Undetermined\"),HierarchicalDriving.FSM_Node{Int64}(3))=>0.5,(HierarchicalDriving.FSM_Node{Int64}(1),HierarchicalDriving.FSM_Edge{String}(\"Undetermined\"),HierarchicalDriving.FSM_Node{Int64}(4))=>0.5,(HierarchicalDriving.FSM_Node{Int64}(3),HierarchicalDriving.FSM_Edge{String}(\"Undetermined\"),HierarchicalDriving.FSM_Node{Int64}(3))=>1.0,(HierarchicalDriving.FSM_Node{Int64}(1),HierarchicalDriving.FSM_Edge{String}(\"SafeSmooth\"),HierarchicalDriving.FSM_Node{Int64}(4))=>1.0,(HierarchicalDriving.FSM_Node{Int64}(3),HierarchicalDriving.FSM_Edge{String}(\"Reached\"),HierarchicalDriving.FSM_Node{Int64}(2))=>1.0,(HierarchicalDriving.FSM_Node{Int64}(3),HierarchicalDriving.FSM_Edge{String}(\"UnsafeOrUnsmooth\"),HierarchicalDriving.FSM_Node{Int64}(3))=>1.0,(HierarchicalDriving.FSM_Node{Int64}(2),HierarchicalDriving.FSM_Edge{String}(\"Undetermined\"),HierarchicalDriving.FSM_Node{Int64}(2))=>1.0…)),6.0,2.5),HierarchicalDriving.FSM_Node{Int64}(2)))],HierarchicalDriving.CarLocalIS[HierarchicalDriving.CarLocalIS{HierarchicalDriving.ParamCarModelL0}(HierarchicalDriving.CarPhysicalState((-16.0206,14.0,25.4458)),HierarchicalDriving.ParamCarModelL0(4,HierarchicalDriving.LowLevelCarFrameL0(HierarchicalDriving.IDMParam(1.4,2.0,1.5,25.0,1.0,4.0),HierarchicalDriving.MOBILParam(0.0,2.0,-1.5),HierarchicalDriving.FSM{Int64,Float64,String}(HierarchicalDriving.FSM_Node{Int64}[HierarchicalDriving.FSM_Node{Int64}(1),HierarchicalDriving.FSM_Node{Int64}(2),HierarchicalDriving.FSM_Node{Int64}(3),HierarchicalDriving.FSM_Node{Int64}(4)],HierarchicalDriving.FSM_Edge{String}[HierarchicalDriving.FSM_Edge{String}(\"Reached\"),HierarchicalDriving.FSM_Edge{String}(\"SafeSmooth\"),HierarchicalDriving.FSM_Edge{String}(\"UnsafeOrUnsmooth\"),HierarchicalDriving.FSM_Edge{String}(\"Undetermined\")],Dict((HierarchicalDriving.FSM_Node{Int64}(1),0.0)=>0.5,(HierarchicalDriving.FSM_Node{Int64}(1),2.0)=>0.5,(HierarchicalDriving.FSM_Node{Int64}(2),0.0)=>1.0,(HierarchicalDriving.FSM_Node{Int64}(3),-2.0)=>1.0,(HierarchicalDriving.FSM_Node{Int64}(4),2.0)=>1.0),Dict((HierarchicalDriving.FSM_Node{Int64}(2),HierarchicalDriving.FSM_Edge{String}(\"UnsafeOrUnsmooth\"),HierarchicalDriving.FSM_Node{Int64}(2))=>1.0,(HierarchicalDriving.FSM_Node{Int64}(4),HierarchicalDriving.FSM_Edge{String}(\"Reached\"),HierarchicalDriving.FSM_Node{Int64}(2))=>1.0,(HierarchicalDriving.FSM_Node{Int64}(2),HierarchicalDriving.FSM_Edge{String}(\"SafeSmooth\"),HierarchicalDriving.FSM_Node{Int64}(4))=>1.0,(HierarchicalDriving.FSM_Node{Int64}(1),HierarchicalDriving.FSM_Edge{String}(\"Undetermined\"),HierarchicalDriving.FSM_Node{Int64}(3))=>0.5,(HierarchicalDriving.FSM_Node{Int64}(1),HierarchicalDriving.FSM_Edge{String}(\"Undetermined\"),HierarchicalDriving.FSM_Node{Int64}(4))=>0.5,(HierarchicalDriving.FSM_Node{Int64}(3),HierarchicalDriving.FSM_Edge{String}(\"Undetermined\"),HierarchicalDriving.FSM_Node{Int64}(3))=>1.0,(HierarchicalDriving.FSM_Node{Int64}(1),HierarchicalDriving.FSM_Edge{String}(\"SafeSmooth\"),HierarchicalDriving.FSM_Node{Int64}(4))=>1.0,(HierarchicalDriving.FSM_Node{Int64}(3),HierarchicalDriving.FSM_Edge{String}(\"Reached\"),HierarchicalDriving.FSM_Node{Int64}(2))=>1.0,(HierarchicalDriving.FSM_Node{Int64}(3),HierarchicalDriving.FSM_Edge{String}(\"UnsafeOrUnsmooth\"),HierarchicalDriving.FSM_Node{Int64}(3))=>1.0,(HierarchicalDriving.FSM_Node{Int64}(2),HierarchicalDriving.FSM_Edge{String}(\"Undetermined\"),HierarchicalDriving.FSM_Node{Int64}(2))=>1.0…)),6.0,2.5),HierarchicalDriving.FSM_Node{Int64}(2)))]],Dict{HierarchicalDriving.CarPhysicalState,Array{StaticArrays.SVector{2,HierarchicalDriving.CarPhysicalState},1}}()))"
      ]
     },
     "execution_count": 15,
     "metadata": {
      "comm_id": "aef18112-6da3-4771-9244-dcbdcd40e6be",
      "reactive": true
     },
     "output_type": "execute_result"
    }
   ],
   "source": [
    "solver = DPWSolver(depth=p.HORIZON,\n",
    "                           exploration_constant=10.0,\n",
    "                           n_iterations=1_000,\n",
    "                           k_action=10.0,\n",
    "                           alpha_action=1/10,\n",
    "                           k_state=5.0,\n",
    "                           alpha_state=1/10,\n",
    "                           estimate_value=RolloutEstimator(subintentional_lowlevel_policy(p))\n",
    "                          )\n",
    "policy1 = solve(solver, p)\n",
    "hr1 = HistoryRecorder(max_steps = p.HORIZON, rng = MersenneTwister(i))\n",
    "hist1 = simulate(hr1, p, policy1);\n",
    "@manipulate for i in 1:n_steps(hist1)+1\n",
    "    (p,state_hist(hist1)[i])\n",
    "end"
   ]
  },
  {
   "cell_type": "code",
   "execution_count": 5,
   "metadata": {
    "collapsed": false,
    "deletable": true,
    "editable": true
   },
   "outputs": [
    {
     "name": "stdout",
     "output_type": "stream",
     "text": [
      "HierarchicalDriving.CarPhysicalState((64.31508314322822,10.199999999999998,26.36390749962482))\n"
     ]
    }
   ],
   "source": [
    "sh = state_hist(hist1)[end]\n",
    "println(sh.ego)"
   ]
  },
  {
   "cell_type": "code",
   "execution_count": 6,
   "metadata": {
    "collapsed": false,
    "deletable": true,
    "editable": true
   },
   "outputs": [
    {
     "data": {
      "text/plain": [
       "0.0"
      ]
     },
     "execution_count": 6,
     "metadata": {},
     "output_type": "execute_result"
    }
   ],
   "source": [
    "discounted_reward(hist)"
   ]
  },
  {
   "cell_type": "code",
   "execution_count": 6,
   "metadata": {
    "collapsed": false,
    "deletable": true,
    "editable": true
   },
   "outputs": [
    {
     "data": {
      "text/plain": [
       "34.123558845652454"
      ]
     },
     "execution_count": 6,
     "metadata": {},
     "output_type": "execute_result"
    }
   ],
   "source": [
    "discounted_reward(hist1)"
   ]
  },
  {
   "cell_type": "code",
   "execution_count": null,
   "metadata": {
    "collapsed": true,
    "deletable": true,
    "editable": true
   },
   "outputs": [],
   "source": []
  }
 ],
 "metadata": {
  "anaconda-cloud": {},
  "kernelspec": {
   "display_name": "Julia 0.5.0",
   "language": "julia",
   "name": "julia-0.5"
  },
  "language_info": {
   "file_extension": ".jl",
   "mimetype": "application/julia",
   "name": "julia",
   "version": "0.5.0"
  },
  "widgets": {
   "state": {
    "8d647f31-1570-477e-a797-0439a6ae7c3d": {
     "views": [
      {
       "cell_index": 4
      }
     ]
    }
   },
   "version": "1.2.0"
  }
 },
 "nbformat": 4,
 "nbformat_minor": 1
}
