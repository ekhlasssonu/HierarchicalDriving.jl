{
 "cells": [
  {
   "cell_type": "code",
   "execution_count": 1,
   "metadata": {
    "collapsed": false,
    "deletable": true,
    "editable": true
   },
   "outputs": [
    {
     "data": {
      "text/html": [
       "<div id=\"interact-js-shim\">\n",
       "    <script charset=\"utf-8\">\n",
       "(function (IPython, $, _, MathJax) {\n",
       "    $.event.special.destroyed = {\n",
       "\tremove: function(o) {\n",
       "\t    if (o.handler) {\n",
       "\t\to.handler.apply(this, arguments)\n",
       "\t    }\n",
       "\t}\n",
       "    }\n",
       "\n",
       "    var OutputArea = IPython.version >= \"4.0.0\" ? require(\"notebook/js/outputarea\").OutputArea : IPython.OutputArea;\n",
       "\n",
       "    var redrawValue = function (container, type, val) {\n",
       "\tvar selector = $(\"<div/>\");\n",
       "\tvar oa = new OutputArea(_.extend(selector, {\n",
       "\t    selector: selector,\n",
       "\t    prompt_area: true,\n",
       "\t    events: IPython.events,\n",
       "\t    keyboard_manager: IPython.keyboard_manager\n",
       "\t})); // Hack to work with IPython 2.1.0\n",
       "\n",
       "\tswitch (type) {\n",
       "\tcase \"image/png\":\n",
       "            var _src = 'data:' + type + ';base64,' + val;\n",
       "\t    $(container).find(\"img\").attr('src', _src);\n",
       "\t    break;\n",
       "\tcase \"text/latex\":\n",
       "\t\tif (MathJax){\n",
       "\t\t\tvar math = MathJax.Hub.getAllJax(container)[0];\n",
       "\t\t\tMathJax.Hub.Queue([\"Text\", math, val.replace(/^\\${1,2}|\\${1,2}$/g, '')]);\n",
       "\t\t\tbreak;\n",
       "\t\t}\n",
       "\tdefault:\n",
       "\t    var toinsert = OutputArea.append_map[type].apply(\n",
       "\t\toa, [val, {}, selector]\n",
       "\t    );\n",
       "\t    $(container).empty().append(toinsert.contents());\n",
       "\t    selector.remove();\n",
       "\t}\n",
       "    }\n",
       "\n",
       "\n",
       "    $(document).ready(function() {\n",
       "\tfunction initComm(evt, data) {\n",
       "\t    var comm_manager = data.kernel.comm_manager;\n",
       "        //_.extend(comm_manager.targets, require(\"widgets/js/widget\"))\n",
       "\t    comm_manager.register_target(\"Signal\", function (comm) {\n",
       "            comm.on_msg(function (msg) {\n",
       "                var val = msg.content.data.value;\n",
       "                $(\".signal-\" + comm.comm_id).each(function() {\n",
       "                var type = $(this).data(\"type\");\n",
       "                if (typeof(val[type]) !== \"undefined\" && val[type] !== null) {\n",
       "                    redrawValue(this, type, val[type], type);\n",
       "                }\n",
       "                });\n",
       "                delete val;\n",
       "                delete msg.content.data.value;\n",
       "            });\n",
       "\t    });\n",
       "\n",
       "\t    // coordingate with Comm and redraw Signals\n",
       "\t    // XXX: Test using Reactive here to improve performance\n",
       "\t    $([IPython.events]).on(\n",
       "\t\t'output_appended.OutputArea', function (event, type, value, md, toinsert) {\n",
       "\t\t    if (md && md.reactive) {\n",
       "                // console.log(md.comm_id);\n",
       "                toinsert.addClass(\"signal-\" + md.comm_id);\n",
       "                toinsert.data(\"type\", type);\n",
       "                // Signal back indicating the mimetype required\n",
       "                var comm_manager = IPython.notebook.kernel.comm_manager;\n",
       "                var comm = comm_manager.comms[md.comm_id];\n",
       "                comm.then(function (c) {\n",
       "                    c.send({action: \"subscribe_mime\",\n",
       "                       mime: type});\n",
       "                    toinsert.bind(\"destroyed\", function() {\n",
       "                        c.send({action: \"unsubscribe_mime\",\n",
       "                               mime: type});\n",
       "                    });\n",
       "                })\n",
       "\t\t    }\n",
       "\t    });\n",
       "\t}\n",
       "\n",
       "\ttry {\n",
       "\t    // try to initialize right away. otherwise, wait on the status_started event.\n",
       "\t    initComm(undefined, IPython.notebook);\n",
       "\t} catch (e) {\n",
       "\t    $([IPython.events]).on('kernel_created.Kernel kernel_created.Session', initComm);\n",
       "\t}\n",
       "    });\n",
       "})(IPython, jQuery, _, MathJax);\n",
       "</script>\n",
       "    <script>\n",
       "        window.interactLoadedFlag = true\n",
       "       $(\"#interact-js-shim\").bind(\"destroyed\", function () {\n",
       "           if (window.interactLoadedFlag) {\n",
       "               console.warn(\"JavaScript required by Interact will be removed if you remove this cell or run using Interact more than once.\")\n",
       "           }\n",
       "       })\n",
       "       $([IPython.events]).on(\"kernel_starting.Kernel kernel_restarting.Kernel\", function () { window.interactLoadedFlag = false })\n",
       "   </script>\n",
       "</div>"
      ]
     },
     "metadata": {},
     "output_type": "display_data"
    },
    {
     "name": "stderr",
     "output_type": "stream",
     "text": [
      "WARNING: using POMDPToolbox.create_policy in module HierarchicalDriving conflicts with an existing identifier.\n"
     ]
    }
   ],
   "source": [
    "using HierarchicalDriving\n",
    "import POMDPs:initial_state\n",
    "using POMDPToolbox\n",
    "using Interact\n",
    "using MCTS\n",
    "using AutoViz\n",
    "import ParticleFilters: obs_weight"
   ]
  },
  {
   "cell_type": "code",
   "execution_count": 5,
   "metadata": {
    "collapsed": false,
    "deletable": true,
    "editable": true
   },
   "outputs": [],
   "source": [
    "HORIZON = 10\n",
    "TIME_STEP = 0.3\n",
    "lb_x = (AVG_HWY_VELOCITY - 5.0) * TIME_STEP * HORIZON\n",
    "ub_x = (AVG_HWY_VELOCITY + 5.0) * TIME_STEP * HORIZON\n",
    "p = LowLevelMDP(0.99,TIME_STEP, HORIZON,\n",
    "                            [0.0, LANE_WIDTH, 2.0 * LANE_WIDTH, 3.0 * LANE_WIDTH, 4.0 * LANE_WIDTH],\n",
    "                            CarPhysicalState((0.0, 1.0 * LANE_WIDTH/2.0, AVG_HWY_VELOCITY)),\n",
    "                            (CarPhysicalState((lb_x, 1.0 * LANE_WIDTH/2.0 - 0.5, AVG_HWY_VELOCITY - 5)),\n",
    "                             CarPhysicalState((ub_x, 1.0 * LANE_WIDTH/2.0 + 0.5, AVG_HWY_VELOCITY + 5))),\n",
    "                            50.0, -500.0, -2.0, -5.0, -5.0, -1.0, HierarchicalDriving.getFrameList());\n"
   ]
  },
  {
   "cell_type": "code",
   "execution_count": 17,
   "metadata": {
    "collapsed": false,
    "deletable": true,
    "editable": true,
    "scrolled": false
   },
   "outputs": [
    {
     "data": {
      "text/html": [],
      "text/plain": [
       "Interact.Options{:SelectionSlider,Int64}(Signal{Int64}(3, nactions=1),\"i\",3,\"3\",Interact.OptionDict(DataStructures.OrderedDict(\"1\"=>1,\"2\"=>2,\"3\"=>3,\"4\"=>4,\"5\"=>5,\"6\"=>6),Dict(4=>\"4\",2=>\"2\",3=>\"3\",5=>\"5\",6=>\"6\",1=>\"1\")),Any[],Any[],true,\"horizontal\")"
      ]
     },
     "metadata": {},
     "output_type": "display_data"
    },
    {
     "data": {
      "image/png": "[encoded data removed]",
      "text/plain": [
       "(HierarchicalDriving.LowLevelMDP(0.99,0.5,6,[0.0,4.0,8.0,12.0,16.0],HierarchicalDriving.CarPhysicalState((0.0,2.0,25.0)),(HierarchicalDriving.CarPhysicalState((45.0,1.5,29.0)),HierarchicalDriving.CarPhysicalState((105.0,2.5,30.0))),50.0,-500.0,-25.0,-5.0,-5.0,-1.0,HierarchicalDriving.CarFrameL0[HierarchicalDriving.CarFrameL0(HierarchicalDriving.IDMParam(1.4,2.0,1.5,22.7648,2.0,4.0),HierarchicalDriving.MOBILParam(0.0,2.0,-1.0),HierarchicalDriving.FSM{Int64,Float64,String}(HierarchicalDriving.FSM_Node{Int64}[HierarchicalDriving.FSM_Node{Int64}(1),HierarchicalDriving.FSM_Node{Int64}(2),HierarchicalDriving.FSM_Node{Int64}(3),HierarchicalDriving.FSM_Node{Int64}(4),HierarchicalDriving.FSM_Node{Int64}(5)],HierarchicalDriving.FSM_Edge{String}[HierarchicalDriving.FSM_Edge{String}(\"Reached\"),HierarchicalDriving.FSM_Edge{String}(\"SafeSmooth\"),HierarchicalDriving.FSM_Edge{String}(\"UnsafeOrUnsmooth\"),HierarchicalDriving.FSM_Edge{String}(\"Undetermined\")],Dict((HierarchicalDriving.FSM_Node{Int64}(1),0.0)=>0.5,(HierarchicalDriving.FSM_Node{Int64}(1),2.0)=>0.5,(HierarchicalDriving.FSM_Node{Int64}(2),0.0)=>1.0,(HierarchicalDriving.FSM_Node{Int64}(3),-2.0)=>1.0,(HierarchicalDriving.FSM_Node{Int64}(4),2.0)=>1.0),Dict((HierarchicalDriving.FSM_Node{Int64}(2),HierarchicalDriving.FSM_Edge{String}(\"UnsafeOrUnsmooth\"),HierarchicalDriving.FSM_Node{Int64}(2))=>1.0,(HierarchicalDriving.FSM_Node{Int64}(4),HierarchicalDriving.FSM_Edge{String}(\"Reached\"),HierarchicalDriving.FSM_Node{Int64}(2))=>1.0,(HierarchicalDriving.FSM_Node{Int64}(2),HierarchicalDriving.FSM_Edge{String}(\"SafeSmooth\"),HierarchicalDriving.FSM_Node{Int64}(2))=>1.0,(HierarchicalDriving.FSM_Node{Int64}(3),HierarchicalDriving.FSM_Edge{String}(\"Undetermined\"),HierarchicalDriving.FSM_Node{Int64}(3))=>0.5,(HierarchicalDriving.FSM_Node{Int64}(1),HierarchicalDriving.FSM_Edge{String}(\"Undetermined\"),HierarchicalDriving.FSM_Node{Int64}(3))=>0.5,(HierarchicalDriving.FSM_Node{Int64}(1),HierarchicalDriving.FSM_Edge{String}(\"Undetermined\"),HierarchicalDriving.FSM_Node{Int64}(4))=>0.5,(HierarchicalDriving.FSM_Node{Int64}(1),HierarchicalDriving.FSM_Edge{String}(\"SafeSmooth\"),HierarchicalDriving.FSM_Node{Int64}(4))=>1.0,(HierarchicalDriving.FSM_Node{Int64}(3),HierarchicalDriving.FSM_Edge{String}(\"UnsafeOrUnsmooth\"),HierarchicalDriving.FSM_Node{Int64}(3))=>1.0,(HierarchicalDriving.FSM_Node{Int64}(2),HierarchicalDriving.FSM_Edge{String}(\"Undetermined\"),HierarchicalDriving.FSM_Node{Int64}(2))=>1.0,(HierarchicalDriving.FSM_Node{Int64}(1),HierarchicalDriving.FSM_Edge{String}(\"UnsafeOrUnsmooth\"),HierarchicalDriving.FSM_Node{Int64}(3))=>1.0…)),6.0,2.5),HierarchicalDriving.CarFrameL0(HierarchicalDriving.IDMParam(1.4,2.0,1.5,25.0,1.0,4.0),HierarchicalDriving.MOBILParam(0.0,2.0,-1.5),HierarchicalDriving.FSM{Int64,Float64,String}(HierarchicalDriving.FSM_Node{Int64}[HierarchicalDriving.FSM_Node{Int64}(1),HierarchicalDriving.FSM_Node{Int64}(2),HierarchicalDriving.FSM_Node{Int64}(3),HierarchicalDriving.FSM_Node{Int64}(4),HierarchicalDriving.FSM_Node{Int64}(5)],HierarchicalDriving.FSM_Edge{String}[HierarchicalDriving.FSM_Edge{String}(\"Reached\"),HierarchicalDriving.FSM_Edge{String}(\"SafeSmooth\"),HierarchicalDriving.FSM_Edge{String}(\"UnsafeOrUnsmooth\"),HierarchicalDriving.FSM_Edge{String}(\"Undetermined\")],Dict((HierarchicalDriving.FSM_Node{Int64}(1),0.0)=>0.5,(HierarchicalDriving.FSM_Node{Int64}(1),2.0)=>0.5,(HierarchicalDriving.FSM_Node{Int64}(2),0.0)=>1.0,(HierarchicalDriving.FSM_Node{Int64}(3),-2.0)=>1.0,(HierarchicalDriving.FSM_Node{Int64}(4),2.0)=>1.0),Dict((HierarchicalDriving.FSM_Node{Int64}(2),HierarchicalDriving.FSM_Edge{String}(\"UnsafeOrUnsmooth\"),HierarchicalDriving.FSM_Node{Int64}(2))=>1.0,(HierarchicalDriving.FSM_Node{Int64}(4),HierarchicalDriving.FSM_Edge{String}(\"Reached\"),HierarchicalDriving.FSM_Node{Int64}(2))=>1.0,(HierarchicalDriving.FSM_Node{Int64}(2),HierarchicalDriving.FSM_Edge{String}(\"SafeSmooth\"),HierarchicalDriving.FSM_Node{Int64}(2))=>1.0,(HierarchicalDriving.FSM_Node{Int64}(3),HierarchicalDriving.FSM_Edge{String}(\"Undetermined\"),HierarchicalDriving.FSM_Node{Int64}(3))=>0.5,(HierarchicalDriving.FSM_Node{Int64}(1),HierarchicalDriving.FSM_Edge{String}(\"Undetermined\"),HierarchicalDriving.FSM_Node{Int64}(3))=>0.5,(HierarchicalDriving.FSM_Node{Int64}(1),HierarchicalDriving.FSM_Edge{String}(\"Undetermined\"),HierarchicalDriving.FSM_Node{Int64}(4))=>0.5,(HierarchicalDriving.FSM_Node{Int64}(1),HierarchicalDriving.FSM_Edge{String}(\"SafeSmooth\"),HierarchicalDriving.FSM_Node{Int64}(4))=>1.0,(HierarchicalDriving.FSM_Node{Int64}(3),HierarchicalDriving.FSM_Edge{String}(\"UnsafeOrUnsmooth\"),HierarchicalDriving.FSM_Node{Int64}(3))=>1.0,(HierarchicalDriving.FSM_Node{Int64}(2),HierarchicalDriving.FSM_Edge{String}(\"Undetermined\"),HierarchicalDriving.FSM_Node{Int64}(2))=>1.0,(HierarchicalDriving.FSM_Node{Int64}(1),HierarchicalDriving.FSM_Edge{String}(\"UnsafeOrUnsmooth\"),HierarchicalDriving.FSM_Node{Int64}(3))=>1.0…)),6.0,2.5),HierarchicalDriving.CarFrameL0(HierarchicalDriving.IDMParam(1.4,2.0,1.5,27.2352,0.0,4.0),HierarchicalDriving.MOBILParam(0.0,2.0,-2.0),HierarchicalDriving.FSM{Int64,Float64,String}(HierarchicalDriving.FSM_Node{Int64}[HierarchicalDriving.FSM_Node{Int64}(1),HierarchicalDriving.FSM_Node{Int64}(2),HierarchicalDriving.FSM_Node{Int64}(3),HierarchicalDriving.FSM_Node{Int64}(4),HierarchicalDriving.FSM_Node{Int64}(5)],HierarchicalDriving.FSM_Edge{String}[HierarchicalDriving.FSM_Edge{String}(\"Reached\"),HierarchicalDriving.FSM_Edge{String}(\"SafeSmooth\"),HierarchicalDriving.FSM_Edge{String}(\"UnsafeOrUnsmooth\"),HierarchicalDriving.FSM_Edge{String}(\"Undetermined\")],Dict((HierarchicalDriving.FSM_Node{Int64}(1),0.0)=>0.5,(HierarchicalDriving.FSM_Node{Int64}(1),2.0)=>0.5,(HierarchicalDriving.FSM_Node{Int64}(2),0.0)=>1.0,(HierarchicalDriving.FSM_Node{Int64}(3),-2.0)=>1.0,(HierarchicalDriving.FSM_Node{Int64}(4),2.0)=>1.0),Dict((HierarchicalDriving.FSM_Node{Int64}(2),HierarchicalDriving.FSM_Edge{String}(\"UnsafeOrUnsmooth\"),HierarchicalDriving.FSM_Node{Int64}(2))=>1.0,(HierarchicalDriving.FSM_Node{Int64}(4),HierarchicalDriving.FSM_Edge{String}(\"Reached\"),HierarchicalDriving.FSM_Node{Int64}(2))=>1.0,(HierarchicalDriving.FSM_Node{Int64}(2),HierarchicalDriving.FSM_Edge{String}(\"SafeSmooth\"),HierarchicalDriving.FSM_Node{Int64}(2))=>1.0,(HierarchicalDriving.FSM_Node{Int64}(3),HierarchicalDriving.FSM_Edge{String}(\"Undetermined\"),HierarchicalDriving.FSM_Node{Int64}(3))=>0.5,(HierarchicalDriving.FSM_Node{Int64}(1),HierarchicalDriving.FSM_Edge{String}(\"Undetermined\"),HierarchicalDriving.FSM_Node{Int64}(3))=>0.5,(HierarchicalDriving.FSM_Node{Int64}(1),HierarchicalDriving.FSM_Edge{String}(\"Undetermined\"),HierarchicalDriving.FSM_Node{Int64}(4))=>0.5,(HierarchicalDriving.FSM_Node{Int64}(1),HierarchicalDriving.FSM_Edge{String}(\"SafeSmooth\"),HierarchicalDriving.FSM_Node{Int64}(4))=>1.0,(HierarchicalDriving.FSM_Node{Int64}(3),HierarchicalDriving.FSM_Edge{String}(\"UnsafeOrUnsmooth\"),HierarchicalDriving.FSM_Node{Int64}(3))=>1.0,(HierarchicalDriving.FSM_Node{Int64}(2),HierarchicalDriving.FSM_Edge{String}(\"Undetermined\"),HierarchicalDriving.FSM_Node{Int64}(2))=>1.0,(HierarchicalDriving.FSM_Node{Int64}(1),HierarchicalDriving.FSM_Edge{String}(\"UnsafeOrUnsmooth\"),HierarchicalDriving.FSM_Node{Int64}(3))=>1.0…)),6.0,2.5)]),HierarchicalDriving.GlobalStateL1(0,HierarchicalDriving.CarPhysicalState((25.0,2.0,25.0)),Array{HierarchicalDriving.CarLocalISL0,1}[HierarchicalDriving.CarLocalISL0[HierarchicalDriving.CarLocalISL0(HierarchicalDriving.CarPhysicalState((-45.522,2.0,23.022)),HierarchicalDriving.CarModelL0(1,HierarchicalDriving.CarFrameL0(HierarchicalDriving.IDMParam(1.4,2.0,1.5,27.2352,0.0,4.0),HierarchicalDriving.MOBILParam(0.0,2.0,-2.0),HierarchicalDriving.FSM{Int64,Float64,String}(HierarchicalDriving.FSM_Node{Int64}[HierarchicalDriving.FSM_Node{Int64}(1),HierarchicalDriving.FSM_Node{Int64}(2),HierarchicalDriving.FSM_Node{Int64}(3),HierarchicalDriving.FSM_Node{Int64}(4),HierarchicalDriving.FSM_Node{Int64}(5)],HierarchicalDriving.FSM_Edge{String}[HierarchicalDriving.FSM_Edge{String}(\"Reached\"),HierarchicalDriving.FSM_Edge{String}(\"SafeSmooth\"),HierarchicalDriving.FSM_Edge{String}(\"UnsafeOrUnsmooth\"),HierarchicalDriving.FSM_Edge{String}(\"Undetermined\")],Dict((HierarchicalDriving.FSM_Node{Int64}(1),0.0)=>0.5,(HierarchicalDriving.FSM_Node{Int64}(1),2.0)=>0.5,(HierarchicalDriving.FSM_Node{Int64}(2),0.0)=>1.0,(HierarchicalDriving.FSM_Node{Int64}(3),-2.0)=>1.0,(HierarchicalDriving.FSM_Node{Int64}(4),2.0)=>1.0),Dict((HierarchicalDriving.FSM_Node{Int64}(2),HierarchicalDriving.FSM_Edge{String}(\"UnsafeOrUnsmooth\"),HierarchicalDriving.FSM_Node{Int64}(2))=>1.0,(HierarchicalDriving.FSM_Node{Int64}(4),HierarchicalDriving.FSM_Edge{String}(\"Reached\"),HierarchicalDriving.FSM_Node{Int64}(2))=>1.0,(HierarchicalDriving.FSM_Node{Int64}(2),HierarchicalDriving.FSM_Edge{String}(\"SafeSmooth\"),HierarchicalDriving.FSM_Node{Int64}(2))=>1.0,(HierarchicalDriving.FSM_Node{Int64}(3),HierarchicalDriving.FSM_Edge{String}(\"Undetermined\"),HierarchicalDriving.FSM_Node{Int64}(3))=>0.5,(HierarchicalDriving.FSM_Node{Int64}(1),HierarchicalDriving.FSM_Edge{String}(\"Undetermined\"),HierarchicalDriving.FSM_Node{Int64}(3))=>0.5,(HierarchicalDriving.FSM_Node{Int64}(1),HierarchicalDriving.FSM_Edge{String}(\"Undetermined\"),HierarchicalDriving.FSM_Node{Int64}(4))=>0.5,(HierarchicalDriving.FSM_Node{Int64}(1),HierarchicalDriving.FSM_Edge{String}(\"SafeSmooth\"),HierarchicalDriving.FSM_Node{Int64}(4))=>1.0,(HierarchicalDriving.FSM_Node{Int64}(3),HierarchicalDriving.FSM_Edge{String}(\"UnsafeOrUnsmooth\"),HierarchicalDriving.FSM_Node{Int64}(3))=>1.0,(HierarchicalDriving.FSM_Node{Int64}(2),HierarchicalDriving.FSM_Edge{String}(\"Undetermined\"),HierarchicalDriving.FSM_Node{Int64}(2))=>1.0,(HierarchicalDriving.FSM_Node{Int64}(1),HierarchicalDriving.FSM_Edge{String}(\"UnsafeOrUnsmooth\"),HierarchicalDriving.FSM_Node{Int64}(3))=>1.0…)),6.0,2.5),HierarchicalDriving.FSM_Node{Int64}(2)))],HierarchicalDriving.CarLocalISL0[HierarchicalDriving.CarLocalISL0(HierarchicalDriving.CarPhysicalState((94.5241,7.95555,28.1479)),HierarchicalDriving.CarModelL0(2,HierarchicalDriving.CarFrameL0(HierarchicalDriving.IDMParam(1.4,2.0,1.5,27.2352,0.0,4.0),HierarchicalDriving.MOBILParam(0.0,2.0,-2.0),HierarchicalDriving.FSM{Int64,Float64,String}(HierarchicalDriving.FSM_Node{Int64}[HierarchicalDriving.FSM_Node{Int64}(1),HierarchicalDriving.FSM_Node{Int64}(2),HierarchicalDriving.FSM_Node{Int64}(3),HierarchicalDriving.FSM_Node{Int64}(4),HierarchicalDriving.FSM_Node{Int64}(5)],HierarchicalDriving.FSM_Edge{String}[HierarchicalDriving.FSM_Edge{String}(\"Reached\"),HierarchicalDriving.FSM_Edge{String}(\"SafeSmooth\"),HierarchicalDriving.FSM_Edge{String}(\"UnsafeOrUnsmooth\"),HierarchicalDriving.FSM_Edge{String}(\"Undetermined\")],Dict((HierarchicalDriving.FSM_Node{Int64}(1),0.0)=>0.5,(HierarchicalDriving.FSM_Node{Int64}(1),2.0)=>0.5,(HierarchicalDriving.FSM_Node{Int64}(2),0.0)=>1.0,(HierarchicalDriving.FSM_Node{Int64}(3),-2.0)=>1.0,(HierarchicalDriving.FSM_Node{Int64}(4),2.0)=>1.0),Dict((HierarchicalDriving.FSM_Node{Int64}(2),HierarchicalDriving.FSM_Edge{String}(\"UnsafeOrUnsmooth\"),HierarchicalDriving.FSM_Node{Int64}(2))=>1.0,(HierarchicalDriving.FSM_Node{Int64}(4),HierarchicalDriving.FSM_Edge{String}(\"Reached\"),HierarchicalDriving.FSM_Node{Int64}(2))=>1.0,(HierarchicalDriving.FSM_Node{Int64}(2),HierarchicalDriving.FSM_Edge{String}(\"SafeSmooth\"),HierarchicalDriving.FSM_Node{Int64}(2))=>1.0,(HierarchicalDriving.FSM_Node{Int64}(3),HierarchicalDriving.FSM_Edge{String}(\"Undetermined\"),HierarchicalDriving.FSM_Node{Int64}(3))=>0.5,(HierarchicalDriving.FSM_Node{Int64}(1),HierarchicalDriving.FSM_Edge{String}(\"Undetermined\"),HierarchicalDriving.FSM_Node{Int64}(3))=>0.5,(HierarchicalDriving.FSM_Node{Int64}(1),HierarchicalDriving.FSM_Edge{String}(\"Undetermined\"),HierarchicalDriving.FSM_Node{Int64}(4))=>0.5,(HierarchicalDriving.FSM_Node{Int64}(1),HierarchicalDriving.FSM_Edge{String}(\"SafeSmooth\"),HierarchicalDriving.FSM_Node{Int64}(4))=>1.0,(HierarchicalDriving.FSM_Node{Int64}(3),HierarchicalDriving.FSM_Edge{String}(\"UnsafeOrUnsmooth\"),HierarchicalDriving.FSM_Node{Int64}(3))=>1.0,(HierarchicalDriving.FSM_Node{Int64}(2),HierarchicalDriving.FSM_Edge{String}(\"Undetermined\"),HierarchicalDriving.FSM_Node{Int64}(2))=>1.0,(HierarchicalDriving.FSM_Node{Int64}(1),HierarchicalDriving.FSM_Edge{String}(\"UnsafeOrUnsmooth\"),HierarchicalDriving.FSM_Node{Int64}(3))=>1.0…)),6.0,2.5),HierarchicalDriving.FSM_Node{Int64}(4))),HierarchicalDriving.CarLocalISL0(HierarchicalDriving.CarPhysicalState((39.1431,6.0,20.8475)),HierarchicalDriving.CarModelL0(2,HierarchicalDriving.CarFrameL0(HierarchicalDriving.IDMParam(1.4,2.0,1.5,27.2352,0.0,4.0),HierarchicalDriving.MOBILParam(0.0,2.0,-2.0),HierarchicalDriving.FSM{Int64,Float64,String}(HierarchicalDriving.FSM_Node{Int64}[HierarchicalDriving.FSM_Node{Int64}(1),HierarchicalDriving.FSM_Node{Int64}(2),HierarchicalDriving.FSM_Node{Int64}(3),HierarchicalDriving.FSM_Node{Int64}(4),HierarchicalDriving.FSM_Node{Int64}(5)],HierarchicalDriving.FSM_Edge{String}[HierarchicalDriving.FSM_Edge{String}(\"Reached\"),HierarchicalDriving.FSM_Edge{String}(\"SafeSmooth\"),HierarchicalDriving.FSM_Edge{String}(\"UnsafeOrUnsmooth\"),HierarchicalDriving.FSM_Edge{String}(\"Undetermined\")],Dict((HierarchicalDriving.FSM_Node{Int64}(1),0.0)=>0.5,(HierarchicalDriving.FSM_Node{Int64}(1),2.0)=>0.5,(HierarchicalDriving.FSM_Node{Int64}(2),0.0)=>1.0,(HierarchicalDriving.FSM_Node{Int64}(3),-2.0)=>1.0,(HierarchicalDriving.FSM_Node{Int64}(4),2.0)=>1.0),Dict((HierarchicalDriving.FSM_Node{Int64}(2),HierarchicalDriving.FSM_Edge{String}(\"UnsafeOrUnsmooth\"),HierarchicalDriving.FSM_Node{Int64}(2))=>1.0,(HierarchicalDriving.FSM_Node{Int64}(4),HierarchicalDriving.FSM_Edge{String}(\"Reached\"),HierarchicalDriving.FSM_Node{Int64}(2))=>1.0,(HierarchicalDriving.FSM_Node{Int64}(2),HierarchicalDriving.FSM_Edge{String}(\"SafeSmooth\"),HierarchicalDriving.FSM_Node{Int64}(2))=>1.0,(HierarchicalDriving.FSM_Node{Int64}(3),HierarchicalDriving.FSM_Edge{String}(\"Undetermined\"),HierarchicalDriving.FSM_Node{Int64}(3))=>0.5,(HierarchicalDriving.FSM_Node{Int64}(1),HierarchicalDriving.FSM_Edge{String}(\"Undetermined\"),HierarchicalDriving.FSM_Node{Int64}(3))=>0.5,(HierarchicalDriving.FSM_Node{Int64}(1),HierarchicalDriving.FSM_Edge{String}(\"Undetermined\"),HierarchicalDriving.FSM_Node{Int64}(4))=>0.5,(HierarchicalDriving.FSM_Node{Int64}(1),HierarchicalDriving.FSM_Edge{String}(\"SafeSmooth\"),HierarchicalDriving.FSM_Node{Int64}(4))=>1.0,(HierarchicalDriving.FSM_Node{Int64}(3),HierarchicalDriving.FSM_Edge{String}(\"UnsafeOrUnsmooth\"),HierarchicalDriving.FSM_Node{Int64}(3))=>1.0,(HierarchicalDriving.FSM_Node{Int64}(2),HierarchicalDriving.FSM_Edge{String}(\"Undetermined\"),HierarchicalDriving.FSM_Node{Int64}(2))=>1.0,(HierarchicalDriving.FSM_Node{Int64}(1),HierarchicalDriving.FSM_Edge{String}(\"UnsafeOrUnsmooth\"),HierarchicalDriving.FSM_Node{Int64}(3))=>1.0…)),6.0,2.5),HierarchicalDriving.FSM_Node{Int64}(4))),HierarchicalDriving.CarLocalISL0(HierarchicalDriving.CarPhysicalState((-25.2659,6.0,22.0124)),HierarchicalDriving.CarModelL0(1,HierarchicalDriving.CarFrameL0(HierarchicalDriving.IDMParam(1.4,2.0,1.5,25.0,1.0,4.0),HierarchicalDriving.MOBILParam(0.0,2.0,-1.5),HierarchicalDriving.FSM{Int64,Float64,String}(HierarchicalDriving.FSM_Node{Int64}[HierarchicalDriving.FSM_Node{Int64}(1),HierarchicalDriving.FSM_Node{Int64}(2),HierarchicalDriving.FSM_Node{Int64}(3),HierarchicalDriving.FSM_Node{Int64}(4),HierarchicalDriving.FSM_Node{Int64}(5)],HierarchicalDriving.FSM_Edge{String}[HierarchicalDriving.FSM_Edge{String}(\"Reached\"),HierarchicalDriving.FSM_Edge{String}(\"SafeSmooth\"),HierarchicalDriving.FSM_Edge{String}(\"UnsafeOrUnsmooth\"),HierarchicalDriving.FSM_Edge{String}(\"Undetermined\")],Dict((HierarchicalDriving.FSM_Node{Int64}(1),0.0)=>0.5,(HierarchicalDriving.FSM_Node{Int64}(1),2.0)=>0.5,(HierarchicalDriving.FSM_Node{Int64}(2),0.0)=>1.0,(HierarchicalDriving.FSM_Node{Int64}(3),-2.0)=>1.0,(HierarchicalDriving.FSM_Node{Int64}(4),2.0)=>1.0),Dict((HierarchicalDriving.FSM_Node{Int64}(2),HierarchicalDriving.FSM_Edge{String}(\"UnsafeOrUnsmooth\"),HierarchicalDriving.FSM_Node{Int64}(2))=>1.0,(HierarchicalDriving.FSM_Node{Int64}(4),HierarchicalDriving.FSM_Edge{String}(\"Reached\"),HierarchicalDriving.FSM_Node{Int64}(2))=>1.0,(HierarchicalDriving.FSM_Node{Int64}(2),HierarchicalDriving.FSM_Edge{String}(\"SafeSmooth\"),HierarchicalDriving.FSM_Node{Int64}(2))=>1.0,(HierarchicalDriving.FSM_Node{Int64}(3),HierarchicalDriving.FSM_Edge{String}(\"Undetermined\"),HierarchicalDriving.FSM_Node{Int64}(3))=>0.5,(HierarchicalDriving.FSM_Node{Int64}(1),HierarchicalDriving.FSM_Edge{String}(\"Undetermined\"),HierarchicalDriving.FSM_Node{Int64}(3))=>0.5,(HierarchicalDriving.FSM_Node{Int64}(1),HierarchicalDriving.FSM_Edge{String}(\"Undetermined\"),HierarchicalDriving.FSM_Node{Int64}(4))=>0.5,(HierarchicalDriving.FSM_Node{Int64}(1),HierarchicalDriving.FSM_Edge{String}(\"SafeSmooth\"),HierarchicalDriving.FSM_Node{Int64}(4))=>1.0,(HierarchicalDriving.FSM_Node{Int64}(3),HierarchicalDriving.FSM_Edge{String}(\"UnsafeOrUnsmooth\"),HierarchicalDriving.FSM_Node{Int64}(3))=>1.0,(HierarchicalDriving.FSM_Node{Int64}(2),HierarchicalDriving.FSM_Edge{String}(\"Undetermined\"),HierarchicalDriving.FSM_Node{Int64}(2))=>1.0,(HierarchicalDriving.FSM_Node{Int64}(1),HierarchicalDriving.FSM_Edge{String}(\"UnsafeOrUnsmooth\"),HierarchicalDriving.FSM_Node{Int64}(3))=>1.0…)),6.0,2.5),HierarchicalDriving.FSM_Node{Int64}(3)))],HierarchicalDriving.CarLocalISL0[HierarchicalDriving.CarLocalISL0(HierarchicalDriving.CarPhysicalState((-38.9059,10.4199,25.5636)),HierarchicalDriving.CarModelL0(4,HierarchicalDriving.CarFrameL0(HierarchicalDriving.IDMParam(1.4,2.0,1.5,22.7648,2.0,4.0),HierarchicalDriving.MOBILParam(0.0,2.0,-1.0),HierarchicalDriving.FSM{Int64,Float64,String}(HierarchicalDriving.FSM_Node{Int64}[HierarchicalDriving.FSM_Node{Int64}(1),HierarchicalDriving.FSM_Node{Int64}(2),HierarchicalDriving.FSM_Node{Int64}(3),HierarchicalDriving.FSM_Node{Int64}(4),HierarchicalDriving.FSM_Node{Int64}(5)],HierarchicalDriving.FSM_Edge{String}[HierarchicalDriving.FSM_Edge{String}(\"Reached\"),HierarchicalDriving.FSM_Edge{String}(\"SafeSmooth\"),HierarchicalDriving.FSM_Edge{String}(\"UnsafeOrUnsmooth\"),HierarchicalDriving.FSM_Edge{String}(\"Undetermined\")],Dict((HierarchicalDriving.FSM_Node{Int64}(1),0.0)=>0.5,(HierarchicalDriving.FSM_Node{Int64}(1),2.0)=>0.5,(HierarchicalDriving.FSM_Node{Int64}(2),0.0)=>1.0,(HierarchicalDriving.FSM_Node{Int64}(3),-2.0)=>1.0,(HierarchicalDriving.FSM_Node{Int64}(4),2.0)=>1.0),Dict((HierarchicalDriving.FSM_Node{Int64}(2),HierarchicalDriving.FSM_Edge{String}(\"UnsafeOrUnsmooth\"),HierarchicalDriving.FSM_Node{Int64}(2))=>1.0,(HierarchicalDriving.FSM_Node{Int64}(4),HierarchicalDriving.FSM_Edge{String}(\"Reached\"),HierarchicalDriving.FSM_Node{Int64}(2))=>1.0,(HierarchicalDriving.FSM_Node{Int64}(2),HierarchicalDriving.FSM_Edge{String}(\"SafeSmooth\"),HierarchicalDriving.FSM_Node{Int64}(2))=>1.0,(HierarchicalDriving.FSM_Node{Int64}(3),HierarchicalDriving.FSM_Edge{String}(\"Undetermined\"),HierarchicalDriving.FSM_Node{Int64}(3))=>0.5,(HierarchicalDriving.FSM_Node{Int64}(1),HierarchicalDriving.FSM_Edge{String}(\"Undetermined\"),HierarchicalDriving.FSM_Node{Int64}(3))=>0.5,(HierarchicalDriving.FSM_Node{Int64}(1),HierarchicalDriving.FSM_Edge{String}(\"Undetermined\"),HierarchicalDriving.FSM_Node{Int64}(4))=>0.5,(HierarchicalDriving.FSM_Node{Int64}(1),HierarchicalDriving.FSM_Edge{String}(\"SafeSmooth\"),HierarchicalDriving.FSM_Node{Int64}(4))=>1.0,(HierarchicalDriving.FSM_Node{Int64}(3),HierarchicalDriving.FSM_Edge{String}(\"UnsafeOrUnsmooth\"),HierarchicalDriving.FSM_Node{Int64}(3))=>1.0,(HierarchicalDriving.FSM_Node{Int64}(2),HierarchicalDriving.FSM_Edge{String}(\"Undetermined\"),HierarchicalDriving.FSM_Node{Int64}(2))=>1.0,(HierarchicalDriving.FSM_Node{Int64}(1),HierarchicalDriving.FSM_Edge{String}(\"UnsafeOrUnsmooth\"),HierarchicalDriving.FSM_Node{Int64}(3))=>1.0…)),6.0,2.5),HierarchicalDriving.FSM_Node{Int64}(3)))],HierarchicalDriving.CarLocalISL0[HierarchicalDriving.CarLocalISL0(HierarchicalDriving.CarPhysicalState((-16.0537,14.0,24.4292)),HierarchicalDriving.CarModelL0(4,HierarchicalDriving.CarFrameL0(HierarchicalDriving.IDMParam(1.4,2.0,1.5,22.7648,2.0,4.0),HierarchicalDriving.MOBILParam(0.0,2.0,-1.0),HierarchicalDriving.FSM{Int64,Float64,String}(HierarchicalDriving.FSM_Node{Int64}[HierarchicalDriving.FSM_Node{Int64}(1),HierarchicalDriving.FSM_Node{Int64}(2),HierarchicalDriving.FSM_Node{Int64}(3),HierarchicalDriving.FSM_Node{Int64}(4),HierarchicalDriving.FSM_Node{Int64}(5)],HierarchicalDriving.FSM_Edge{String}[HierarchicalDriving.FSM_Edge{String}(\"Reached\"),HierarchicalDriving.FSM_Edge{String}(\"SafeSmooth\"),HierarchicalDriving.FSM_Edge{String}(\"UnsafeOrUnsmooth\"),HierarchicalDriving.FSM_Edge{String}(\"Undetermined\")],Dict((HierarchicalDriving.FSM_Node{Int64}(1),0.0)=>0.5,(HierarchicalDriving.FSM_Node{Int64}(1),2.0)=>0.5,(HierarchicalDriving.FSM_Node{Int64}(2),0.0)=>1.0,(HierarchicalDriving.FSM_Node{Int64}(3),-2.0)=>1.0,(HierarchicalDriving.FSM_Node{Int64}(4),2.0)=>1.0),Dict((HierarchicalDriving.FSM_Node{Int64}(2),HierarchicalDriving.FSM_Edge{String}(\"UnsafeOrUnsmooth\"),HierarchicalDriving.FSM_Node{Int64}(2))=>1.0,(HierarchicalDriving.FSM_Node{Int64}(4),HierarchicalDriving.FSM_Edge{String}(\"Reached\"),HierarchicalDriving.FSM_Node{Int64}(2))=>1.0,(HierarchicalDriving.FSM_Node{Int64}(2),HierarchicalDriving.FSM_Edge{String}(\"SafeSmooth\"),HierarchicalDriving.FSM_Node{Int64}(2))=>1.0,(HierarchicalDriving.FSM_Node{Int64}(3),HierarchicalDriving.FSM_Edge{String}(\"Undetermined\"),HierarchicalDriving.FSM_Node{Int64}(3))=>0.5,(HierarchicalDriving.FSM_Node{Int64}(1),HierarchicalDriving.FSM_Edge{String}(\"Undetermined\"),HierarchicalDriving.FSM_Node{Int64}(3))=>0.5,(HierarchicalDriving.FSM_Node{Int64}(1),HierarchicalDriving.FSM_Edge{String}(\"Undetermined\"),HierarchicalDriving.FSM_Node{Int64}(4))=>0.5,(HierarchicalDriving.FSM_Node{Int64}(1),HierarchicalDriving.FSM_Edge{String}(\"SafeSmooth\"),HierarchicalDriving.FSM_Node{Int64}(4))=>1.0,(HierarchicalDriving.FSM_Node{Int64}(3),HierarchicalDriving.FSM_Edge{String}(\"UnsafeOrUnsmooth\"),HierarchicalDriving.FSM_Node{Int64}(3))=>1.0,(HierarchicalDriving.FSM_Node{Int64}(2),HierarchicalDriving.FSM_Edge{String}(\"Undetermined\"),HierarchicalDriving.FSM_Node{Int64}(2))=>1.0,(HierarchicalDriving.FSM_Node{Int64}(1),HierarchicalDriving.FSM_Edge{String}(\"UnsafeOrUnsmooth\"),HierarchicalDriving.FSM_Node{Int64}(3))=>1.0…)),6.0,2.5),HierarchicalDriving.FSM_Node{Int64}(4)))]]),AutoViz.SceneOverlay[HierarchicalDriving.CarVelOverlay(),HierarchicalDriving.CarIDOverlay()])"
      ]
     },
     "execution_count": 17,
     "metadata": {
      "comm_id": "5664e278-a48c-4d31-818e-e6c152db8bbc",
      "reactive": true
     },
     "output_type": "execute_result"
    }
   ],
   "source": [
    "i = 17\n",
    "#policy = RandomPolicy(p)\n",
    "policy = subintentional_policy(p)\n",
    "hr = HistoryRecorder(max_steps = p.HORIZON, rng = MersenneTwister(i))\n",
    "hist = simulate(hr, p, policy)\n",
    "@manipulate for i in 1:n_steps(hist)+1\n",
    "    (p,state_hist(hist)[i],SceneOverlay[CarVelOverlay(), CarIDOverlay()])\n",
    "end"
   ]
  },
  {
   "cell_type": "code",
   "execution_count": 18,
   "metadata": {
    "collapsed": false,
    "deletable": true,
    "editable": true
   },
   "outputs": [
    {
     "data": {
      "text/html": [],
      "text/plain": [
       "Interact.Options{:SelectionSlider,Int64}(Signal{Int64}(3, nactions=1),\"i\",3,\"3\",Interact.OptionDict(DataStructures.OrderedDict(\"1\"=>1,\"2\"=>2,\"3\"=>3,\"4\"=>4,\"5\"=>5,\"6\"=>6),Dict(4=>\"4\",2=>\"2\",3=>\"3\",5=>\"5\",6=>\"6\",1=>\"1\")),Any[],Any[],true,\"horizontal\")"
      ]
     },
     "metadata": {},
     "output_type": "display_data"
    },
    {
     "data": {
      "image/png": "[encoded data removed]",
      "text/plain": [
       "(HierarchicalDriving.LowLevelMDP(0.99,0.5,6,[0.0,4.0,8.0,12.0,16.0],HierarchicalDriving.CarPhysicalState((0.0,2.0,25.0)),(HierarchicalDriving.CarPhysicalState((45.0,1.5,29.0)),HierarchicalDriving.CarPhysicalState((105.0,2.5,30.0))),50.0,-500.0,-25.0,-5.0,-5.0,-1.0,HierarchicalDriving.CarFrameL0[HierarchicalDriving.CarFrameL0(HierarchicalDriving.IDMParam(1.4,2.0,1.5,22.7648,2.0,4.0),HierarchicalDriving.MOBILParam(0.0,2.0,-1.0),HierarchicalDriving.FSM{Int64,Float64,String}(HierarchicalDriving.FSM_Node{Int64}[HierarchicalDriving.FSM_Node{Int64}(1),HierarchicalDriving.FSM_Node{Int64}(2),HierarchicalDriving.FSM_Node{Int64}(3),HierarchicalDriving.FSM_Node{Int64}(4),HierarchicalDriving.FSM_Node{Int64}(5)],HierarchicalDriving.FSM_Edge{String}[HierarchicalDriving.FSM_Edge{String}(\"Reached\"),HierarchicalDriving.FSM_Edge{String}(\"SafeSmooth\"),HierarchicalDriving.FSM_Edge{String}(\"UnsafeOrUnsmooth\"),HierarchicalDriving.FSM_Edge{String}(\"Undetermined\")],Dict((HierarchicalDriving.FSM_Node{Int64}(1),0.0)=>0.5,(HierarchicalDriving.FSM_Node{Int64}(1),2.0)=>0.5,(HierarchicalDriving.FSM_Node{Int64}(2),0.0)=>1.0,(HierarchicalDriving.FSM_Node{Int64}(3),-2.0)=>1.0,(HierarchicalDriving.FSM_Node{Int64}(4),2.0)=>1.0),Dict((HierarchicalDriving.FSM_Node{Int64}(2),HierarchicalDriving.FSM_Edge{String}(\"UnsafeOrUnsmooth\"),HierarchicalDriving.FSM_Node{Int64}(2))=>1.0,(HierarchicalDriving.FSM_Node{Int64}(4),HierarchicalDriving.FSM_Edge{String}(\"Reached\"),HierarchicalDriving.FSM_Node{Int64}(2))=>1.0,(HierarchicalDriving.FSM_Node{Int64}(2),HierarchicalDriving.FSM_Edge{String}(\"SafeSmooth\"),HierarchicalDriving.FSM_Node{Int64}(2))=>1.0,(HierarchicalDriving.FSM_Node{Int64}(3),HierarchicalDriving.FSM_Edge{String}(\"Undetermined\"),HierarchicalDriving.FSM_Node{Int64}(3))=>0.5,(HierarchicalDriving.FSM_Node{Int64}(1),HierarchicalDriving.FSM_Edge{String}(\"Undetermined\"),HierarchicalDriving.FSM_Node{Int64}(3))=>0.5,(HierarchicalDriving.FSM_Node{Int64}(1),HierarchicalDriving.FSM_Edge{String}(\"Undetermined\"),HierarchicalDriving.FSM_Node{Int64}(4))=>0.5,(HierarchicalDriving.FSM_Node{Int64}(1),HierarchicalDriving.FSM_Edge{String}(\"SafeSmooth\"),HierarchicalDriving.FSM_Node{Int64}(4))=>1.0,(HierarchicalDriving.FSM_Node{Int64}(3),HierarchicalDriving.FSM_Edge{String}(\"UnsafeOrUnsmooth\"),HierarchicalDriving.FSM_Node{Int64}(3))=>1.0,(HierarchicalDriving.FSM_Node{Int64}(2),HierarchicalDriving.FSM_Edge{String}(\"Undetermined\"),HierarchicalDriving.FSM_Node{Int64}(2))=>1.0,(HierarchicalDriving.FSM_Node{Int64}(1),HierarchicalDriving.FSM_Edge{String}(\"UnsafeOrUnsmooth\"),HierarchicalDriving.FSM_Node{Int64}(3))=>1.0…)),6.0,2.5),HierarchicalDriving.CarFrameL0(HierarchicalDriving.IDMParam(1.4,2.0,1.5,25.0,1.0,4.0),HierarchicalDriving.MOBILParam(0.0,2.0,-1.5),HierarchicalDriving.FSM{Int64,Float64,String}(HierarchicalDriving.FSM_Node{Int64}[HierarchicalDriving.FSM_Node{Int64}(1),HierarchicalDriving.FSM_Node{Int64}(2),HierarchicalDriving.FSM_Node{Int64}(3),HierarchicalDriving.FSM_Node{Int64}(4),HierarchicalDriving.FSM_Node{Int64}(5)],HierarchicalDriving.FSM_Edge{String}[HierarchicalDriving.FSM_Edge{String}(\"Reached\"),HierarchicalDriving.FSM_Edge{String}(\"SafeSmooth\"),HierarchicalDriving.FSM_Edge{String}(\"UnsafeOrUnsmooth\"),HierarchicalDriving.FSM_Edge{String}(\"Undetermined\")],Dict((HierarchicalDriving.FSM_Node{Int64}(1),0.0)=>0.5,(HierarchicalDriving.FSM_Node{Int64}(1),2.0)=>0.5,(HierarchicalDriving.FSM_Node{Int64}(2),0.0)=>1.0,(HierarchicalDriving.FSM_Node{Int64}(3),-2.0)=>1.0,(HierarchicalDriving.FSM_Node{Int64}(4),2.0)=>1.0),Dict((HierarchicalDriving.FSM_Node{Int64}(2),HierarchicalDriving.FSM_Edge{String}(\"UnsafeOrUnsmooth\"),HierarchicalDriving.FSM_Node{Int64}(2))=>1.0,(HierarchicalDriving.FSM_Node{Int64}(4),HierarchicalDriving.FSM_Edge{String}(\"Reached\"),HierarchicalDriving.FSM_Node{Int64}(2))=>1.0,(HierarchicalDriving.FSM_Node{Int64}(2),HierarchicalDriving.FSM_Edge{String}(\"SafeSmooth\"),HierarchicalDriving.FSM_Node{Int64}(2))=>1.0,(HierarchicalDriving.FSM_Node{Int64}(3),HierarchicalDriving.FSM_Edge{String}(\"Undetermined\"),HierarchicalDriving.FSM_Node{Int64}(3))=>0.5,(HierarchicalDriving.FSM_Node{Int64}(1),HierarchicalDriving.FSM_Edge{String}(\"Undetermined\"),HierarchicalDriving.FSM_Node{Int64}(3))=>0.5,(HierarchicalDriving.FSM_Node{Int64}(1),HierarchicalDriving.FSM_Edge{String}(\"Undetermined\"),HierarchicalDriving.FSM_Node{Int64}(4))=>0.5,(HierarchicalDriving.FSM_Node{Int64}(1),HierarchicalDriving.FSM_Edge{String}(\"SafeSmooth\"),HierarchicalDriving.FSM_Node{Int64}(4))=>1.0,(HierarchicalDriving.FSM_Node{Int64}(3),HierarchicalDriving.FSM_Edge{String}(\"UnsafeOrUnsmooth\"),HierarchicalDriving.FSM_Node{Int64}(3))=>1.0,(HierarchicalDriving.FSM_Node{Int64}(2),HierarchicalDriving.FSM_Edge{String}(\"Undetermined\"),HierarchicalDriving.FSM_Node{Int64}(2))=>1.0,(HierarchicalDriving.FSM_Node{Int64}(1),HierarchicalDriving.FSM_Edge{String}(\"UnsafeOrUnsmooth\"),HierarchicalDriving.FSM_Node{Int64}(3))=>1.0…)),6.0,2.5),HierarchicalDriving.CarFrameL0(HierarchicalDriving.IDMParam(1.4,2.0,1.5,27.2352,0.0,4.0),HierarchicalDriving.MOBILParam(0.0,2.0,-2.0),HierarchicalDriving.FSM{Int64,Float64,String}(HierarchicalDriving.FSM_Node{Int64}[HierarchicalDriving.FSM_Node{Int64}(1),HierarchicalDriving.FSM_Node{Int64}(2),HierarchicalDriving.FSM_Node{Int64}(3),HierarchicalDriving.FSM_Node{Int64}(4),HierarchicalDriving.FSM_Node{Int64}(5)],HierarchicalDriving.FSM_Edge{String}[HierarchicalDriving.FSM_Edge{String}(\"Reached\"),HierarchicalDriving.FSM_Edge{String}(\"SafeSmooth\"),HierarchicalDriving.FSM_Edge{String}(\"UnsafeOrUnsmooth\"),HierarchicalDriving.FSM_Edge{String}(\"Undetermined\")],Dict((HierarchicalDriving.FSM_Node{Int64}(1),0.0)=>0.5,(HierarchicalDriving.FSM_Node{Int64}(1),2.0)=>0.5,(HierarchicalDriving.FSM_Node{Int64}(2),0.0)=>1.0,(HierarchicalDriving.FSM_Node{Int64}(3),-2.0)=>1.0,(HierarchicalDriving.FSM_Node{Int64}(4),2.0)=>1.0),Dict((HierarchicalDriving.FSM_Node{Int64}(2),HierarchicalDriving.FSM_Edge{String}(\"UnsafeOrUnsmooth\"),HierarchicalDriving.FSM_Node{Int64}(2))=>1.0,(HierarchicalDriving.FSM_Node{Int64}(4),HierarchicalDriving.FSM_Edge{String}(\"Reached\"),HierarchicalDriving.FSM_Node{Int64}(2))=>1.0,(HierarchicalDriving.FSM_Node{Int64}(2),HierarchicalDriving.FSM_Edge{String}(\"SafeSmooth\"),HierarchicalDriving.FSM_Node{Int64}(2))=>1.0,(HierarchicalDriving.FSM_Node{Int64}(3),HierarchicalDriving.FSM_Edge{String}(\"Undetermined\"),HierarchicalDriving.FSM_Node{Int64}(3))=>0.5,(HierarchicalDriving.FSM_Node{Int64}(1),HierarchicalDriving.FSM_Edge{String}(\"Undetermined\"),HierarchicalDriving.FSM_Node{Int64}(3))=>0.5,(HierarchicalDriving.FSM_Node{Int64}(1),HierarchicalDriving.FSM_Edge{String}(\"Undetermined\"),HierarchicalDriving.FSM_Node{Int64}(4))=>0.5,(HierarchicalDriving.FSM_Node{Int64}(1),HierarchicalDriving.FSM_Edge{String}(\"SafeSmooth\"),HierarchicalDriving.FSM_Node{Int64}(4))=>1.0,(HierarchicalDriving.FSM_Node{Int64}(3),HierarchicalDriving.FSM_Edge{String}(\"UnsafeOrUnsmooth\"),HierarchicalDriving.FSM_Node{Int64}(3))=>1.0,(HierarchicalDriving.FSM_Node{Int64}(2),HierarchicalDriving.FSM_Edge{String}(\"Undetermined\"),HierarchicalDriving.FSM_Node{Int64}(2))=>1.0,(HierarchicalDriving.FSM_Node{Int64}(1),HierarchicalDriving.FSM_Edge{String}(\"UnsafeOrUnsmooth\"),HierarchicalDriving.FSM_Node{Int64}(3))=>1.0…)),6.0,2.5)]),HierarchicalDriving.GlobalStateL1(0,HierarchicalDriving.CarPhysicalState((24.284673018145327,2.0,24.069346036290654)),Array{HierarchicalDriving.CarLocalISL0,1}[HierarchicalDriving.CarLocalISL0[HierarchicalDriving.CarLocalISL0(HierarchicalDriving.CarPhysicalState((-45.5341,2.0,22.9699)),HierarchicalDriving.CarModelL0(1,HierarchicalDriving.CarFrameL0(HierarchicalDriving.IDMParam(1.4,2.0,1.5,27.2352,0.0,4.0),HierarchicalDriving.MOBILParam(0.0,2.0,-2.0),HierarchicalDriving.FSM{Int64,Float64,String}(HierarchicalDriving.FSM_Node{Int64}[HierarchicalDriving.FSM_Node{Int64}(1),HierarchicalDriving.FSM_Node{Int64}(2),HierarchicalDriving.FSM_Node{Int64}(3),HierarchicalDriving.FSM_Node{Int64}(4),HierarchicalDriving.FSM_Node{Int64}(5)],HierarchicalDriving.FSM_Edge{String}[HierarchicalDriving.FSM_Edge{String}(\"Reached\"),HierarchicalDriving.FSM_Edge{String}(\"SafeSmooth\"),HierarchicalDriving.FSM_Edge{String}(\"UnsafeOrUnsmooth\"),HierarchicalDriving.FSM_Edge{String}(\"Undetermined\")],Dict((HierarchicalDriving.FSM_Node{Int64}(1),0.0)=>0.5,(HierarchicalDriving.FSM_Node{Int64}(1),2.0)=>0.5,(HierarchicalDriving.FSM_Node{Int64}(2),0.0)=>1.0,(HierarchicalDriving.FSM_Node{Int64}(3),-2.0)=>1.0,(HierarchicalDriving.FSM_Node{Int64}(4),2.0)=>1.0),Dict((HierarchicalDriving.FSM_Node{Int64}(2),HierarchicalDriving.FSM_Edge{String}(\"UnsafeOrUnsmooth\"),HierarchicalDriving.FSM_Node{Int64}(2))=>1.0,(HierarchicalDriving.FSM_Node{Int64}(4),HierarchicalDriving.FSM_Edge{String}(\"Reached\"),HierarchicalDriving.FSM_Node{Int64}(2))=>1.0,(HierarchicalDriving.FSM_Node{Int64}(2),HierarchicalDriving.FSM_Edge{String}(\"SafeSmooth\"),HierarchicalDriving.FSM_Node{Int64}(2))=>1.0,(HierarchicalDriving.FSM_Node{Int64}(3),HierarchicalDriving.FSM_Edge{String}(\"Undetermined\"),HierarchicalDriving.FSM_Node{Int64}(3))=>0.5,(HierarchicalDriving.FSM_Node{Int64}(1),HierarchicalDriving.FSM_Edge{String}(\"Undetermined\"),HierarchicalDriving.FSM_Node{Int64}(3))=>0.5,(HierarchicalDriving.FSM_Node{Int64}(1),HierarchicalDriving.FSM_Edge{String}(\"Undetermined\"),HierarchicalDriving.FSM_Node{Int64}(4))=>0.5,(HierarchicalDriving.FSM_Node{Int64}(1),HierarchicalDriving.FSM_Edge{String}(\"SafeSmooth\"),HierarchicalDriving.FSM_Node{Int64}(4))=>1.0,(HierarchicalDriving.FSM_Node{Int64}(3),HierarchicalDriving.FSM_Edge{String}(\"UnsafeOrUnsmooth\"),HierarchicalDriving.FSM_Node{Int64}(3))=>1.0,(HierarchicalDriving.FSM_Node{Int64}(2),HierarchicalDriving.FSM_Edge{String}(\"Undetermined\"),HierarchicalDriving.FSM_Node{Int64}(2))=>1.0,(HierarchicalDriving.FSM_Node{Int64}(1),HierarchicalDriving.FSM_Edge{String}(\"UnsafeOrUnsmooth\"),HierarchicalDriving.FSM_Node{Int64}(3))=>1.0…)),6.0,2.5),HierarchicalDriving.FSM_Node{Int64}(2)))],HierarchicalDriving.CarLocalISL0[HierarchicalDriving.CarLocalISL0(HierarchicalDriving.CarPhysicalState((94.5241,7.95555,28.1479)),HierarchicalDriving.CarModelL0(2,HierarchicalDriving.CarFrameL0(HierarchicalDriving.IDMParam(1.4,2.0,1.5,27.2352,0.0,4.0),HierarchicalDriving.MOBILParam(0.0,2.0,-2.0),HierarchicalDriving.FSM{Int64,Float64,String}(HierarchicalDriving.FSM_Node{Int64}[HierarchicalDriving.FSM_Node{Int64}(1),HierarchicalDriving.FSM_Node{Int64}(2),HierarchicalDriving.FSM_Node{Int64}(3),HierarchicalDriving.FSM_Node{Int64}(4),HierarchicalDriving.FSM_Node{Int64}(5)],HierarchicalDriving.FSM_Edge{String}[HierarchicalDriving.FSM_Edge{String}(\"Reached\"),HierarchicalDriving.FSM_Edge{String}(\"SafeSmooth\"),HierarchicalDriving.FSM_Edge{String}(\"UnsafeOrUnsmooth\"),HierarchicalDriving.FSM_Edge{String}(\"Undetermined\")],Dict((HierarchicalDriving.FSM_Node{Int64}(1),0.0)=>0.5,(HierarchicalDriving.FSM_Node{Int64}(1),2.0)=>0.5,(HierarchicalDriving.FSM_Node{Int64}(2),0.0)=>1.0,(HierarchicalDriving.FSM_Node{Int64}(3),-2.0)=>1.0,(HierarchicalDriving.FSM_Node{Int64}(4),2.0)=>1.0),Dict((HierarchicalDriving.FSM_Node{Int64}(2),HierarchicalDriving.FSM_Edge{String}(\"UnsafeOrUnsmooth\"),HierarchicalDriving.FSM_Node{Int64}(2))=>1.0,(HierarchicalDriving.FSM_Node{Int64}(4),HierarchicalDriving.FSM_Edge{String}(\"Reached\"),HierarchicalDriving.FSM_Node{Int64}(2))=>1.0,(HierarchicalDriving.FSM_Node{Int64}(2),HierarchicalDriving.FSM_Edge{String}(\"SafeSmooth\"),HierarchicalDriving.FSM_Node{Int64}(2))=>1.0,(HierarchicalDriving.FSM_Node{Int64}(3),HierarchicalDriving.FSM_Edge{String}(\"Undetermined\"),HierarchicalDriving.FSM_Node{Int64}(3))=>0.5,(HierarchicalDriving.FSM_Node{Int64}(1),HierarchicalDriving.FSM_Edge{String}(\"Undetermined\"),HierarchicalDriving.FSM_Node{Int64}(3))=>0.5,(HierarchicalDriving.FSM_Node{Int64}(1),HierarchicalDriving.FSM_Edge{String}(\"Undetermined\"),HierarchicalDriving.FSM_Node{Int64}(4))=>0.5,(HierarchicalDriving.FSM_Node{Int64}(1),HierarchicalDriving.FSM_Edge{String}(\"SafeSmooth\"),HierarchicalDriving.FSM_Node{Int64}(4))=>1.0,(HierarchicalDriving.FSM_Node{Int64}(3),HierarchicalDriving.FSM_Edge{String}(\"UnsafeOrUnsmooth\"),HierarchicalDriving.FSM_Node{Int64}(3))=>1.0,(HierarchicalDriving.FSM_Node{Int64}(2),HierarchicalDriving.FSM_Edge{String}(\"Undetermined\"),HierarchicalDriving.FSM_Node{Int64}(2))=>1.0,(HierarchicalDriving.FSM_Node{Int64}(1),HierarchicalDriving.FSM_Edge{String}(\"UnsafeOrUnsmooth\"),HierarchicalDriving.FSM_Node{Int64}(3))=>1.0…)),6.0,2.5),HierarchicalDriving.FSM_Node{Int64}(4))),HierarchicalDriving.CarLocalISL0(HierarchicalDriving.CarPhysicalState((39.1431,6.0,20.8475)),HierarchicalDriving.CarModelL0(2,HierarchicalDriving.CarFrameL0(HierarchicalDriving.IDMParam(1.4,2.0,1.5,27.2352,0.0,4.0),HierarchicalDriving.MOBILParam(0.0,2.0,-2.0),HierarchicalDriving.FSM{Int64,Float64,String}(HierarchicalDriving.FSM_Node{Int64}[HierarchicalDriving.FSM_Node{Int64}(1),HierarchicalDriving.FSM_Node{Int64}(2),HierarchicalDriving.FSM_Node{Int64}(3),HierarchicalDriving.FSM_Node{Int64}(4),HierarchicalDriving.FSM_Node{Int64}(5)],HierarchicalDriving.FSM_Edge{String}[HierarchicalDriving.FSM_Edge{String}(\"Reached\"),HierarchicalDriving.FSM_Edge{String}(\"SafeSmooth\"),HierarchicalDriving.FSM_Edge{String}(\"UnsafeOrUnsmooth\"),HierarchicalDriving.FSM_Edge{String}(\"Undetermined\")],Dict((HierarchicalDriving.FSM_Node{Int64}(1),0.0)=>0.5,(HierarchicalDriving.FSM_Node{Int64}(1),2.0)=>0.5,(HierarchicalDriving.FSM_Node{Int64}(2),0.0)=>1.0,(HierarchicalDriving.FSM_Node{Int64}(3),-2.0)=>1.0,(HierarchicalDriving.FSM_Node{Int64}(4),2.0)=>1.0),Dict((HierarchicalDriving.FSM_Node{Int64}(2),HierarchicalDriving.FSM_Edge{String}(\"UnsafeOrUnsmooth\"),HierarchicalDriving.FSM_Node{Int64}(2))=>1.0,(HierarchicalDriving.FSM_Node{Int64}(4),HierarchicalDriving.FSM_Edge{String}(\"Reached\"),HierarchicalDriving.FSM_Node{Int64}(2))=>1.0,(HierarchicalDriving.FSM_Node{Int64}(2),HierarchicalDriving.FSM_Edge{String}(\"SafeSmooth\"),HierarchicalDriving.FSM_Node{Int64}(2))=>1.0,(HierarchicalDriving.FSM_Node{Int64}(3),HierarchicalDriving.FSM_Edge{String}(\"Undetermined\"),HierarchicalDriving.FSM_Node{Int64}(3))=>0.5,(HierarchicalDriving.FSM_Node{Int64}(1),HierarchicalDriving.FSM_Edge{String}(\"Undetermined\"),HierarchicalDriving.FSM_Node{Int64}(3))=>0.5,(HierarchicalDriving.FSM_Node{Int64}(1),HierarchicalDriving.FSM_Edge{String}(\"Undetermined\"),HierarchicalDriving.FSM_Node{Int64}(4))=>0.5,(HierarchicalDriving.FSM_Node{Int64}(1),HierarchicalDriving.FSM_Edge{String}(\"SafeSmooth\"),HierarchicalDriving.FSM_Node{Int64}(4))=>1.0,(HierarchicalDriving.FSM_Node{Int64}(3),HierarchicalDriving.FSM_Edge{String}(\"UnsafeOrUnsmooth\"),HierarchicalDriving.FSM_Node{Int64}(3))=>1.0,(HierarchicalDriving.FSM_Node{Int64}(2),HierarchicalDriving.FSM_Edge{String}(\"Undetermined\"),HierarchicalDriving.FSM_Node{Int64}(2))=>1.0,(HierarchicalDriving.FSM_Node{Int64}(1),HierarchicalDriving.FSM_Edge{String}(\"UnsafeOrUnsmooth\"),HierarchicalDriving.FSM_Node{Int64}(3))=>1.0…)),6.0,2.5),HierarchicalDriving.FSM_Node{Int64}(4))),HierarchicalDriving.CarLocalISL0(HierarchicalDriving.CarPhysicalState((-25.2659,6.0,22.0124)),HierarchicalDriving.CarModelL0(1,HierarchicalDriving.CarFrameL0(HierarchicalDriving.IDMParam(1.4,2.0,1.5,25.0,1.0,4.0),HierarchicalDriving.MOBILParam(0.0,2.0,-1.5),HierarchicalDriving.FSM{Int64,Float64,String}(HierarchicalDriving.FSM_Node{Int64}[HierarchicalDriving.FSM_Node{Int64}(1),HierarchicalDriving.FSM_Node{Int64}(2),HierarchicalDriving.FSM_Node{Int64}(3),HierarchicalDriving.FSM_Node{Int64}(4),HierarchicalDriving.FSM_Node{Int64}(5)],HierarchicalDriving.FSM_Edge{String}[HierarchicalDriving.FSM_Edge{String}(\"Reached\"),HierarchicalDriving.FSM_Edge{String}(\"SafeSmooth\"),HierarchicalDriving.FSM_Edge{String}(\"UnsafeOrUnsmooth\"),HierarchicalDriving.FSM_Edge{String}(\"Undetermined\")],Dict((HierarchicalDriving.FSM_Node{Int64}(1),0.0)=>0.5,(HierarchicalDriving.FSM_Node{Int64}(1),2.0)=>0.5,(HierarchicalDriving.FSM_Node{Int64}(2),0.0)=>1.0,(HierarchicalDriving.FSM_Node{Int64}(3),-2.0)=>1.0,(HierarchicalDriving.FSM_Node{Int64}(4),2.0)=>1.0),Dict((HierarchicalDriving.FSM_Node{Int64}(2),HierarchicalDriving.FSM_Edge{String}(\"UnsafeOrUnsmooth\"),HierarchicalDriving.FSM_Node{Int64}(2))=>1.0,(HierarchicalDriving.FSM_Node{Int64}(4),HierarchicalDriving.FSM_Edge{String}(\"Reached\"),HierarchicalDriving.FSM_Node{Int64}(2))=>1.0,(HierarchicalDriving.FSM_Node{Int64}(2),HierarchicalDriving.FSM_Edge{String}(\"SafeSmooth\"),HierarchicalDriving.FSM_Node{Int64}(2))=>1.0,(HierarchicalDriving.FSM_Node{Int64}(3),HierarchicalDriving.FSM_Edge{String}(\"Undetermined\"),HierarchicalDriving.FSM_Node{Int64}(3))=>0.5,(HierarchicalDriving.FSM_Node{Int64}(1),HierarchicalDriving.FSM_Edge{String}(\"Undetermined\"),HierarchicalDriving.FSM_Node{Int64}(3))=>0.5,(HierarchicalDriving.FSM_Node{Int64}(1),HierarchicalDriving.FSM_Edge{String}(\"Undetermined\"),HierarchicalDriving.FSM_Node{Int64}(4))=>0.5,(HierarchicalDriving.FSM_Node{Int64}(1),HierarchicalDriving.FSM_Edge{String}(\"SafeSmooth\"),HierarchicalDriving.FSM_Node{Int64}(4))=>1.0,(HierarchicalDriving.FSM_Node{Int64}(3),HierarchicalDriving.FSM_Edge{String}(\"UnsafeOrUnsmooth\"),HierarchicalDriving.FSM_Node{Int64}(3))=>1.0,(HierarchicalDriving.FSM_Node{Int64}(2),HierarchicalDriving.FSM_Edge{String}(\"Undetermined\"),HierarchicalDriving.FSM_Node{Int64}(2))=>1.0,(HierarchicalDriving.FSM_Node{Int64}(1),HierarchicalDriving.FSM_Edge{String}(\"UnsafeOrUnsmooth\"),HierarchicalDriving.FSM_Node{Int64}(3))=>1.0…)),6.0,2.5),HierarchicalDriving.FSM_Node{Int64}(3)))],HierarchicalDriving.CarLocalISL0[HierarchicalDriving.CarLocalISL0(HierarchicalDriving.CarPhysicalState((-38.9059,10.4199,25.5636)),HierarchicalDriving.CarModelL0(4,HierarchicalDriving.CarFrameL0(HierarchicalDriving.IDMParam(1.4,2.0,1.5,22.7648,2.0,4.0),HierarchicalDriving.MOBILParam(0.0,2.0,-1.0),HierarchicalDriving.FSM{Int64,Float64,String}(HierarchicalDriving.FSM_Node{Int64}[HierarchicalDriving.FSM_Node{Int64}(1),HierarchicalDriving.FSM_Node{Int64}(2),HierarchicalDriving.FSM_Node{Int64}(3),HierarchicalDriving.FSM_Node{Int64}(4),HierarchicalDriving.FSM_Node{Int64}(5)],HierarchicalDriving.FSM_Edge{String}[HierarchicalDriving.FSM_Edge{String}(\"Reached\"),HierarchicalDriving.FSM_Edge{String}(\"SafeSmooth\"),HierarchicalDriving.FSM_Edge{String}(\"UnsafeOrUnsmooth\"),HierarchicalDriving.FSM_Edge{String}(\"Undetermined\")],Dict((HierarchicalDriving.FSM_Node{Int64}(1),0.0)=>0.5,(HierarchicalDriving.FSM_Node{Int64}(1),2.0)=>0.5,(HierarchicalDriving.FSM_Node{Int64}(2),0.0)=>1.0,(HierarchicalDriving.FSM_Node{Int64}(3),-2.0)=>1.0,(HierarchicalDriving.FSM_Node{Int64}(4),2.0)=>1.0),Dict((HierarchicalDriving.FSM_Node{Int64}(2),HierarchicalDriving.FSM_Edge{String}(\"UnsafeOrUnsmooth\"),HierarchicalDriving.FSM_Node{Int64}(2))=>1.0,(HierarchicalDriving.FSM_Node{Int64}(4),HierarchicalDriving.FSM_Edge{String}(\"Reached\"),HierarchicalDriving.FSM_Node{Int64}(2))=>1.0,(HierarchicalDriving.FSM_Node{Int64}(2),HierarchicalDriving.FSM_Edge{String}(\"SafeSmooth\"),HierarchicalDriving.FSM_Node{Int64}(2))=>1.0,(HierarchicalDriving.FSM_Node{Int64}(3),HierarchicalDriving.FSM_Edge{String}(\"Undetermined\"),HierarchicalDriving.FSM_Node{Int64}(3))=>0.5,(HierarchicalDriving.FSM_Node{Int64}(1),HierarchicalDriving.FSM_Edge{String}(\"Undetermined\"),HierarchicalDriving.FSM_Node{Int64}(3))=>0.5,(HierarchicalDriving.FSM_Node{Int64}(1),HierarchicalDriving.FSM_Edge{String}(\"Undetermined\"),HierarchicalDriving.FSM_Node{Int64}(4))=>0.5,(HierarchicalDriving.FSM_Node{Int64}(1),HierarchicalDriving.FSM_Edge{String}(\"SafeSmooth\"),HierarchicalDriving.FSM_Node{Int64}(4))=>1.0,(HierarchicalDriving.FSM_Node{Int64}(3),HierarchicalDriving.FSM_Edge{String}(\"UnsafeOrUnsmooth\"),HierarchicalDriving.FSM_Node{Int64}(3))=>1.0,(HierarchicalDriving.FSM_Node{Int64}(2),HierarchicalDriving.FSM_Edge{String}(\"Undetermined\"),HierarchicalDriving.FSM_Node{Int64}(2))=>1.0,(HierarchicalDriving.FSM_Node{Int64}(1),HierarchicalDriving.FSM_Edge{String}(\"UnsafeOrUnsmooth\"),HierarchicalDriving.FSM_Node{Int64}(3))=>1.0…)),6.0,2.5),HierarchicalDriving.FSM_Node{Int64}(3)))],HierarchicalDriving.CarLocalISL0[HierarchicalDriving.CarLocalISL0(HierarchicalDriving.CarPhysicalState((-16.0537,14.0,24.4292)),HierarchicalDriving.CarModelL0(4,HierarchicalDriving.CarFrameL0(HierarchicalDriving.IDMParam(1.4,2.0,1.5,22.7648,2.0,4.0),HierarchicalDriving.MOBILParam(0.0,2.0,-1.0),HierarchicalDriving.FSM{Int64,Float64,String}(HierarchicalDriving.FSM_Node{Int64}[HierarchicalDriving.FSM_Node{Int64}(1),HierarchicalDriving.FSM_Node{Int64}(2),HierarchicalDriving.FSM_Node{Int64}(3),HierarchicalDriving.FSM_Node{Int64}(4),HierarchicalDriving.FSM_Node{Int64}(5)],HierarchicalDriving.FSM_Edge{String}[HierarchicalDriving.FSM_Edge{String}(\"Reached\"),HierarchicalDriving.FSM_Edge{String}(\"SafeSmooth\"),HierarchicalDriving.FSM_Edge{String}(\"UnsafeOrUnsmooth\"),HierarchicalDriving.FSM_Edge{String}(\"Undetermined\")],Dict((HierarchicalDriving.FSM_Node{Int64}(1),0.0)=>0.5,(HierarchicalDriving.FSM_Node{Int64}(1),2.0)=>0.5,(HierarchicalDriving.FSM_Node{Int64}(2),0.0)=>1.0,(HierarchicalDriving.FSM_Node{Int64}(3),-2.0)=>1.0,(HierarchicalDriving.FSM_Node{Int64}(4),2.0)=>1.0),Dict((HierarchicalDriving.FSM_Node{Int64}(2),HierarchicalDriving.FSM_Edge{String}(\"UnsafeOrUnsmooth\"),HierarchicalDriving.FSM_Node{Int64}(2))=>1.0,(HierarchicalDriving.FSM_Node{Int64}(4),HierarchicalDriving.FSM_Edge{String}(\"Reached\"),HierarchicalDriving.FSM_Node{Int64}(2))=>1.0,(HierarchicalDriving.FSM_Node{Int64}(2),HierarchicalDriving.FSM_Edge{String}(\"SafeSmooth\"),HierarchicalDriving.FSM_Node{Int64}(2))=>1.0,(HierarchicalDriving.FSM_Node{Int64}(3),HierarchicalDriving.FSM_Edge{String}(\"Undetermined\"),HierarchicalDriving.FSM_Node{Int64}(3))=>0.5,(HierarchicalDriving.FSM_Node{Int64}(1),HierarchicalDriving.FSM_Edge{String}(\"Undetermined\"),HierarchicalDriving.FSM_Node{Int64}(3))=>0.5,(HierarchicalDriving.FSM_Node{Int64}(1),HierarchicalDriving.FSM_Edge{String}(\"Undetermined\"),HierarchicalDriving.FSM_Node{Int64}(4))=>0.5,(HierarchicalDriving.FSM_Node{Int64}(1),HierarchicalDriving.FSM_Edge{String}(\"SafeSmooth\"),HierarchicalDriving.FSM_Node{Int64}(4))=>1.0,(HierarchicalDriving.FSM_Node{Int64}(3),HierarchicalDriving.FSM_Edge{String}(\"UnsafeOrUnsmooth\"),HierarchicalDriving.FSM_Node{Int64}(3))=>1.0,(HierarchicalDriving.FSM_Node{Int64}(2),HierarchicalDriving.FSM_Edge{String}(\"Undetermined\"),HierarchicalDriving.FSM_Node{Int64}(2))=>1.0,(HierarchicalDriving.FSM_Node{Int64}(1),HierarchicalDriving.FSM_Edge{String}(\"UnsafeOrUnsmooth\"),HierarchicalDriving.FSM_Node{Int64}(3))=>1.0…)),6.0,2.5),HierarchicalDriving.FSM_Node{Int64}(4)))]]))"
      ]
     },
     "execution_count": 18,
     "metadata": {
      "comm_id": "282f54ef-7951-4c67-8048-f25b575895d9",
      "reactive": true
     },
     "output_type": "execute_result"
    }
   ],
   "source": [
    "solver = DPWSolver(depth=p.HORIZON,\n",
    "                           exploration_constant=10.0,\n",
    "                           n_iterations=1_500,\n",
    "                           k_action=10.0,\n",
    "                           alpha_action=1/10,\n",
    "                           k_state=5.0,\n",
    "                           alpha_state=1/10,\n",
    "                          )\n",
    "policy1 = solve(solver, p)\n",
    "hr1 = HistoryRecorder(max_steps = p.HORIZON, rng = MersenneTwister(i))\n",
    "hist1 = simulate(hr1, p, policy1)\n",
    "@manipulate for i in 1:n_steps(hist1)+1\n",
    "    (p,state_hist(hist1)[i])\n",
    "end"
   ]
  },
  {
   "cell_type": "code",
   "execution_count": 33,
   "metadata": {
    "collapsed": false,
    "deletable": true,
    "editable": true
   },
   "outputs": [
    {
     "data": {
      "text/plain": [
       "19.371024450000007"
      ]
     },
     "execution_count": 33,
     "metadata": {},
     "output_type": "execute_result"
    }
   ],
   "source": [
    "discounted_reward(hist)"
   ]
  },
  {
   "cell_type": "code",
   "execution_count": 34,
   "metadata": {
    "collapsed": false,
    "deletable": true,
    "editable": true
   },
   "outputs": [
    {
     "data": {
      "text/plain": [
       "19.371024450000007"
      ]
     },
     "execution_count": 34,
     "metadata": {},
     "output_type": "execute_result"
    }
   ],
   "source": [
    "discounted_reward(hist1)"
   ]
  },
  {
   "cell_type": "code",
   "execution_count": 3,
   "metadata": {
    "collapsed": false,
    "deletable": true,
    "editable": true
   },
   "outputs": [
    {
     "data": {
      "text/plain": [
       "testing (generic function with 1 method)"
      ]
     },
     "execution_count": 3,
     "metadata": {},
     "output_type": "execute_result"
    }
   ],
   "source": [
    "function testing()\n",
    "    n = 100\n",
    "    sum = 0.0\n",
    "    sum1 = 0.0\n",
    "    numPositiveRnd = 0\n",
    "    numPositiveMCTS = 0\n",
    "    for i in 1:n\n",
    "        #policy = RandomPolicy(p)\n",
    "        policy = subintentional_policy(p)\n",
    "        hr = HistoryRecorder(max_steps = p.HORIZON, rng = MersenneTwister(i))\n",
    "        hist = simulate(hr, p, policy)\n",
    "\n",
    "        solver = DPWSolver(depth=p.HORIZON,\n",
    "                               exploration_constant=10.0,\n",
    "                               n_iterations=1_500,\n",
    "                               k_action=10.0,\n",
    "                               alpha_action=1/10,\n",
    "                               k_state=10.0,\n",
    "                               alpha_state=1/10,\n",
    "                              )\n",
    "        policy1 = solve(solver, p)\n",
    "        hr1 = HistoryRecorder(max_steps = p.HORIZON, rng = MersenneTwister(i))\n",
    "        hist1 = simulate(hr1, p, policy1)\n",
    "\n",
    "        println(i, \",\", discounted_reward(hist), \",\", discounted_reward(hist1))\n",
    "        sum += discounted_reward(hist)\n",
    "        sum1+= discounted_reward(hist1)\n",
    "        if discounted_reward(hist)>0\n",
    "            numPositiveRnd += 1\n",
    "        end\n",
    "        if discounted_reward(hist1)>0\n",
    "            numPositiveMCTS += 1\n",
    "        end\n",
    "    end\n",
    "    println(\"Mean: \",sum/n,\",\", sum1/n)\n",
    "    println(\"Success Rate: \", numPositiveRnd/n, \",\", numPositiveMCTS/n)\n",
    "end"
   ]
  },
  {
   "cell_type": "code",
   "execution_count": 6,
   "metadata": {
    "collapsed": false,
    "deletable": true,
    "editable": true
   },
   "outputs": [
    {
     "name": "stdout",
     "output_type": "stream",
     "text": [
      "1,45.67586237418204,33.44362786146521\n",
      "2,45.67586237418204,36.89047805274641\n",
      "3,45.67586237418204,35.73776284074641\n",
      "4,45.67586237418204,24.69510227571395\n",
      "5,45.67586237418204,38.0089564702348\n",
      "6,45.67586237418204,34.5506943983548\n",
      "7,45.67586237418204,36.89047805274641\n",
      "8,45.67586237418204,35.73776284074641\n",
      "9,45.67586237418204,36.90223925274641\n",
      "10,45.67586237418204,34.16909686021894\n",
      "11,45.67586237418204,38.06659805274641\n",
      "12,45.67586237418204,36.86753902002761\n",
      "13,45.67586237418204,33.00473806021895\n",
      "14,45.67586237418204,34.57340404074641\n",
      "15,45.67586237418204,36.89047805274641\n",
      "16,45.67586237418204,36.90223925274641\n",
      "17,45.67586237418204,27.14318237155775\n",
      "18,45.67586237418204,34.58493119286641\n",
      "19,45.67586237418204,35.726119252746415\n",
      "20,45.67586237418204,36.46403764565245\n",
      "21,45.67586237418204,31.90943038285056\n",
      "22,45.67586237418204,34.16909686021894\n",
      "23,45.67586237418204,35.726119252746415\n",
      "24,45.67586237418204,34.157453272218945\n",
      "25,45.67586237418204,34.57340404074641\n",
      "26,45.67586237418204,36.8445976702348\n",
      "27,45.67586237418204,30.614411325213947\n",
      "28,45.67586237418204,30.614411325213947\n",
      "29,45.67586237418204,34.157453272218945\n",
      "30,45.67586237418204,36.90223925274641\n",
      "31,45.67586237418204,38.06659805274641\n",
      "32,45.67586237418204,29.20518745437125\n",
      "33,45.67586237418204,29.508770120683998\n",
      "34,45.67586237418204,33.91205207221895\n",
      "35,45.67586237418204,34.192035892937746\n",
      "36,45.67586237418204,36.91388284074641\n",
      "37,45.67586237418204,29.484984465333945\n",
      "38,45.67586237418204,39.138732649516\n",
      "39,45.67586237418204,38.06659805274641\n",
      "40,45.67586237418204,36.856241258234796\n",
      "41,45.67586237418204,29.461696113213947\n",
      "42,45.67586237418204,38.06659805274641\n",
      "43,45.67586237418204,36.89047805274641\n",
      "44,45.67586237418204,36.90223925274641\n",
      "45,45.67586237418204,34.596343073465206\n",
      "46,45.67586237418204,34.59657478086641\n",
      "47,45.67586237418204,31.886489033057746\n",
      "48,45.67586237418204,36.8445976702348\n",
      "49,45.67586237418204,32.98225551425125\n",
      "50,45.67586237418204,34.57340404074641\n",
      "51,45.67586237418204,33.79322570553245\n",
      "52,45.67586237418204,34.57340404074641\n",
      "53,45.67586237418204,29.254028800338947\n",
      "54,45.67586237418204,34.57340404074641\n",
      "55,45.67586237418204,35.73776284074641\n",
      "56,45.67586237418204,32.183077305741406\n",
      "57,45.67586237418204,35.6918824582348\n",
      "58,45.67586237418204,36.879529610354794\n",
      "59,45.67586237418204,29.414146610718948\n",
      "60,45.67586237418204,35.6918824582348\n",
      "61,45.67586237418204,35.73776284074641\n",
      "62,45.67586237418204,34.596343073465206\n",
      "63,45.67586237418204,30.518832022218948\n",
      "64,45.67586237418204,28.24978781071895\n",
      "65,45.67586237418204,34.57340404074641\n",
      "66,45.67586237418204,36.90223925274641\n",
      "67,45.67586237418204,35.31132243365245\n",
      "68,45.67586237418204,36.89047805274641\n",
      "69,45.67586237418204,35.726119252746415\n",
      "70,45.67586237418204,33.050847833057745\n",
      "71,45.67586237418204,35.726119252746415\n",
      "72,45.67586237418204,29.402503022718946\n",
      "73,45.67586237418204,38.0089564702348\n",
      "74,45.67586237418204,35.26474690553245\n",
      "75,45.67586237418204,34.57340404074641\n",
      "76,45.67586237418204,34.596343073465206\n",
      "77,-5.0,38.0089564702348\n",
      "78,45.67586237418204,36.89047805274641\n",
      "79,45.67586237418204,35.73776284074641\n",
      "80,45.67586237418204,34.57340404074641\n",
      "81,45.67586237418204,33.00473806021895\n",
      "82,45.67586237418204,33.02790880033895\n",
      "83,45.67586237418204,35.6918824582348\n",
      "84,45.67586237418204,35.726119252746415\n",
      "85,45.67586237418204,29.41615809864745\n",
      "86,45.67586237418204,28.297337313213948\n",
      "87,45.67586237418204,34.16909686021894\n",
      "88,45.67586237418204,34.59657478086641\n",
      "89,45.67586237418204,29.21153169353245\n",
      "90,45.67586237418204,36.89047805274641\n",
      "91,45.67586237418204,29.473457313213945\n",
      "92,45.67586237418204,35.74928999286641\n",
      "93,-5.0,35.726119252746415\n",
      "94,45.67586237418204,34.16909686021894\n",
      "95,45.67586237418204,36.89047805274641\n",
      "96,45.67586237418204,32.97084363365245\n",
      "97,45.67586237418204,36.89047805274641\n",
      "98,45.67586237418204,35.726119252746415\n",
      "99,45.67586237418204,35.76105119286641\n",
      "100,45.67586237418204,35.726119252746415\n",
      "Mean: 44.6623451266984,34.403108738272685\n",
      "Success Rate: 0.98,1.0\n",
      "164.326353 seconds (2.73 G allocations: 75.107 GB, 20.89% gc time)\n"
     ]
    }
   ],
   "source": [
    "@time testing()"
   ]
  },
  {
   "cell_type": "code",
   "execution_count": null,
   "metadata": {
    "collapsed": true
   },
   "outputs": [],
   "source": []
  }
 ],
 "metadata": {
  "anaconda-cloud": {},
  "kernelspec": {
   "display_name": "Julia 0.5.0",
   "language": "julia",
   "name": "julia-0.5"
  },
  "language_info": {
   "file_extension": ".jl",
   "mimetype": "application/julia",
   "name": "julia",
   "version": "0.5.0"
  },
  "widgets": {
   "state": {
    "1758c2da-f353-456b-b392-cc29a8c40c04": {
     "views": [
      {
       "cell_index": 2
      }
     ]
    },
    "6f8e3891-a132-419f-b125-27568f018288": {
     "views": [
      {
       "cell_index": 3
      }
     ]
    }
   },
   "version": "1.2.0"
  }
 },
 "nbformat": 4,
 "nbformat_minor": 1
}
