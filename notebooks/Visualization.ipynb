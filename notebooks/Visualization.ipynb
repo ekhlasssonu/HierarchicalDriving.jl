{
 "cells": [
  {
   "cell_type": "code",
   "execution_count": 1,
   "metadata": {
    "collapsed": false,
    "deletable": true,
    "editable": true
   },
   "outputs": [
    {
     "data": {
      "text/html": [
       "<div id=\"interact-js-shim\">\n",
       "    <script charset=\"utf-8\">\n",
       "(function (IPython, $, _, MathJax) {\n",
       "    $.event.special.destroyed = {\n",
       "\tremove: function(o) {\n",
       "\t    if (o.handler) {\n",
       "\t\to.handler.apply(this, arguments)\n",
       "\t    }\n",
       "\t}\n",
       "    }\n",
       "\n",
       "    var OutputArea = IPython.version >= \"4.0.0\" ? require(\"notebook/js/outputarea\").OutputArea : IPython.OutputArea;\n",
       "\n",
       "    var redrawValue = function (container, type, val) {\n",
       "\tvar selector = $(\"<div/>\");\n",
       "\tvar oa = new OutputArea(_.extend(selector, {\n",
       "\t    selector: selector,\n",
       "\t    prompt_area: true,\n",
       "\t    events: IPython.events,\n",
       "\t    keyboard_manager: IPython.keyboard_manager\n",
       "\t})); // Hack to work with IPython 2.1.0\n",
       "\n",
       "\tswitch (type) {\n",
       "\tcase \"image/png\":\n",
       "            var _src = 'data:' + type + ';base64,' + val;\n",
       "\t    $(container).find(\"img\").attr('src', _src);\n",
       "\t    break;\n",
       "\tcase \"text/latex\":\n",
       "\t\tif (MathJax){\n",
       "\t\t\tvar math = MathJax.Hub.getAllJax(container)[0];\n",
       "\t\t\tMathJax.Hub.Queue([\"Text\", math, val.replace(/^\\${1,2}|\\${1,2}$/g, '')]);\n",
       "\t\t\tbreak;\n",
       "\t\t}\n",
       "\tdefault:\n",
       "\t    var toinsert = OutputArea.append_map[type].apply(\n",
       "\t\toa, [val, {}, selector]\n",
       "\t    );\n",
       "\t    $(container).empty().append(toinsert.contents());\n",
       "\t    selector.remove();\n",
       "\t}\n",
       "    }\n",
       "\n",
       "\n",
       "    $(document).ready(function() {\n",
       "\tfunction initComm(evt, data) {\n",
       "\t    var comm_manager = data.kernel.comm_manager;\n",
       "        //_.extend(comm_manager.targets, require(\"widgets/js/widget\"))\n",
       "\t    comm_manager.register_target(\"Signal\", function (comm) {\n",
       "            comm.on_msg(function (msg) {\n",
       "                var val = msg.content.data.value;\n",
       "                $(\".signal-\" + comm.comm_id).each(function() {\n",
       "                var type = $(this).data(\"type\");\n",
       "                if (typeof(val[type]) !== \"undefined\" && val[type] !== null) {\n",
       "                    redrawValue(this, type, val[type], type);\n",
       "                }\n",
       "                });\n",
       "                delete val;\n",
       "                delete msg.content.data.value;\n",
       "            });\n",
       "\t    });\n",
       "\n",
       "\t    // coordingate with Comm and redraw Signals\n",
       "\t    // XXX: Test using Reactive here to improve performance\n",
       "\t    $([IPython.events]).on(\n",
       "\t\t'output_appended.OutputArea', function (event, type, value, md, toinsert) {\n",
       "\t\t    if (md && md.reactive) {\n",
       "                // console.log(md.comm_id);\n",
       "                toinsert.addClass(\"signal-\" + md.comm_id);\n",
       "                toinsert.data(\"type\", type);\n",
       "                // Signal back indicating the mimetype required\n",
       "                var comm_manager = IPython.notebook.kernel.comm_manager;\n",
       "                var comm = comm_manager.comms[md.comm_id];\n",
       "                comm.then(function (c) {\n",
       "                    c.send({action: \"subscribe_mime\",\n",
       "                       mime: type});\n",
       "                    toinsert.bind(\"destroyed\", function() {\n",
       "                        c.send({action: \"unsubscribe_mime\",\n",
       "                               mime: type});\n",
       "                    });\n",
       "                })\n",
       "\t\t    }\n",
       "\t    });\n",
       "\t}\n",
       "\n",
       "\ttry {\n",
       "\t    // try to initialize right away. otherwise, wait on the status_started event.\n",
       "\t    initComm(undefined, IPython.notebook);\n",
       "\t} catch (e) {\n",
       "\t    $([IPython.events]).on('kernel_created.Kernel kernel_created.Session', initComm);\n",
       "\t}\n",
       "    });\n",
       "})(IPython, jQuery, _, MathJax);\n",
       "</script>\n",
       "    <script>\n",
       "        window.interactLoadedFlag = true\n",
       "       $(\"#interact-js-shim\").bind(\"destroyed\", function () {\n",
       "           if (window.interactLoadedFlag) {\n",
       "               console.warn(\"JavaScript required by Interact will be removed if you remove this cell or run using Interact more than once.\")\n",
       "           }\n",
       "       })\n",
       "       $([IPython.events]).on(\"kernel_starting.Kernel kernel_restarting.Kernel\", function () { window.interactLoadedFlag = false })\n",
       "   </script>\n",
       "</div>"
      ]
     },
     "metadata": {},
     "output_type": "display_data"
    }
   ],
   "source": [
    "using HierarchicalDriving\n",
    "import POMDPs:initial_state\n",
    "using POMDPToolbox\n",
    "using Interact\n",
    "using MCTS\n",
    "using AutoViz\n",
    "import ParticleFilters: obs_weight\n",
    "import Base: ==, +, *, -, <, >, copy, Random, hash"
   ]
  },
  {
   "cell_type": "code",
   "execution_count": 2,
   "metadata": {
    "collapsed": false,
    "deletable": true,
    "editable": true
   },
   "outputs": [],
   "source": [
    "HORIZON = 13\n",
    "TIME_STEP = 0.3\n",
    "lb_x = (AVG_HWY_VELOCITY - 5.0) * TIME_STEP * HORIZON\n",
    "ub_x = (AVG_HWY_VELOCITY + 5.0) * TIME_STEP * HORIZON\n",
    "p = LowLevelMDP(0.99,TIME_STEP, HORIZON,\n",
    "                            HierarchicalDriving.RoadSegment((-100.0, 500.0),[0.0, LANE_WIDTH, 2.0 * LANE_WIDTH, 3.0 * LANE_WIDTH, 4.0 * LANE_WIDTH]),\n",
    "                            CarPhysicalState((0.0, 3.0 * LANE_WIDTH/2.0, AVG_HWY_VELOCITY)),\n",
    "                            (CarPhysicalState((lb_x, 5.0 * LANE_WIDTH/2.0 - 0.5, AVG_HWY_VELOCITY - 5)),\n",
    "                             CarPhysicalState((ub_x, 5.0 * LANE_WIDTH/2.0 + 0.5, AVG_HWY_VELOCITY + 5))),\n",
    "                            50.0, -500.0, -0.0, -5.0, -5.0, -1.0, HierarchicalDriving.getFrameList());\n"
   ]
  },
  {
   "cell_type": "code",
   "execution_count": 18,
   "metadata": {
    "collapsed": false,
    "deletable": true,
    "editable": true,
    "scrolled": false
   },
   "outputs": [
    {
     "data": {
      "text/html": [],
      "text/plain": [
       "Interact.Options{:SelectionSlider,Int64}(Signal{Int64}(7, nactions=1),\"i\",7,\"7\",Interact.OptionDict(DataStructures.OrderedDict(\"1\"=>1,\"2\"=>2,\"3\"=>3,\"4\"=>4,\"5\"=>5,\"6\"=>6,\"7\"=>7,\"8\"=>8,\"9\"=>9,\"10\"=>10…),Dict(2=>\"2\",11=>\"11\",7=>\"7\",9=>\"9\",10=>\"10\",8=>\"8\",6=>\"6\",4=>\"4\",3=>\"3\",5=>\"5\"…)),Any[],Any[],true,\"horizontal\")"
      ]
     },
     "metadata": {},
     "output_type": "display_data"
    },
    {
     "data": {
      "image/png": "[encoded data removed]",
      "text/plain": [
       "(HierarchicalDriving.LowLevelMDP(0.99,0.3,13,HierarchicalDriving.RoadSegment((-100.0,500.0),[0.0,4.0,8.0,12.0,16.0]),HierarchicalDriving.CarPhysicalState((0.0,6.0,25.0)),(HierarchicalDriving.CarPhysicalState((78.0,9.5,20.0)),HierarchicalDriving.CarPhysicalState((117.0,10.5,30.0))),50.0,-500.0,-0.0,-5.0,-5.0,-1.0,HierarchicalDriving.LowLevelCarFrameL0[HierarchicalDriving.LowLevelCarFrameL0(HierarchicalDriving.IDMParam(1.4,2.0,1.5,22.7648,2.0,4.0),HierarchicalDriving.MOBILParam(0.0,2.0,-1.0),HierarchicalDriving.FSM{Int64,Float64,String}(HierarchicalDriving.FSM_Node{Int64}[HierarchicalDriving.FSM_Node{Int64}(1),HierarchicalDriving.FSM_Node{Int64}(2),HierarchicalDriving.FSM_Node{Int64}(3),HierarchicalDriving.FSM_Node{Int64}(4),HierarchicalDriving.FSM_Node{Int64}(5)],HierarchicalDriving.FSM_Edge{String}[HierarchicalDriving.FSM_Edge{String}(\"Reached\"),HierarchicalDriving.FSM_Edge{String}(\"SafeSmooth\"),HierarchicalDriving.FSM_Edge{String}(\"UnsafeOrUnsmooth\"),HierarchicalDriving.FSM_Edge{String}(\"Undetermined\")],Dict((HierarchicalDriving.FSM_Node{Int64}(1),0.0)=>0.5,(HierarchicalDriving.FSM_Node{Int64}(1),2.0)=>0.5,(HierarchicalDriving.FSM_Node{Int64}(2),0.0)=>1.0,(HierarchicalDriving.FSM_Node{Int64}(3),-2.0)=>1.0,(HierarchicalDriving.FSM_Node{Int64}(4),2.0)=>1.0),Dict((HierarchicalDriving.FSM_Node{Int64}(2),HierarchicalDriving.FSM_Edge{String}(\"UnsafeOrUnsmooth\"),HierarchicalDriving.FSM_Node{Int64}(2))=>1.0,(HierarchicalDriving.FSM_Node{Int64}(4),HierarchicalDriving.FSM_Edge{String}(\"Reached\"),HierarchicalDriving.FSM_Node{Int64}(2))=>1.0,(HierarchicalDriving.FSM_Node{Int64}(2),HierarchicalDriving.FSM_Edge{String}(\"SafeSmooth\"),HierarchicalDriving.FSM_Node{Int64}(2))=>1.0,(HierarchicalDriving.FSM_Node{Int64}(3),HierarchicalDriving.FSM_Edge{String}(\"Undetermined\"),HierarchicalDriving.FSM_Node{Int64}(3))=>0.5,(HierarchicalDriving.FSM_Node{Int64}(1),HierarchicalDriving.FSM_Edge{String}(\"Undetermined\"),HierarchicalDriving.FSM_Node{Int64}(3))=>0.5,(HierarchicalDriving.FSM_Node{Int64}(1),HierarchicalDriving.FSM_Edge{String}(\"Undetermined\"),HierarchicalDriving.FSM_Node{Int64}(4))=>0.5,(HierarchicalDriving.FSM_Node{Int64}(1),HierarchicalDriving.FSM_Edge{String}(\"SafeSmooth\"),HierarchicalDriving.FSM_Node{Int64}(4))=>1.0,(HierarchicalDriving.FSM_Node{Int64}(3),HierarchicalDriving.FSM_Edge{String}(\"UnsafeOrUnsmooth\"),HierarchicalDriving.FSM_Node{Int64}(3))=>1.0,(HierarchicalDriving.FSM_Node{Int64}(2),HierarchicalDriving.FSM_Edge{String}(\"Undetermined\"),HierarchicalDriving.FSM_Node{Int64}(2))=>1.0,(HierarchicalDriving.FSM_Node{Int64}(1),HierarchicalDriving.FSM_Edge{String}(\"UnsafeOrUnsmooth\"),HierarchicalDriving.FSM_Node{Int64}(3))=>1.0…)),6.0,2.5),HierarchicalDriving.LowLevelCarFrameL0(HierarchicalDriving.IDMParam(1.4,2.0,1.5,25.0,1.0,4.0),HierarchicalDriving.MOBILParam(0.0,2.0,-1.5),HierarchicalDriving.FSM{Int64,Float64,String}(HierarchicalDriving.FSM_Node{Int64}[HierarchicalDriving.FSM_Node{Int64}(1),HierarchicalDriving.FSM_Node{Int64}(2),HierarchicalDriving.FSM_Node{Int64}(3),HierarchicalDriving.FSM_Node{Int64}(4),HierarchicalDriving.FSM_Node{Int64}(5)],HierarchicalDriving.FSM_Edge{String}[HierarchicalDriving.FSM_Edge{String}(\"Reached\"),HierarchicalDriving.FSM_Edge{String}(\"SafeSmooth\"),HierarchicalDriving.FSM_Edge{String}(\"UnsafeOrUnsmooth\"),HierarchicalDriving.FSM_Edge{String}(\"Undetermined\")],Dict((HierarchicalDriving.FSM_Node{Int64}(1),0.0)=>0.5,(HierarchicalDriving.FSM_Node{Int64}(1),2.0)=>0.5,(HierarchicalDriving.FSM_Node{Int64}(2),0.0)=>1.0,(HierarchicalDriving.FSM_Node{Int64}(3),-2.0)=>1.0,(HierarchicalDriving.FSM_Node{Int64}(4),2.0)=>1.0),Dict((HierarchicalDriving.FSM_Node{Int64}(2),HierarchicalDriving.FSM_Edge{String}(\"UnsafeOrUnsmooth\"),HierarchicalDriving.FSM_Node{Int64}(2))=>1.0,(HierarchicalDriving.FSM_Node{Int64}(4),HierarchicalDriving.FSM_Edge{String}(\"Reached\"),HierarchicalDriving.FSM_Node{Int64}(2))=>1.0,(HierarchicalDriving.FSM_Node{Int64}(2),HierarchicalDriving.FSM_Edge{String}(\"SafeSmooth\"),HierarchicalDriving.FSM_Node{Int64}(2))=>1.0,(HierarchicalDriving.FSM_Node{Int64}(3),HierarchicalDriving.FSM_Edge{String}(\"Undetermined\"),HierarchicalDriving.FSM_Node{Int64}(3))=>0.5,(HierarchicalDriving.FSM_Node{Int64}(1),HierarchicalDriving.FSM_Edge{String}(\"Undetermined\"),HierarchicalDriving.FSM_Node{Int64}(3))=>0.5,(HierarchicalDriving.FSM_Node{Int64}(1),HierarchicalDriving.FSM_Edge{String}(\"Undetermined\"),HierarchicalDriving.FSM_Node{Int64}(4))=>0.5,(HierarchicalDriving.FSM_Node{Int64}(1),HierarchicalDriving.FSM_Edge{String}(\"SafeSmooth\"),HierarchicalDriving.FSM_Node{Int64}(4))=>1.0,(HierarchicalDriving.FSM_Node{Int64}(3),HierarchicalDriving.FSM_Edge{String}(\"UnsafeOrUnsmooth\"),HierarchicalDriving.FSM_Node{Int64}(3))=>1.0,(HierarchicalDriving.FSM_Node{Int64}(2),HierarchicalDriving.FSM_Edge{String}(\"Undetermined\"),HierarchicalDriving.FSM_Node{Int64}(2))=>1.0,(HierarchicalDriving.FSM_Node{Int64}(1),HierarchicalDriving.FSM_Edge{String}(\"UnsafeOrUnsmooth\"),HierarchicalDriving.FSM_Node{Int64}(3))=>1.0…)),6.0,2.5),HierarchicalDriving.LowLevelCarFrameL0(HierarchicalDriving.IDMParam(1.4,2.0,1.5,27.2352,0.5,4.0),HierarchicalDriving.MOBILParam(0.0,2.0,-2.0),HierarchicalDriving.FSM{Int64,Float64,String}(HierarchicalDriving.FSM_Node{Int64}[HierarchicalDriving.FSM_Node{Int64}(1),HierarchicalDriving.FSM_Node{Int64}(2),HierarchicalDriving.FSM_Node{Int64}(3),HierarchicalDriving.FSM_Node{Int64}(4),HierarchicalDriving.FSM_Node{Int64}(5)],HierarchicalDriving.FSM_Edge{String}[HierarchicalDriving.FSM_Edge{String}(\"Reached\"),HierarchicalDriving.FSM_Edge{String}(\"SafeSmooth\"),HierarchicalDriving.FSM_Edge{String}(\"UnsafeOrUnsmooth\"),HierarchicalDriving.FSM_Edge{String}(\"Undetermined\")],Dict((HierarchicalDriving.FSM_Node{Int64}(1),0.0)=>0.5,(HierarchicalDriving.FSM_Node{Int64}(1),2.0)=>0.5,(HierarchicalDriving.FSM_Node{Int64}(2),0.0)=>1.0,(HierarchicalDriving.FSM_Node{Int64}(3),-2.0)=>1.0,(HierarchicalDriving.FSM_Node{Int64}(4),2.0)=>1.0),Dict((HierarchicalDriving.FSM_Node{Int64}(2),HierarchicalDriving.FSM_Edge{String}(\"UnsafeOrUnsmooth\"),HierarchicalDriving.FSM_Node{Int64}(2))=>1.0,(HierarchicalDriving.FSM_Node{Int64}(4),HierarchicalDriving.FSM_Edge{String}(\"Reached\"),HierarchicalDriving.FSM_Node{Int64}(2))=>1.0,(HierarchicalDriving.FSM_Node{Int64}(2),HierarchicalDriving.FSM_Edge{String}(\"SafeSmooth\"),HierarchicalDriving.FSM_Node{Int64}(2))=>1.0,(HierarchicalDriving.FSM_Node{Int64}(3),HierarchicalDriving.FSM_Edge{String}(\"Undetermined\"),HierarchicalDriving.FSM_Node{Int64}(3))=>0.5,(HierarchicalDriving.FSM_Node{Int64}(1),HierarchicalDriving.FSM_Edge{String}(\"Undetermined\"),HierarchicalDriving.FSM_Node{Int64}(3))=>0.5,(HierarchicalDriving.FSM_Node{Int64}(1),HierarchicalDriving.FSM_Edge{String}(\"Undetermined\"),HierarchicalDriving.FSM_Node{Int64}(4))=>0.5,(HierarchicalDriving.FSM_Node{Int64}(1),HierarchicalDriving.FSM_Edge{String}(\"SafeSmooth\"),HierarchicalDriving.FSM_Node{Int64}(4))=>1.0,(HierarchicalDriving.FSM_Node{Int64}(3),HierarchicalDriving.FSM_Edge{String}(\"UnsafeOrUnsmooth\"),HierarchicalDriving.FSM_Node{Int64}(3))=>1.0,(HierarchicalDriving.FSM_Node{Int64}(2),HierarchicalDriving.FSM_Edge{String}(\"Undetermined\"),HierarchicalDriving.FSM_Node{Int64}(2))=>1.0,(HierarchicalDriving.FSM_Node{Int64}(1),HierarchicalDriving.FSM_Edge{String}(\"UnsafeOrUnsmooth\"),HierarchicalDriving.FSM_Node{Int64}(3))=>1.0…)),6.0,2.5)]),HierarchicalDriving.GlobalStateL1{HierarchicalDriving.CarLocalIS}(0,HierarchicalDriving.CarPhysicalState((43.04737339664312,6.0,23.67915323295217)),Array{HierarchicalDriving.CarLocalIS,1}[HierarchicalDriving.CarLocalIS[HierarchicalDriving.CarLocalIS{HierarchicalDriving.ParamCarModelL0}(HierarchicalDriving.CarPhysicalState((85.6133,2.0,25.1131)),HierarchicalDriving.ParamCarModelL0(2,HierarchicalDriving.LowLevelCarFrameL0(HierarchicalDriving.IDMParam(1.4,2.0,1.5,25.0,1.0,4.0),HierarchicalDriving.MOBILParam(0.0,2.0,-1.5),HierarchicalDriving.FSM{Int64,Float64,String}(HierarchicalDriving.FSM_Node{Int64}[HierarchicalDriving.FSM_Node{Int64}(1),HierarchicalDriving.FSM_Node{Int64}(2),HierarchicalDriving.FSM_Node{Int64}(3),HierarchicalDriving.FSM_Node{Int64}(4),HierarchicalDriving.FSM_Node{Int64}(5)],HierarchicalDriving.FSM_Edge{String}[HierarchicalDriving.FSM_Edge{String}(\"Reached\"),HierarchicalDriving.FSM_Edge{String}(\"SafeSmooth\"),HierarchicalDriving.FSM_Edge{String}(\"UnsafeOrUnsmooth\"),HierarchicalDriving.FSM_Edge{String}(\"Undetermined\")],Dict((HierarchicalDriving.FSM_Node{Int64}(1),0.0)=>0.5,(HierarchicalDriving.FSM_Node{Int64}(1),2.0)=>0.5,(HierarchicalDriving.FSM_Node{Int64}(2),0.0)=>1.0,(HierarchicalDriving.FSM_Node{Int64}(3),-2.0)=>1.0,(HierarchicalDriving.FSM_Node{Int64}(4),2.0)=>1.0),Dict((HierarchicalDriving.FSM_Node{Int64}(2),HierarchicalDriving.FSM_Edge{String}(\"UnsafeOrUnsmooth\"),HierarchicalDriving.FSM_Node{Int64}(2))=>1.0,(HierarchicalDriving.FSM_Node{Int64}(4),HierarchicalDriving.FSM_Edge{String}(\"Reached\"),HierarchicalDriving.FSM_Node{Int64}(2))=>1.0,(HierarchicalDriving.FSM_Node{Int64}(2),HierarchicalDriving.FSM_Edge{String}(\"SafeSmooth\"),HierarchicalDriving.FSM_Node{Int64}(2))=>1.0,(HierarchicalDriving.FSM_Node{Int64}(3),HierarchicalDriving.FSM_Edge{String}(\"Undetermined\"),HierarchicalDriving.FSM_Node{Int64}(3))=>0.5,(HierarchicalDriving.FSM_Node{Int64}(1),HierarchicalDriving.FSM_Edge{String}(\"Undetermined\"),HierarchicalDriving.FSM_Node{Int64}(3))=>0.5,(HierarchicalDriving.FSM_Node{Int64}(1),HierarchicalDriving.FSM_Edge{String}(\"Undetermined\"),HierarchicalDriving.FSM_Node{Int64}(4))=>0.5,(HierarchicalDriving.FSM_Node{Int64}(1),HierarchicalDriving.FSM_Edge{String}(\"SafeSmooth\"),HierarchicalDriving.FSM_Node{Int64}(4))=>1.0,(HierarchicalDriving.FSM_Node{Int64}(3),HierarchicalDriving.FSM_Edge{String}(\"UnsafeOrUnsmooth\"),HierarchicalDriving.FSM_Node{Int64}(3))=>1.0,(HierarchicalDriving.FSM_Node{Int64}(2),HierarchicalDriving.FSM_Edge{String}(\"Undetermined\"),HierarchicalDriving.FSM_Node{Int64}(2))=>1.0,(HierarchicalDriving.FSM_Node{Int64}(1),HierarchicalDriving.FSM_Edge{String}(\"UnsafeOrUnsmooth\"),HierarchicalDriving.FSM_Node{Int64}(3))=>1.0…)),6.0,2.5),HierarchicalDriving.FSM_Node{Int64}(3))),HierarchicalDriving.CarLocalIS{HierarchicalDriving.ParamCarModelL0}(HierarchicalDriving.CarPhysicalState((-2.00524,2.0,23.6325)),HierarchicalDriving.ParamCarModelL0(1,HierarchicalDriving.LowLevelCarFrameL0(HierarchicalDriving.IDMParam(1.4,2.0,1.5,27.2352,0.5,4.0),HierarchicalDriving.MOBILParam(0.0,2.0,-2.0),HierarchicalDriving.FSM{Int64,Float64,String}(HierarchicalDriving.FSM_Node{Int64}[HierarchicalDriving.FSM_Node{Int64}(1),HierarchicalDriving.FSM_Node{Int64}(2),HierarchicalDriving.FSM_Node{Int64}(3),HierarchicalDriving.FSM_Node{Int64}(4),HierarchicalDriving.FSM_Node{Int64}(5)],HierarchicalDriving.FSM_Edge{String}[HierarchicalDriving.FSM_Edge{String}(\"Reached\"),HierarchicalDriving.FSM_Edge{String}(\"SafeSmooth\"),HierarchicalDriving.FSM_Edge{String}(\"UnsafeOrUnsmooth\"),HierarchicalDriving.FSM_Edge{String}(\"Undetermined\")],Dict((HierarchicalDriving.FSM_Node{Int64}(1),0.0)=>0.5,(HierarchicalDriving.FSM_Node{Int64}(1),2.0)=>0.5,(HierarchicalDriving.FSM_Node{Int64}(2),0.0)=>1.0,(HierarchicalDriving.FSM_Node{Int64}(3),-2.0)=>1.0,(HierarchicalDriving.FSM_Node{Int64}(4),2.0)=>1.0),Dict((HierarchicalDriving.FSM_Node{Int64}(2),HierarchicalDriving.FSM_Edge{String}(\"UnsafeOrUnsmooth\"),HierarchicalDriving.FSM_Node{Int64}(2))=>1.0,(HierarchicalDriving.FSM_Node{Int64}(4),HierarchicalDriving.FSM_Edge{String}(\"Reached\"),HierarchicalDriving.FSM_Node{Int64}(2))=>1.0,(HierarchicalDriving.FSM_Node{Int64}(2),HierarchicalDriving.FSM_Edge{String}(\"SafeSmooth\"),HierarchicalDriving.FSM_Node{Int64}(2))=>1.0,(HierarchicalDriving.FSM_Node{Int64}(3),HierarchicalDriving.FSM_Edge{String}(\"Undetermined\"),HierarchicalDriving.FSM_Node{Int64}(3))=>0.5,(HierarchicalDriving.FSM_Node{Int64}(1),HierarchicalDriving.FSM_Edge{String}(\"Undetermined\"),HierarchicalDriving.FSM_Node{Int64}(3))=>0.5,(HierarchicalDriving.FSM_Node{Int64}(1),HierarchicalDriving.FSM_Edge{String}(\"Undetermined\"),HierarchicalDriving.FSM_Node{Int64}(4))=>0.5,(HierarchicalDriving.FSM_Node{Int64}(1),HierarchicalDriving.FSM_Edge{String}(\"SafeSmooth\"),HierarchicalDriving.FSM_Node{Int64}(4))=>1.0,(HierarchicalDriving.FSM_Node{Int64}(3),HierarchicalDriving.FSM_Edge{String}(\"UnsafeOrUnsmooth\"),HierarchicalDriving.FSM_Node{Int64}(3))=>1.0,(HierarchicalDriving.FSM_Node{Int64}(2),HierarchicalDriving.FSM_Edge{String}(\"Undetermined\"),HierarchicalDriving.FSM_Node{Int64}(2))=>1.0,(HierarchicalDriving.FSM_Node{Int64}(1),HierarchicalDriving.FSM_Edge{String}(\"UnsafeOrUnsmooth\"),HierarchicalDriving.FSM_Node{Int64}(3))=>1.0…)),6.0,2.5),HierarchicalDriving.FSM_Node{Int64}(2)))],HierarchicalDriving.CarLocalIS[HierarchicalDriving.CarLocalIS{HierarchicalDriving.ParamCarModelL0}(HierarchicalDriving.CarPhysicalState((99.2849,6.0,21.4509)),HierarchicalDriving.ParamCarModelL0(2,HierarchicalDriving.LowLevelCarFrameL0(HierarchicalDriving.IDMParam(1.4,2.0,1.5,22.7648,2.0,4.0),HierarchicalDriving.MOBILParam(0.0,2.0,-1.0),HierarchicalDriving.FSM{Int64,Float64,String}(HierarchicalDriving.FSM_Node{Int64}[HierarchicalDriving.FSM_Node{Int64}(1),HierarchicalDriving.FSM_Node{Int64}(2),HierarchicalDriving.FSM_Node{Int64}(3),HierarchicalDriving.FSM_Node{Int64}(4),HierarchicalDriving.FSM_Node{Int64}(5)],HierarchicalDriving.FSM_Edge{String}[HierarchicalDriving.FSM_Edge{String}(\"Reached\"),HierarchicalDriving.FSM_Edge{String}(\"SafeSmooth\"),HierarchicalDriving.FSM_Edge{String}(\"UnsafeOrUnsmooth\"),HierarchicalDriving.FSM_Edge{String}(\"Undetermined\")],Dict((HierarchicalDriving.FSM_Node{Int64}(1),0.0)=>0.5,(HierarchicalDriving.FSM_Node{Int64}(1),2.0)=>0.5,(HierarchicalDriving.FSM_Node{Int64}(2),0.0)=>1.0,(HierarchicalDriving.FSM_Node{Int64}(3),-2.0)=>1.0,(HierarchicalDriving.FSM_Node{Int64}(4),2.0)=>1.0),Dict((HierarchicalDriving.FSM_Node{Int64}(2),HierarchicalDriving.FSM_Edge{String}(\"UnsafeOrUnsmooth\"),HierarchicalDriving.FSM_Node{Int64}(2))=>1.0,(HierarchicalDriving.FSM_Node{Int64}(4),HierarchicalDriving.FSM_Edge{String}(\"Reached\"),HierarchicalDriving.FSM_Node{Int64}(2))=>1.0,(HierarchicalDriving.FSM_Node{Int64}(2),HierarchicalDriving.FSM_Edge{String}(\"SafeSmooth\"),HierarchicalDriving.FSM_Node{Int64}(2))=>1.0,(HierarchicalDriving.FSM_Node{Int64}(3),HierarchicalDriving.FSM_Edge{String}(\"Undetermined\"),HierarchicalDriving.FSM_Node{Int64}(3))=>0.5,(HierarchicalDriving.FSM_Node{Int64}(1),HierarchicalDriving.FSM_Edge{String}(\"Undetermined\"),HierarchicalDriving.FSM_Node{Int64}(3))=>0.5,(HierarchicalDriving.FSM_Node{Int64}(1),HierarchicalDriving.FSM_Edge{String}(\"Undetermined\"),HierarchicalDriving.FSM_Node{Int64}(4))=>0.5,(HierarchicalDriving.FSM_Node{Int64}(1),HierarchicalDriving.FSM_Edge{String}(\"SafeSmooth\"),HierarchicalDriving.FSM_Node{Int64}(4))=>1.0,(HierarchicalDriving.FSM_Node{Int64}(3),HierarchicalDriving.FSM_Edge{String}(\"UnsafeOrUnsmooth\"),HierarchicalDriving.FSM_Node{Int64}(3))=>1.0,(HierarchicalDriving.FSM_Node{Int64}(2),HierarchicalDriving.FSM_Edge{String}(\"Undetermined\"),HierarchicalDriving.FSM_Node{Int64}(2))=>1.0,(HierarchicalDriving.FSM_Node{Int64}(1),HierarchicalDriving.FSM_Edge{String}(\"UnsafeOrUnsmooth\"),HierarchicalDriving.FSM_Node{Int64}(3))=>1.0…)),6.0,2.5),HierarchicalDriving.FSM_Node{Int64}(2)))],HierarchicalDriving.CarLocalIS[HierarchicalDriving.CarLocalIS{HierarchicalDriving.ParamCarModelL0}(HierarchicalDriving.CarPhysicalState((5.56384,10.0,27.826)),HierarchicalDriving.ParamCarModelL0(3,HierarchicalDriving.LowLevelCarFrameL0(HierarchicalDriving.IDMParam(1.4,2.0,1.5,27.2352,0.5,4.0),HierarchicalDriving.MOBILParam(0.0,2.0,-2.0),HierarchicalDriving.FSM{Int64,Float64,String}(HierarchicalDriving.FSM_Node{Int64}[HierarchicalDriving.FSM_Node{Int64}(1),HierarchicalDriving.FSM_Node{Int64}(2),HierarchicalDriving.FSM_Node{Int64}(3),HierarchicalDriving.FSM_Node{Int64}(4),HierarchicalDriving.FSM_Node{Int64}(5)],HierarchicalDriving.FSM_Edge{String}[HierarchicalDriving.FSM_Edge{String}(\"Reached\"),HierarchicalDriving.FSM_Edge{String}(\"SafeSmooth\"),HierarchicalDriving.FSM_Edge{String}(\"UnsafeOrUnsmooth\"),HierarchicalDriving.FSM_Edge{String}(\"Undetermined\")],Dict((HierarchicalDriving.FSM_Node{Int64}(1),0.0)=>0.5,(HierarchicalDriving.FSM_Node{Int64}(1),2.0)=>0.5,(HierarchicalDriving.FSM_Node{Int64}(2),0.0)=>1.0,(HierarchicalDriving.FSM_Node{Int64}(3),-2.0)=>1.0,(HierarchicalDriving.FSM_Node{Int64}(4),2.0)=>1.0),Dict((HierarchicalDriving.FSM_Node{Int64}(2),HierarchicalDriving.FSM_Edge{String}(\"UnsafeOrUnsmooth\"),HierarchicalDriving.FSM_Node{Int64}(2))=>1.0,(HierarchicalDriving.FSM_Node{Int64}(4),HierarchicalDriving.FSM_Edge{String}(\"Reached\"),HierarchicalDriving.FSM_Node{Int64}(2))=>1.0,(HierarchicalDriving.FSM_Node{Int64}(2),HierarchicalDriving.FSM_Edge{String}(\"SafeSmooth\"),HierarchicalDriving.FSM_Node{Int64}(2))=>1.0,(HierarchicalDriving.FSM_Node{Int64}(3),HierarchicalDriving.FSM_Edge{String}(\"Undetermined\"),HierarchicalDriving.FSM_Node{Int64}(3))=>0.5,(HierarchicalDriving.FSM_Node{Int64}(1),HierarchicalDriving.FSM_Edge{String}(\"Undetermined\"),HierarchicalDriving.FSM_Node{Int64}(3))=>0.5,(HierarchicalDriving.FSM_Node{Int64}(1),HierarchicalDriving.FSM_Edge{String}(\"Undetermined\"),HierarchicalDriving.FSM_Node{Int64}(4))=>0.5,(HierarchicalDriving.FSM_Node{Int64}(1),HierarchicalDriving.FSM_Edge{String}(\"SafeSmooth\"),HierarchicalDriving.FSM_Node{Int64}(4))=>1.0,(HierarchicalDriving.FSM_Node{Int64}(3),HierarchicalDriving.FSM_Edge{String}(\"UnsafeOrUnsmooth\"),HierarchicalDriving.FSM_Node{Int64}(3))=>1.0,(HierarchicalDriving.FSM_Node{Int64}(2),HierarchicalDriving.FSM_Edge{String}(\"Undetermined\"),HierarchicalDriving.FSM_Node{Int64}(2))=>1.0,(HierarchicalDriving.FSM_Node{Int64}(1),HierarchicalDriving.FSM_Edge{String}(\"UnsafeOrUnsmooth\"),HierarchicalDriving.FSM_Node{Int64}(3))=>1.0…)),6.0,2.5),HierarchicalDriving.FSM_Node{Int64}(2)))],HierarchicalDriving.CarLocalIS[HierarchicalDriving.CarLocalIS{HierarchicalDriving.ParamCarModelL0}(HierarchicalDriving.CarPhysicalState((124.574,14.0,24.9285)),HierarchicalDriving.ParamCarModelL0(4,HierarchicalDriving.LowLevelCarFrameL0(HierarchicalDriving.IDMParam(1.4,2.0,1.5,25.0,1.0,4.0),HierarchicalDriving.MOBILParam(0.0,2.0,-1.5),HierarchicalDriving.FSM{Int64,Float64,String}(HierarchicalDriving.FSM_Node{Int64}[HierarchicalDriving.FSM_Node{Int64}(1),HierarchicalDriving.FSM_Node{Int64}(2),HierarchicalDriving.FSM_Node{Int64}(3),HierarchicalDriving.FSM_Node{Int64}(4),HierarchicalDriving.FSM_Node{Int64}(5)],HierarchicalDriving.FSM_Edge{String}[HierarchicalDriving.FSM_Edge{String}(\"Reached\"),HierarchicalDriving.FSM_Edge{String}(\"SafeSmooth\"),HierarchicalDriving.FSM_Edge{String}(\"UnsafeOrUnsmooth\"),HierarchicalDriving.FSM_Edge{String}(\"Undetermined\")],Dict((HierarchicalDriving.FSM_Node{Int64}(1),0.0)=>0.5,(HierarchicalDriving.FSM_Node{Int64}(1),2.0)=>0.5,(HierarchicalDriving.FSM_Node{Int64}(2),0.0)=>1.0,(HierarchicalDriving.FSM_Node{Int64}(3),-2.0)=>1.0,(HierarchicalDriving.FSM_Node{Int64}(4),2.0)=>1.0),Dict((HierarchicalDriving.FSM_Node{Int64}(2),HierarchicalDriving.FSM_Edge{String}(\"UnsafeOrUnsmooth\"),HierarchicalDriving.FSM_Node{Int64}(2))=>1.0,(HierarchicalDriving.FSM_Node{Int64}(4),HierarchicalDriving.FSM_Edge{String}(\"Reached\"),HierarchicalDriving.FSM_Node{Int64}(2))=>1.0,(HierarchicalDriving.FSM_Node{Int64}(2),HierarchicalDriving.FSM_Edge{String}(\"SafeSmooth\"),HierarchicalDriving.FSM_Node{Int64}(2))=>1.0,(HierarchicalDriving.FSM_Node{Int64}(3),HierarchicalDriving.FSM_Edge{String}(\"Undetermined\"),HierarchicalDriving.FSM_Node{Int64}(3))=>0.5,(HierarchicalDriving.FSM_Node{Int64}(1),HierarchicalDriving.FSM_Edge{String}(\"Undetermined\"),HierarchicalDriving.FSM_Node{Int64}(3))=>0.5,(HierarchicalDriving.FSM_Node{Int64}(1),HierarchicalDriving.FSM_Edge{String}(\"Undetermined\"),HierarchicalDriving.FSM_Node{Int64}(4))=>0.5,(HierarchicalDriving.FSM_Node{Int64}(1),HierarchicalDriving.FSM_Edge{String}(\"SafeSmooth\"),HierarchicalDriving.FSM_Node{Int64}(4))=>1.0,(HierarchicalDriving.FSM_Node{Int64}(3),HierarchicalDriving.FSM_Edge{String}(\"UnsafeOrUnsmooth\"),HierarchicalDriving.FSM_Node{Int64}(3))=>1.0,(HierarchicalDriving.FSM_Node{Int64}(2),HierarchicalDriving.FSM_Edge{String}(\"Undetermined\"),HierarchicalDriving.FSM_Node{Int64}(2))=>1.0,(HierarchicalDriving.FSM_Node{Int64}(1),HierarchicalDriving.FSM_Edge{String}(\"UnsafeOrUnsmooth\"),HierarchicalDriving.FSM_Node{Int64}(3))=>1.0…)),6.0,2.5),HierarchicalDriving.FSM_Node{Int64}(2))),HierarchicalDriving.CarLocalIS{HierarchicalDriving.ParamCarModelL0}(HierarchicalDriving.CarPhysicalState((87.1232,14.0,23.177)),HierarchicalDriving.ParamCarModelL0(4,HierarchicalDriving.LowLevelCarFrameL0(HierarchicalDriving.IDMParam(1.4,2.0,1.5,25.0,1.0,4.0),HierarchicalDriving.MOBILParam(0.0,2.0,-1.5),HierarchicalDriving.FSM{Int64,Float64,String}(HierarchicalDriving.FSM_Node{Int64}[HierarchicalDriving.FSM_Node{Int64}(1),HierarchicalDriving.FSM_Node{Int64}(2),HierarchicalDriving.FSM_Node{Int64}(3),HierarchicalDriving.FSM_Node{Int64}(4),HierarchicalDriving.FSM_Node{Int64}(5)],HierarchicalDriving.FSM_Edge{String}[HierarchicalDriving.FSM_Edge{String}(\"Reached\"),HierarchicalDriving.FSM_Edge{String}(\"SafeSmooth\"),HierarchicalDriving.FSM_Edge{String}(\"UnsafeOrUnsmooth\"),HierarchicalDriving.FSM_Edge{String}(\"Undetermined\")],Dict((HierarchicalDriving.FSM_Node{Int64}(1),0.0)=>0.5,(HierarchicalDriving.FSM_Node{Int64}(1),2.0)=>0.5,(HierarchicalDriving.FSM_Node{Int64}(2),0.0)=>1.0,(HierarchicalDriving.FSM_Node{Int64}(3),-2.0)=>1.0,(HierarchicalDriving.FSM_Node{Int64}(4),2.0)=>1.0),Dict((HierarchicalDriving.FSM_Node{Int64}(2),HierarchicalDriving.FSM_Edge{String}(\"UnsafeOrUnsmooth\"),HierarchicalDriving.FSM_Node{Int64}(2))=>1.0,(HierarchicalDriving.FSM_Node{Int64}(4),HierarchicalDriving.FSM_Edge{String}(\"Reached\"),HierarchicalDriving.FSM_Node{Int64}(2))=>1.0,(HierarchicalDriving.FSM_Node{Int64}(2),HierarchicalDriving.FSM_Edge{String}(\"SafeSmooth\"),HierarchicalDriving.FSM_Node{Int64}(2))=>1.0,(HierarchicalDriving.FSM_Node{Int64}(3),HierarchicalDriving.FSM_Edge{String}(\"Undetermined\"),HierarchicalDriving.FSM_Node{Int64}(3))=>0.5,(HierarchicalDriving.FSM_Node{Int64}(1),HierarchicalDriving.FSM_Edge{String}(\"Undetermined\"),HierarchicalDriving.FSM_Node{Int64}(3))=>0.5,(HierarchicalDriving.FSM_Node{Int64}(1),HierarchicalDriving.FSM_Edge{String}(\"Undetermined\"),HierarchicalDriving.FSM_Node{Int64}(4))=>0.5,(HierarchicalDriving.FSM_Node{Int64}(1),HierarchicalDriving.FSM_Edge{String}(\"SafeSmooth\"),HierarchicalDriving.FSM_Node{Int64}(4))=>1.0,(HierarchicalDriving.FSM_Node{Int64}(3),HierarchicalDriving.FSM_Edge{String}(\"UnsafeOrUnsmooth\"),HierarchicalDriving.FSM_Node{Int64}(3))=>1.0,(HierarchicalDriving.FSM_Node{Int64}(2),HierarchicalDriving.FSM_Edge{String}(\"Undetermined\"),HierarchicalDriving.FSM_Node{Int64}(2))=>1.0,(HierarchicalDriving.FSM_Node{Int64}(1),HierarchicalDriving.FSM_Edge{String}(\"UnsafeOrUnsmooth\"),HierarchicalDriving.FSM_Node{Int64}(3))=>1.0…)),6.0,2.5),HierarchicalDriving.FSM_Node{Int64}(2))),HierarchicalDriving.CarLocalIS{HierarchicalDriving.ParamCarModelL0}(HierarchicalDriving.CarPhysicalState((-28.3994,14.0,22.8942)),HierarchicalDriving.ParamCarModelL0(4,HierarchicalDriving.LowLevelCarFrameL0(HierarchicalDriving.IDMParam(1.4,2.0,1.5,25.0,1.0,4.0),HierarchicalDriving.MOBILParam(0.0,2.0,-1.5),HierarchicalDriving.FSM{Int64,Float64,String}(HierarchicalDriving.FSM_Node{Int64}[HierarchicalDriving.FSM_Node{Int64}(1),HierarchicalDriving.FSM_Node{Int64}(2),HierarchicalDriving.FSM_Node{Int64}(3),HierarchicalDriving.FSM_Node{Int64}(4),HierarchicalDriving.FSM_Node{Int64}(5)],HierarchicalDriving.FSM_Edge{String}[HierarchicalDriving.FSM_Edge{String}(\"Reached\"),HierarchicalDriving.FSM_Edge{String}(\"SafeSmooth\"),HierarchicalDriving.FSM_Edge{String}(\"UnsafeOrUnsmooth\"),HierarchicalDriving.FSM_Edge{String}(\"Undetermined\")],Dict((HierarchicalDriving.FSM_Node{Int64}(1),0.0)=>0.5,(HierarchicalDriving.FSM_Node{Int64}(1),2.0)=>0.5,(HierarchicalDriving.FSM_Node{Int64}(2),0.0)=>1.0,(HierarchicalDriving.FSM_Node{Int64}(3),-2.0)=>1.0,(HierarchicalDriving.FSM_Node{Int64}(4),2.0)=>1.0),Dict((HierarchicalDriving.FSM_Node{Int64}(2),HierarchicalDriving.FSM_Edge{String}(\"UnsafeOrUnsmooth\"),HierarchicalDriving.FSM_Node{Int64}(2))=>1.0,(HierarchicalDriving.FSM_Node{Int64}(4),HierarchicalDriving.FSM_Edge{String}(\"Reached\"),HierarchicalDriving.FSM_Node{Int64}(2))=>1.0,(HierarchicalDriving.FSM_Node{Int64}(2),HierarchicalDriving.FSM_Edge{String}(\"SafeSmooth\"),HierarchicalDriving.FSM_Node{Int64}(2))=>1.0,(HierarchicalDriving.FSM_Node{Int64}(3),HierarchicalDriving.FSM_Edge{String}(\"Undetermined\"),HierarchicalDriving.FSM_Node{Int64}(3))=>0.5,(HierarchicalDriving.FSM_Node{Int64}(1),HierarchicalDriving.FSM_Edge{String}(\"Undetermined\"),HierarchicalDriving.FSM_Node{Int64}(3))=>0.5,(HierarchicalDriving.FSM_Node{Int64}(1),HierarchicalDriving.FSM_Edge{String}(\"Undetermined\"),HierarchicalDriving.FSM_Node{Int64}(4))=>0.5,(HierarchicalDriving.FSM_Node{Int64}(1),HierarchicalDriving.FSM_Edge{String}(\"SafeSmooth\"),HierarchicalDriving.FSM_Node{Int64}(4))=>1.0,(HierarchicalDriving.FSM_Node{Int64}(3),HierarchicalDriving.FSM_Edge{String}(\"UnsafeOrUnsmooth\"),HierarchicalDriving.FSM_Node{Int64}(3))=>1.0,(HierarchicalDriving.FSM_Node{Int64}(2),HierarchicalDriving.FSM_Edge{String}(\"Undetermined\"),HierarchicalDriving.FSM_Node{Int64}(2))=>1.0,(HierarchicalDriving.FSM_Node{Int64}(1),HierarchicalDriving.FSM_Edge{String}(\"UnsafeOrUnsmooth\"),HierarchicalDriving.FSM_Node{Int64}(3))=>1.0…)),6.0,2.5),HierarchicalDriving.FSM_Node{Int64}(2)))]]),AutoViz.SceneOverlay[HierarchicalDriving.CarVelOverlay(),HierarchicalDriving.CarIDOverlay()])"
      ]
     },
     "execution_count": 18,
     "metadata": {
      "comm_id": "299e7955-5f3a-4782-be94-aeff83e5eef7",
      "reactive": true
     },
     "output_type": "execute_result"
    }
   ],
   "source": [
    "i = 39\n",
    "#policy = RandomPolicy(p)\n",
    "policy = subintentional_lowlevel_policy(p);\n",
    "hr = HistoryRecorder(max_steps = p.HORIZON, rng = MersenneTwister(i));\n",
    "hist = simulate(hr, p, policy);\n",
    "@manipulate for i in 1:n_steps(hist)+1\n",
    "    (p,state_hist(hist)[i],SceneOverlay[CarVelOverlay(), CarIDOverlay()])\n",
    "end"
   ]
  },
  {
   "cell_type": "code",
   "execution_count": 19,
   "metadata": {
    "collapsed": false,
    "deletable": true,
    "editable": true
   },
   "outputs": [
    {
     "data": {
      "text/html": [],
      "text/plain": [
       "Interact.Options{:SelectionSlider,Int64}(Signal{Int64}(7, nactions=1),\"i\",7,\"7\",Interact.OptionDict(DataStructures.OrderedDict(\"1\"=>1,\"2\"=>2,\"3\"=>3,\"4\"=>4,\"5\"=>5,\"6\"=>6,\"7\"=>7,\"8\"=>8,\"9\"=>9,\"10\"=>10…),Dict(2=>\"2\",11=>\"11\",7=>\"7\",9=>\"9\",10=>\"10\",8=>\"8\",6=>\"6\",4=>\"4\",3=>\"3\",5=>\"5\"…)),Any[],Any[],true,\"horizontal\")"
      ]
     },
     "metadata": {},
     "output_type": "display_data"
    },
    {
     "data": {
      "image/png": "[encoded data removed]",
      "text/plain": [
       "(HierarchicalDriving.LowLevelMDP(0.99,0.3,13,HierarchicalDriving.RoadSegment((-100.0,500.0),[0.0,4.0,8.0,12.0,16.0]),HierarchicalDriving.CarPhysicalState((0.0,6.0,25.0)),(HierarchicalDriving.CarPhysicalState((78.0,9.5,20.0)),HierarchicalDriving.CarPhysicalState((117.0,10.5,30.0))),50.0,-500.0,-0.0,-5.0,-5.0,-1.0,HierarchicalDriving.LowLevelCarFrameL0[HierarchicalDriving.LowLevelCarFrameL0(HierarchicalDriving.IDMParam(1.4,2.0,1.5,22.7648,2.0,4.0),HierarchicalDriving.MOBILParam(0.0,2.0,-1.0),HierarchicalDriving.FSM{Int64,Float64,String}(HierarchicalDriving.FSM_Node{Int64}[HierarchicalDriving.FSM_Node{Int64}(1),HierarchicalDriving.FSM_Node{Int64}(2),HierarchicalDriving.FSM_Node{Int64}(3),HierarchicalDriving.FSM_Node{Int64}(4),HierarchicalDriving.FSM_Node{Int64}(5)],HierarchicalDriving.FSM_Edge{String}[HierarchicalDriving.FSM_Edge{String}(\"Reached\"),HierarchicalDriving.FSM_Edge{String}(\"SafeSmooth\"),HierarchicalDriving.FSM_Edge{String}(\"UnsafeOrUnsmooth\"),HierarchicalDriving.FSM_Edge{String}(\"Undetermined\")],Dict((HierarchicalDriving.FSM_Node{Int64}(1),0.0)=>0.5,(HierarchicalDriving.FSM_Node{Int64}(1),2.0)=>0.5,(HierarchicalDriving.FSM_Node{Int64}(2),0.0)=>1.0,(HierarchicalDriving.FSM_Node{Int64}(3),-2.0)=>1.0,(HierarchicalDriving.FSM_Node{Int64}(4),2.0)=>1.0),Dict((HierarchicalDriving.FSM_Node{Int64}(2),HierarchicalDriving.FSM_Edge{String}(\"UnsafeOrUnsmooth\"),HierarchicalDriving.FSM_Node{Int64}(2))=>1.0,(HierarchicalDriving.FSM_Node{Int64}(4),HierarchicalDriving.FSM_Edge{String}(\"Reached\"),HierarchicalDriving.FSM_Node{Int64}(2))=>1.0,(HierarchicalDriving.FSM_Node{Int64}(2),HierarchicalDriving.FSM_Edge{String}(\"SafeSmooth\"),HierarchicalDriving.FSM_Node{Int64}(2))=>1.0,(HierarchicalDriving.FSM_Node{Int64}(3),HierarchicalDriving.FSM_Edge{String}(\"Undetermined\"),HierarchicalDriving.FSM_Node{Int64}(3))=>0.5,(HierarchicalDriving.FSM_Node{Int64}(1),HierarchicalDriving.FSM_Edge{String}(\"Undetermined\"),HierarchicalDriving.FSM_Node{Int64}(3))=>0.5,(HierarchicalDriving.FSM_Node{Int64}(1),HierarchicalDriving.FSM_Edge{String}(\"Undetermined\"),HierarchicalDriving.FSM_Node{Int64}(4))=>0.5,(HierarchicalDriving.FSM_Node{Int64}(1),HierarchicalDriving.FSM_Edge{String}(\"SafeSmooth\"),HierarchicalDriving.FSM_Node{Int64}(4))=>1.0,(HierarchicalDriving.FSM_Node{Int64}(3),HierarchicalDriving.FSM_Edge{String}(\"UnsafeOrUnsmooth\"),HierarchicalDriving.FSM_Node{Int64}(3))=>1.0,(HierarchicalDriving.FSM_Node{Int64}(2),HierarchicalDriving.FSM_Edge{String}(\"Undetermined\"),HierarchicalDriving.FSM_Node{Int64}(2))=>1.0,(HierarchicalDriving.FSM_Node{Int64}(1),HierarchicalDriving.FSM_Edge{String}(\"UnsafeOrUnsmooth\"),HierarchicalDriving.FSM_Node{Int64}(3))=>1.0…)),6.0,2.5),HierarchicalDriving.LowLevelCarFrameL0(HierarchicalDriving.IDMParam(1.4,2.0,1.5,25.0,1.0,4.0),HierarchicalDriving.MOBILParam(0.0,2.0,-1.5),HierarchicalDriving.FSM{Int64,Float64,String}(HierarchicalDriving.FSM_Node{Int64}[HierarchicalDriving.FSM_Node{Int64}(1),HierarchicalDriving.FSM_Node{Int64}(2),HierarchicalDriving.FSM_Node{Int64}(3),HierarchicalDriving.FSM_Node{Int64}(4),HierarchicalDriving.FSM_Node{Int64}(5)],HierarchicalDriving.FSM_Edge{String}[HierarchicalDriving.FSM_Edge{String}(\"Reached\"),HierarchicalDriving.FSM_Edge{String}(\"SafeSmooth\"),HierarchicalDriving.FSM_Edge{String}(\"UnsafeOrUnsmooth\"),HierarchicalDriving.FSM_Edge{String}(\"Undetermined\")],Dict((HierarchicalDriving.FSM_Node{Int64}(1),0.0)=>0.5,(HierarchicalDriving.FSM_Node{Int64}(1),2.0)=>0.5,(HierarchicalDriving.FSM_Node{Int64}(2),0.0)=>1.0,(HierarchicalDriving.FSM_Node{Int64}(3),-2.0)=>1.0,(HierarchicalDriving.FSM_Node{Int64}(4),2.0)=>1.0),Dict((HierarchicalDriving.FSM_Node{Int64}(2),HierarchicalDriving.FSM_Edge{String}(\"UnsafeOrUnsmooth\"),HierarchicalDriving.FSM_Node{Int64}(2))=>1.0,(HierarchicalDriving.FSM_Node{Int64}(4),HierarchicalDriving.FSM_Edge{String}(\"Reached\"),HierarchicalDriving.FSM_Node{Int64}(2))=>1.0,(HierarchicalDriving.FSM_Node{Int64}(2),HierarchicalDriving.FSM_Edge{String}(\"SafeSmooth\"),HierarchicalDriving.FSM_Node{Int64}(2))=>1.0,(HierarchicalDriving.FSM_Node{Int64}(3),HierarchicalDriving.FSM_Edge{String}(\"Undetermined\"),HierarchicalDriving.FSM_Node{Int64}(3))=>0.5,(HierarchicalDriving.FSM_Node{Int64}(1),HierarchicalDriving.FSM_Edge{String}(\"Undetermined\"),HierarchicalDriving.FSM_Node{Int64}(3))=>0.5,(HierarchicalDriving.FSM_Node{Int64}(1),HierarchicalDriving.FSM_Edge{String}(\"Undetermined\"),HierarchicalDriving.FSM_Node{Int64}(4))=>0.5,(HierarchicalDriving.FSM_Node{Int64}(1),HierarchicalDriving.FSM_Edge{String}(\"SafeSmooth\"),HierarchicalDriving.FSM_Node{Int64}(4))=>1.0,(HierarchicalDriving.FSM_Node{Int64}(3),HierarchicalDriving.FSM_Edge{String}(\"UnsafeOrUnsmooth\"),HierarchicalDriving.FSM_Node{Int64}(3))=>1.0,(HierarchicalDriving.FSM_Node{Int64}(2),HierarchicalDriving.FSM_Edge{String}(\"Undetermined\"),HierarchicalDriving.FSM_Node{Int64}(2))=>1.0,(HierarchicalDriving.FSM_Node{Int64}(1),HierarchicalDriving.FSM_Edge{String}(\"UnsafeOrUnsmooth\"),HierarchicalDriving.FSM_Node{Int64}(3))=>1.0…)),6.0,2.5),HierarchicalDriving.LowLevelCarFrameL0(HierarchicalDriving.IDMParam(1.4,2.0,1.5,27.2352,0.5,4.0),HierarchicalDriving.MOBILParam(0.0,2.0,-2.0),HierarchicalDriving.FSM{Int64,Float64,String}(HierarchicalDriving.FSM_Node{Int64}[HierarchicalDriving.FSM_Node{Int64}(1),HierarchicalDriving.FSM_Node{Int64}(2),HierarchicalDriving.FSM_Node{Int64}(3),HierarchicalDriving.FSM_Node{Int64}(4),HierarchicalDriving.FSM_Node{Int64}(5)],HierarchicalDriving.FSM_Edge{String}[HierarchicalDriving.FSM_Edge{String}(\"Reached\"),HierarchicalDriving.FSM_Edge{String}(\"SafeSmooth\"),HierarchicalDriving.FSM_Edge{String}(\"UnsafeOrUnsmooth\"),HierarchicalDriving.FSM_Edge{String}(\"Undetermined\")],Dict((HierarchicalDriving.FSM_Node{Int64}(1),0.0)=>0.5,(HierarchicalDriving.FSM_Node{Int64}(1),2.0)=>0.5,(HierarchicalDriving.FSM_Node{Int64}(2),0.0)=>1.0,(HierarchicalDriving.FSM_Node{Int64}(3),-2.0)=>1.0,(HierarchicalDriving.FSM_Node{Int64}(4),2.0)=>1.0),Dict((HierarchicalDriving.FSM_Node{Int64}(2),HierarchicalDriving.FSM_Edge{String}(\"UnsafeOrUnsmooth\"),HierarchicalDriving.FSM_Node{Int64}(2))=>1.0,(HierarchicalDriving.FSM_Node{Int64}(4),HierarchicalDriving.FSM_Edge{String}(\"Reached\"),HierarchicalDriving.FSM_Node{Int64}(2))=>1.0,(HierarchicalDriving.FSM_Node{Int64}(2),HierarchicalDriving.FSM_Edge{String}(\"SafeSmooth\"),HierarchicalDriving.FSM_Node{Int64}(2))=>1.0,(HierarchicalDriving.FSM_Node{Int64}(3),HierarchicalDriving.FSM_Edge{String}(\"Undetermined\"),HierarchicalDriving.FSM_Node{Int64}(3))=>0.5,(HierarchicalDriving.FSM_Node{Int64}(1),HierarchicalDriving.FSM_Edge{String}(\"Undetermined\"),HierarchicalDriving.FSM_Node{Int64}(3))=>0.5,(HierarchicalDriving.FSM_Node{Int64}(1),HierarchicalDriving.FSM_Edge{String}(\"Undetermined\"),HierarchicalDriving.FSM_Node{Int64}(4))=>0.5,(HierarchicalDriving.FSM_Node{Int64}(1),HierarchicalDriving.FSM_Edge{String}(\"SafeSmooth\"),HierarchicalDriving.FSM_Node{Int64}(4))=>1.0,(HierarchicalDriving.FSM_Node{Int64}(3),HierarchicalDriving.FSM_Edge{String}(\"UnsafeOrUnsmooth\"),HierarchicalDriving.FSM_Node{Int64}(3))=>1.0,(HierarchicalDriving.FSM_Node{Int64}(2),HierarchicalDriving.FSM_Edge{String}(\"Undetermined\"),HierarchicalDriving.FSM_Node{Int64}(2))=>1.0,(HierarchicalDriving.FSM_Node{Int64}(1),HierarchicalDriving.FSM_Edge{String}(\"UnsafeOrUnsmooth\"),HierarchicalDriving.FSM_Node{Int64}(3))=>1.0…)),6.0,2.5)]),HierarchicalDriving.GlobalStateL1{HierarchicalDriving.CarLocalIS}(0,HierarchicalDriving.CarPhysicalState((45.00094120442003,6.0,23.697860285251256)),Array{HierarchicalDriving.CarLocalIS,1}[HierarchicalDriving.CarLocalIS[HierarchicalDriving.CarLocalIS{HierarchicalDriving.ParamCarModelL0}(HierarchicalDriving.CarPhysicalState((85.6133,2.0,25.1131)),HierarchicalDriving.ParamCarModelL0(2,HierarchicalDriving.LowLevelCarFrameL0(HierarchicalDriving.IDMParam(1.4,2.0,1.5,25.0,1.0,4.0),HierarchicalDriving.MOBILParam(0.0,2.0,-1.5),HierarchicalDriving.FSM{Int64,Float64,String}(HierarchicalDriving.FSM_Node{Int64}[HierarchicalDriving.FSM_Node{Int64}(1),HierarchicalDriving.FSM_Node{Int64}(2),HierarchicalDriving.FSM_Node{Int64}(3),HierarchicalDriving.FSM_Node{Int64}(4),HierarchicalDriving.FSM_Node{Int64}(5)],HierarchicalDriving.FSM_Edge{String}[HierarchicalDriving.FSM_Edge{String}(\"Reached\"),HierarchicalDriving.FSM_Edge{String}(\"SafeSmooth\"),HierarchicalDriving.FSM_Edge{String}(\"UnsafeOrUnsmooth\"),HierarchicalDriving.FSM_Edge{String}(\"Undetermined\")],Dict((HierarchicalDriving.FSM_Node{Int64}(1),0.0)=>0.5,(HierarchicalDriving.FSM_Node{Int64}(1),2.0)=>0.5,(HierarchicalDriving.FSM_Node{Int64}(2),0.0)=>1.0,(HierarchicalDriving.FSM_Node{Int64}(3),-2.0)=>1.0,(HierarchicalDriving.FSM_Node{Int64}(4),2.0)=>1.0),Dict((HierarchicalDriving.FSM_Node{Int64}(2),HierarchicalDriving.FSM_Edge{String}(\"UnsafeOrUnsmooth\"),HierarchicalDriving.FSM_Node{Int64}(2))=>1.0,(HierarchicalDriving.FSM_Node{Int64}(4),HierarchicalDriving.FSM_Edge{String}(\"Reached\"),HierarchicalDriving.FSM_Node{Int64}(2))=>1.0,(HierarchicalDriving.FSM_Node{Int64}(2),HierarchicalDriving.FSM_Edge{String}(\"SafeSmooth\"),HierarchicalDriving.FSM_Node{Int64}(2))=>1.0,(HierarchicalDriving.FSM_Node{Int64}(3),HierarchicalDriving.FSM_Edge{String}(\"Undetermined\"),HierarchicalDriving.FSM_Node{Int64}(3))=>0.5,(HierarchicalDriving.FSM_Node{Int64}(1),HierarchicalDriving.FSM_Edge{String}(\"Undetermined\"),HierarchicalDriving.FSM_Node{Int64}(3))=>0.5,(HierarchicalDriving.FSM_Node{Int64}(1),HierarchicalDriving.FSM_Edge{String}(\"Undetermined\"),HierarchicalDriving.FSM_Node{Int64}(4))=>0.5,(HierarchicalDriving.FSM_Node{Int64}(1),HierarchicalDriving.FSM_Edge{String}(\"SafeSmooth\"),HierarchicalDriving.FSM_Node{Int64}(4))=>1.0,(HierarchicalDriving.FSM_Node{Int64}(3),HierarchicalDriving.FSM_Edge{String}(\"UnsafeOrUnsmooth\"),HierarchicalDriving.FSM_Node{Int64}(3))=>1.0,(HierarchicalDriving.FSM_Node{Int64}(2),HierarchicalDriving.FSM_Edge{String}(\"Undetermined\"),HierarchicalDriving.FSM_Node{Int64}(2))=>1.0,(HierarchicalDriving.FSM_Node{Int64}(1),HierarchicalDriving.FSM_Edge{String}(\"UnsafeOrUnsmooth\"),HierarchicalDriving.FSM_Node{Int64}(3))=>1.0…)),6.0,2.5),HierarchicalDriving.FSM_Node{Int64}(3))),HierarchicalDriving.CarLocalIS{HierarchicalDriving.ParamCarModelL0}(HierarchicalDriving.CarPhysicalState((-2.00524,2.0,23.6325)),HierarchicalDriving.ParamCarModelL0(1,HierarchicalDriving.LowLevelCarFrameL0(HierarchicalDriving.IDMParam(1.4,2.0,1.5,27.2352,0.5,4.0),HierarchicalDriving.MOBILParam(0.0,2.0,-2.0),HierarchicalDriving.FSM{Int64,Float64,String}(HierarchicalDriving.FSM_Node{Int64}[HierarchicalDriving.FSM_Node{Int64}(1),HierarchicalDriving.FSM_Node{Int64}(2),HierarchicalDriving.FSM_Node{Int64}(3),HierarchicalDriving.FSM_Node{Int64}(4),HierarchicalDriving.FSM_Node{Int64}(5)],HierarchicalDriving.FSM_Edge{String}[HierarchicalDriving.FSM_Edge{String}(\"Reached\"),HierarchicalDriving.FSM_Edge{String}(\"SafeSmooth\"),HierarchicalDriving.FSM_Edge{String}(\"UnsafeOrUnsmooth\"),HierarchicalDriving.FSM_Edge{String}(\"Undetermined\")],Dict((HierarchicalDriving.FSM_Node{Int64}(1),0.0)=>0.5,(HierarchicalDriving.FSM_Node{Int64}(1),2.0)=>0.5,(HierarchicalDriving.FSM_Node{Int64}(2),0.0)=>1.0,(HierarchicalDriving.FSM_Node{Int64}(3),-2.0)=>1.0,(HierarchicalDriving.FSM_Node{Int64}(4),2.0)=>1.0),Dict((HierarchicalDriving.FSM_Node{Int64}(2),HierarchicalDriving.FSM_Edge{String}(\"UnsafeOrUnsmooth\"),HierarchicalDriving.FSM_Node{Int64}(2))=>1.0,(HierarchicalDriving.FSM_Node{Int64}(4),HierarchicalDriving.FSM_Edge{String}(\"Reached\"),HierarchicalDriving.FSM_Node{Int64}(2))=>1.0,(HierarchicalDriving.FSM_Node{Int64}(2),HierarchicalDriving.FSM_Edge{String}(\"SafeSmooth\"),HierarchicalDriving.FSM_Node{Int64}(2))=>1.0,(HierarchicalDriving.FSM_Node{Int64}(3),HierarchicalDriving.FSM_Edge{String}(\"Undetermined\"),HierarchicalDriving.FSM_Node{Int64}(3))=>0.5,(HierarchicalDriving.FSM_Node{Int64}(1),HierarchicalDriving.FSM_Edge{String}(\"Undetermined\"),HierarchicalDriving.FSM_Node{Int64}(3))=>0.5,(HierarchicalDriving.FSM_Node{Int64}(1),HierarchicalDriving.FSM_Edge{String}(\"Undetermined\"),HierarchicalDriving.FSM_Node{Int64}(4))=>0.5,(HierarchicalDriving.FSM_Node{Int64}(1),HierarchicalDriving.FSM_Edge{String}(\"SafeSmooth\"),HierarchicalDriving.FSM_Node{Int64}(4))=>1.0,(HierarchicalDriving.FSM_Node{Int64}(3),HierarchicalDriving.FSM_Edge{String}(\"UnsafeOrUnsmooth\"),HierarchicalDriving.FSM_Node{Int64}(3))=>1.0,(HierarchicalDriving.FSM_Node{Int64}(2),HierarchicalDriving.FSM_Edge{String}(\"Undetermined\"),HierarchicalDriving.FSM_Node{Int64}(2))=>1.0,(HierarchicalDriving.FSM_Node{Int64}(1),HierarchicalDriving.FSM_Edge{String}(\"UnsafeOrUnsmooth\"),HierarchicalDriving.FSM_Node{Int64}(3))=>1.0…)),6.0,2.5),HierarchicalDriving.FSM_Node{Int64}(2)))],HierarchicalDriving.CarLocalIS[HierarchicalDriving.CarLocalIS{HierarchicalDriving.ParamCarModelL0}(HierarchicalDriving.CarPhysicalState((99.2849,6.0,21.4509)),HierarchicalDriving.ParamCarModelL0(2,HierarchicalDriving.LowLevelCarFrameL0(HierarchicalDriving.IDMParam(1.4,2.0,1.5,22.7648,2.0,4.0),HierarchicalDriving.MOBILParam(0.0,2.0,-1.0),HierarchicalDriving.FSM{Int64,Float64,String}(HierarchicalDriving.FSM_Node{Int64}[HierarchicalDriving.FSM_Node{Int64}(1),HierarchicalDriving.FSM_Node{Int64}(2),HierarchicalDriving.FSM_Node{Int64}(3),HierarchicalDriving.FSM_Node{Int64}(4),HierarchicalDriving.FSM_Node{Int64}(5)],HierarchicalDriving.FSM_Edge{String}[HierarchicalDriving.FSM_Edge{String}(\"Reached\"),HierarchicalDriving.FSM_Edge{String}(\"SafeSmooth\"),HierarchicalDriving.FSM_Edge{String}(\"UnsafeOrUnsmooth\"),HierarchicalDriving.FSM_Edge{String}(\"Undetermined\")],Dict((HierarchicalDriving.FSM_Node{Int64}(1),0.0)=>0.5,(HierarchicalDriving.FSM_Node{Int64}(1),2.0)=>0.5,(HierarchicalDriving.FSM_Node{Int64}(2),0.0)=>1.0,(HierarchicalDriving.FSM_Node{Int64}(3),-2.0)=>1.0,(HierarchicalDriving.FSM_Node{Int64}(4),2.0)=>1.0),Dict((HierarchicalDriving.FSM_Node{Int64}(2),HierarchicalDriving.FSM_Edge{String}(\"UnsafeOrUnsmooth\"),HierarchicalDriving.FSM_Node{Int64}(2))=>1.0,(HierarchicalDriving.FSM_Node{Int64}(4),HierarchicalDriving.FSM_Edge{String}(\"Reached\"),HierarchicalDriving.FSM_Node{Int64}(2))=>1.0,(HierarchicalDriving.FSM_Node{Int64}(2),HierarchicalDriving.FSM_Edge{String}(\"SafeSmooth\"),HierarchicalDriving.FSM_Node{Int64}(2))=>1.0,(HierarchicalDriving.FSM_Node{Int64}(3),HierarchicalDriving.FSM_Edge{String}(\"Undetermined\"),HierarchicalDriving.FSM_Node{Int64}(3))=>0.5,(HierarchicalDriving.FSM_Node{Int64}(1),HierarchicalDriving.FSM_Edge{String}(\"Undetermined\"),HierarchicalDriving.FSM_Node{Int64}(3))=>0.5,(HierarchicalDriving.FSM_Node{Int64}(1),HierarchicalDriving.FSM_Edge{String}(\"Undetermined\"),HierarchicalDriving.FSM_Node{Int64}(4))=>0.5,(HierarchicalDriving.FSM_Node{Int64}(1),HierarchicalDriving.FSM_Edge{String}(\"SafeSmooth\"),HierarchicalDriving.FSM_Node{Int64}(4))=>1.0,(HierarchicalDriving.FSM_Node{Int64}(3),HierarchicalDriving.FSM_Edge{String}(\"UnsafeOrUnsmooth\"),HierarchicalDriving.FSM_Node{Int64}(3))=>1.0,(HierarchicalDriving.FSM_Node{Int64}(2),HierarchicalDriving.FSM_Edge{String}(\"Undetermined\"),HierarchicalDriving.FSM_Node{Int64}(2))=>1.0,(HierarchicalDriving.FSM_Node{Int64}(1),HierarchicalDriving.FSM_Edge{String}(\"UnsafeOrUnsmooth\"),HierarchicalDriving.FSM_Node{Int64}(3))=>1.0…)),6.0,2.5),HierarchicalDriving.FSM_Node{Int64}(2)))],HierarchicalDriving.CarLocalIS[HierarchicalDriving.CarLocalIS{HierarchicalDriving.ParamCarModelL0}(HierarchicalDriving.CarPhysicalState((5.56384,10.0,27.826)),HierarchicalDriving.ParamCarModelL0(3,HierarchicalDriving.LowLevelCarFrameL0(HierarchicalDriving.IDMParam(1.4,2.0,1.5,27.2352,0.5,4.0),HierarchicalDriving.MOBILParam(0.0,2.0,-2.0),HierarchicalDriving.FSM{Int64,Float64,String}(HierarchicalDriving.FSM_Node{Int64}[HierarchicalDriving.FSM_Node{Int64}(1),HierarchicalDriving.FSM_Node{Int64}(2),HierarchicalDriving.FSM_Node{Int64}(3),HierarchicalDriving.FSM_Node{Int64}(4),HierarchicalDriving.FSM_Node{Int64}(5)],HierarchicalDriving.FSM_Edge{String}[HierarchicalDriving.FSM_Edge{String}(\"Reached\"),HierarchicalDriving.FSM_Edge{String}(\"SafeSmooth\"),HierarchicalDriving.FSM_Edge{String}(\"UnsafeOrUnsmooth\"),HierarchicalDriving.FSM_Edge{String}(\"Undetermined\")],Dict((HierarchicalDriving.FSM_Node{Int64}(1),0.0)=>0.5,(HierarchicalDriving.FSM_Node{Int64}(1),2.0)=>0.5,(HierarchicalDriving.FSM_Node{Int64}(2),0.0)=>1.0,(HierarchicalDriving.FSM_Node{Int64}(3),-2.0)=>1.0,(HierarchicalDriving.FSM_Node{Int64}(4),2.0)=>1.0),Dict((HierarchicalDriving.FSM_Node{Int64}(2),HierarchicalDriving.FSM_Edge{String}(\"UnsafeOrUnsmooth\"),HierarchicalDriving.FSM_Node{Int64}(2))=>1.0,(HierarchicalDriving.FSM_Node{Int64}(4),HierarchicalDriving.FSM_Edge{String}(\"Reached\"),HierarchicalDriving.FSM_Node{Int64}(2))=>1.0,(HierarchicalDriving.FSM_Node{Int64}(2),HierarchicalDriving.FSM_Edge{String}(\"SafeSmooth\"),HierarchicalDriving.FSM_Node{Int64}(2))=>1.0,(HierarchicalDriving.FSM_Node{Int64}(3),HierarchicalDriving.FSM_Edge{String}(\"Undetermined\"),HierarchicalDriving.FSM_Node{Int64}(3))=>0.5,(HierarchicalDriving.FSM_Node{Int64}(1),HierarchicalDriving.FSM_Edge{String}(\"Undetermined\"),HierarchicalDriving.FSM_Node{Int64}(3))=>0.5,(HierarchicalDriving.FSM_Node{Int64}(1),HierarchicalDriving.FSM_Edge{String}(\"Undetermined\"),HierarchicalDriving.FSM_Node{Int64}(4))=>0.5,(HierarchicalDriving.FSM_Node{Int64}(1),HierarchicalDriving.FSM_Edge{String}(\"SafeSmooth\"),HierarchicalDriving.FSM_Node{Int64}(4))=>1.0,(HierarchicalDriving.FSM_Node{Int64}(3),HierarchicalDriving.FSM_Edge{String}(\"UnsafeOrUnsmooth\"),HierarchicalDriving.FSM_Node{Int64}(3))=>1.0,(HierarchicalDriving.FSM_Node{Int64}(2),HierarchicalDriving.FSM_Edge{String}(\"Undetermined\"),HierarchicalDriving.FSM_Node{Int64}(2))=>1.0,(HierarchicalDriving.FSM_Node{Int64}(1),HierarchicalDriving.FSM_Edge{String}(\"UnsafeOrUnsmooth\"),HierarchicalDriving.FSM_Node{Int64}(3))=>1.0…)),6.0,2.5),HierarchicalDriving.FSM_Node{Int64}(2)))],HierarchicalDriving.CarLocalIS[HierarchicalDriving.CarLocalIS{HierarchicalDriving.ParamCarModelL0}(HierarchicalDriving.CarPhysicalState((124.574,14.0,24.9285)),HierarchicalDriving.ParamCarModelL0(4,HierarchicalDriving.LowLevelCarFrameL0(HierarchicalDriving.IDMParam(1.4,2.0,1.5,25.0,1.0,4.0),HierarchicalDriving.MOBILParam(0.0,2.0,-1.5),HierarchicalDriving.FSM{Int64,Float64,String}(HierarchicalDriving.FSM_Node{Int64}[HierarchicalDriving.FSM_Node{Int64}(1),HierarchicalDriving.FSM_Node{Int64}(2),HierarchicalDriving.FSM_Node{Int64}(3),HierarchicalDriving.FSM_Node{Int64}(4),HierarchicalDriving.FSM_Node{Int64}(5)],HierarchicalDriving.FSM_Edge{String}[HierarchicalDriving.FSM_Edge{String}(\"Reached\"),HierarchicalDriving.FSM_Edge{String}(\"SafeSmooth\"),HierarchicalDriving.FSM_Edge{String}(\"UnsafeOrUnsmooth\"),HierarchicalDriving.FSM_Edge{String}(\"Undetermined\")],Dict((HierarchicalDriving.FSM_Node{Int64}(1),0.0)=>0.5,(HierarchicalDriving.FSM_Node{Int64}(1),2.0)=>0.5,(HierarchicalDriving.FSM_Node{Int64}(2),0.0)=>1.0,(HierarchicalDriving.FSM_Node{Int64}(3),-2.0)=>1.0,(HierarchicalDriving.FSM_Node{Int64}(4),2.0)=>1.0),Dict((HierarchicalDriving.FSM_Node{Int64}(2),HierarchicalDriving.FSM_Edge{String}(\"UnsafeOrUnsmooth\"),HierarchicalDriving.FSM_Node{Int64}(2))=>1.0,(HierarchicalDriving.FSM_Node{Int64}(4),HierarchicalDriving.FSM_Edge{String}(\"Reached\"),HierarchicalDriving.FSM_Node{Int64}(2))=>1.0,(HierarchicalDriving.FSM_Node{Int64}(2),HierarchicalDriving.FSM_Edge{String}(\"SafeSmooth\"),HierarchicalDriving.FSM_Node{Int64}(2))=>1.0,(HierarchicalDriving.FSM_Node{Int64}(3),HierarchicalDriving.FSM_Edge{String}(\"Undetermined\"),HierarchicalDriving.FSM_Node{Int64}(3))=>0.5,(HierarchicalDriving.FSM_Node{Int64}(1),HierarchicalDriving.FSM_Edge{String}(\"Undetermined\"),HierarchicalDriving.FSM_Node{Int64}(3))=>0.5,(HierarchicalDriving.FSM_Node{Int64}(1),HierarchicalDriving.FSM_Edge{String}(\"Undetermined\"),HierarchicalDriving.FSM_Node{Int64}(4))=>0.5,(HierarchicalDriving.FSM_Node{Int64}(1),HierarchicalDriving.FSM_Edge{String}(\"SafeSmooth\"),HierarchicalDriving.FSM_Node{Int64}(4))=>1.0,(HierarchicalDriving.FSM_Node{Int64}(3),HierarchicalDriving.FSM_Edge{String}(\"UnsafeOrUnsmooth\"),HierarchicalDriving.FSM_Node{Int64}(3))=>1.0,(HierarchicalDriving.FSM_Node{Int64}(2),HierarchicalDriving.FSM_Edge{String}(\"Undetermined\"),HierarchicalDriving.FSM_Node{Int64}(2))=>1.0,(HierarchicalDriving.FSM_Node{Int64}(1),HierarchicalDriving.FSM_Edge{String}(\"UnsafeOrUnsmooth\"),HierarchicalDriving.FSM_Node{Int64}(3))=>1.0…)),6.0,2.5),HierarchicalDriving.FSM_Node{Int64}(2))),HierarchicalDriving.CarLocalIS{HierarchicalDriving.ParamCarModelL0}(HierarchicalDriving.CarPhysicalState((87.1232,14.0,23.177)),HierarchicalDriving.ParamCarModelL0(4,HierarchicalDriving.LowLevelCarFrameL0(HierarchicalDriving.IDMParam(1.4,2.0,1.5,25.0,1.0,4.0),HierarchicalDriving.MOBILParam(0.0,2.0,-1.5),HierarchicalDriving.FSM{Int64,Float64,String}(HierarchicalDriving.FSM_Node{Int64}[HierarchicalDriving.FSM_Node{Int64}(1),HierarchicalDriving.FSM_Node{Int64}(2),HierarchicalDriving.FSM_Node{Int64}(3),HierarchicalDriving.FSM_Node{Int64}(4),HierarchicalDriving.FSM_Node{Int64}(5)],HierarchicalDriving.FSM_Edge{String}[HierarchicalDriving.FSM_Edge{String}(\"Reached\"),HierarchicalDriving.FSM_Edge{String}(\"SafeSmooth\"),HierarchicalDriving.FSM_Edge{String}(\"UnsafeOrUnsmooth\"),HierarchicalDriving.FSM_Edge{String}(\"Undetermined\")],Dict((HierarchicalDriving.FSM_Node{Int64}(1),0.0)=>0.5,(HierarchicalDriving.FSM_Node{Int64}(1),2.0)=>0.5,(HierarchicalDriving.FSM_Node{Int64}(2),0.0)=>1.0,(HierarchicalDriving.FSM_Node{Int64}(3),-2.0)=>1.0,(HierarchicalDriving.FSM_Node{Int64}(4),2.0)=>1.0),Dict((HierarchicalDriving.FSM_Node{Int64}(2),HierarchicalDriving.FSM_Edge{String}(\"UnsafeOrUnsmooth\"),HierarchicalDriving.FSM_Node{Int64}(2))=>1.0,(HierarchicalDriving.FSM_Node{Int64}(4),HierarchicalDriving.FSM_Edge{String}(\"Reached\"),HierarchicalDriving.FSM_Node{Int64}(2))=>1.0,(HierarchicalDriving.FSM_Node{Int64}(2),HierarchicalDriving.FSM_Edge{String}(\"SafeSmooth\"),HierarchicalDriving.FSM_Node{Int64}(2))=>1.0,(HierarchicalDriving.FSM_Node{Int64}(3),HierarchicalDriving.FSM_Edge{String}(\"Undetermined\"),HierarchicalDriving.FSM_Node{Int64}(3))=>0.5,(HierarchicalDriving.FSM_Node{Int64}(1),HierarchicalDriving.FSM_Edge{String}(\"Undetermined\"),HierarchicalDriving.FSM_Node{Int64}(3))=>0.5,(HierarchicalDriving.FSM_Node{Int64}(1),HierarchicalDriving.FSM_Edge{String}(\"Undetermined\"),HierarchicalDriving.FSM_Node{Int64}(4))=>0.5,(HierarchicalDriving.FSM_Node{Int64}(1),HierarchicalDriving.FSM_Edge{String}(\"SafeSmooth\"),HierarchicalDriving.FSM_Node{Int64}(4))=>1.0,(HierarchicalDriving.FSM_Node{Int64}(3),HierarchicalDriving.FSM_Edge{String}(\"UnsafeOrUnsmooth\"),HierarchicalDriving.FSM_Node{Int64}(3))=>1.0,(HierarchicalDriving.FSM_Node{Int64}(2),HierarchicalDriving.FSM_Edge{String}(\"Undetermined\"),HierarchicalDriving.FSM_Node{Int64}(2))=>1.0,(HierarchicalDriving.FSM_Node{Int64}(1),HierarchicalDriving.FSM_Edge{String}(\"UnsafeOrUnsmooth\"),HierarchicalDriving.FSM_Node{Int64}(3))=>1.0…)),6.0,2.5),HierarchicalDriving.FSM_Node{Int64}(2))),HierarchicalDriving.CarLocalIS{HierarchicalDriving.ParamCarModelL0}(HierarchicalDriving.CarPhysicalState((-28.3994,14.0,22.8942)),HierarchicalDriving.ParamCarModelL0(4,HierarchicalDriving.LowLevelCarFrameL0(HierarchicalDriving.IDMParam(1.4,2.0,1.5,25.0,1.0,4.0),HierarchicalDriving.MOBILParam(0.0,2.0,-1.5),HierarchicalDriving.FSM{Int64,Float64,String}(HierarchicalDriving.FSM_Node{Int64}[HierarchicalDriving.FSM_Node{Int64}(1),HierarchicalDriving.FSM_Node{Int64}(2),HierarchicalDriving.FSM_Node{Int64}(3),HierarchicalDriving.FSM_Node{Int64}(4),HierarchicalDriving.FSM_Node{Int64}(5)],HierarchicalDriving.FSM_Edge{String}[HierarchicalDriving.FSM_Edge{String}(\"Reached\"),HierarchicalDriving.FSM_Edge{String}(\"SafeSmooth\"),HierarchicalDriving.FSM_Edge{String}(\"UnsafeOrUnsmooth\"),HierarchicalDriving.FSM_Edge{String}(\"Undetermined\")],Dict((HierarchicalDriving.FSM_Node{Int64}(1),0.0)=>0.5,(HierarchicalDriving.FSM_Node{Int64}(1),2.0)=>0.5,(HierarchicalDriving.FSM_Node{Int64}(2),0.0)=>1.0,(HierarchicalDriving.FSM_Node{Int64}(3),-2.0)=>1.0,(HierarchicalDriving.FSM_Node{Int64}(4),2.0)=>1.0),Dict((HierarchicalDriving.FSM_Node{Int64}(2),HierarchicalDriving.FSM_Edge{String}(\"UnsafeOrUnsmooth\"),HierarchicalDriving.FSM_Node{Int64}(2))=>1.0,(HierarchicalDriving.FSM_Node{Int64}(4),HierarchicalDriving.FSM_Edge{String}(\"Reached\"),HierarchicalDriving.FSM_Node{Int64}(2))=>1.0,(HierarchicalDriving.FSM_Node{Int64}(2),HierarchicalDriving.FSM_Edge{String}(\"SafeSmooth\"),HierarchicalDriving.FSM_Node{Int64}(2))=>1.0,(HierarchicalDriving.FSM_Node{Int64}(3),HierarchicalDriving.FSM_Edge{String}(\"Undetermined\"),HierarchicalDriving.FSM_Node{Int64}(3))=>0.5,(HierarchicalDriving.FSM_Node{Int64}(1),HierarchicalDriving.FSM_Edge{String}(\"Undetermined\"),HierarchicalDriving.FSM_Node{Int64}(3))=>0.5,(HierarchicalDriving.FSM_Node{Int64}(1),HierarchicalDriving.FSM_Edge{String}(\"Undetermined\"),HierarchicalDriving.FSM_Node{Int64}(4))=>0.5,(HierarchicalDriving.FSM_Node{Int64}(1),HierarchicalDriving.FSM_Edge{String}(\"SafeSmooth\"),HierarchicalDriving.FSM_Node{Int64}(4))=>1.0,(HierarchicalDriving.FSM_Node{Int64}(3),HierarchicalDriving.FSM_Edge{String}(\"UnsafeOrUnsmooth\"),HierarchicalDriving.FSM_Node{Int64}(3))=>1.0,(HierarchicalDriving.FSM_Node{Int64}(2),HierarchicalDriving.FSM_Edge{String}(\"Undetermined\"),HierarchicalDriving.FSM_Node{Int64}(2))=>1.0,(HierarchicalDriving.FSM_Node{Int64}(1),HierarchicalDriving.FSM_Edge{String}(\"UnsafeOrUnsmooth\"),HierarchicalDriving.FSM_Node{Int64}(3))=>1.0…)),6.0,2.5),HierarchicalDriving.FSM_Node{Int64}(2)))]]))"
      ]
     },
     "execution_count": 19,
     "metadata": {
      "comm_id": "e6803ee7-a6bd-4f05-8143-1fe4c0dbb028",
      "reactive": true
     },
     "output_type": "execute_result"
    }
   ],
   "source": [
    "solver = DPWSolver(depth=p.HORIZON,\n",
    "                           exploration_constant=10.0,\n",
    "                           n_iterations=1_500,\n",
    "                           k_action=10.0,\n",
    "                           alpha_action=1/10,\n",
    "                           k_state=10.0,\n",
    "                           alpha_state=1/10,\n",
    "                            estimate_value=RolloutEstimator(subintentional_lowlevel_policy(p))\n",
    "                          )\n",
    "policy1 = solve(solver, p)\n",
    "hr1 = HistoryRecorder(max_steps = p.HORIZON, rng = MersenneTwister(i))\n",
    "hist1 = simulate(hr1, p, policy1);\n",
    "@manipulate for i in 1:n_steps(hist1)+1\n",
    "    (p,state_hist(hist1)[i])\n",
    "end"
   ]
  },
  {
   "cell_type": "code",
   "execution_count": 5,
   "metadata": {
    "collapsed": false
   },
   "outputs": [
    {
     "name": "stdout",
     "output_type": "stream",
     "text": [
      "HierarchicalDriving.CarPhysicalState((64.31508314322822,10.199999999999998,26.36390749962482))\n"
     ]
    }
   ],
   "source": [
    "sh = state_hist(hist1)[end]\n",
    "println(sh.ego)"
   ]
  },
  {
   "cell_type": "code",
   "execution_count": 6,
   "metadata": {
    "collapsed": false,
    "deletable": true,
    "editable": true
   },
   "outputs": [
    {
     "data": {
      "text/plain": [
       "0.0"
      ]
     },
     "execution_count": 6,
     "metadata": {},
     "output_type": "execute_result"
    }
   ],
   "source": [
    "discounted_reward(hist)"
   ]
  },
  {
   "cell_type": "code",
   "execution_count": 6,
   "metadata": {
    "collapsed": false,
    "deletable": true,
    "editable": true
   },
   "outputs": [
    {
     "data": {
      "text/plain": [
       "34.123558845652454"
      ]
     },
     "execution_count": 6,
     "metadata": {},
     "output_type": "execute_result"
    }
   ],
   "source": [
    "discounted_reward(hist1)"
   ]
  },
  {
   "cell_type": "code",
   "execution_count": 3,
   "metadata": {
    "collapsed": false,
    "deletable": true,
    "editable": true
   },
   "outputs": [
    {
     "data": {
      "text/plain": [
       "testing (generic function with 1 method)"
      ]
     },
     "execution_count": 3,
     "metadata": {},
     "output_type": "execute_result"
    }
   ],
   "source": [
    "function testing()\n",
    "    n = 100\n",
    "    sum = 0.0\n",
    "    sum1 = 0.0\n",
    "    numPositiveRnd = 0\n",
    "    numPositiveMCTS = 0\n",
    "    for i in 1:n\n",
    "        #policy = RandomPolicy(p)\n",
    "        policy = subintentional_lowlevel_policy(p)\n",
    "        hr = HistoryRecorder(max_steps = p.HORIZON, rng = MersenneTwister(i))\n",
    "        hist = simulate(hr, p, policy)\n",
    "\n",
    "        solver = DPWSolver(depth=p.HORIZON,\n",
    "                               exploration_constant=10.0,\n",
    "                               n_iterations=1_000,\n",
    "                               k_action=10.0,\n",
    "                               alpha_action=1/10,\n",
    "                               k_state=5.0,\n",
    "                               alpha_state=1/10,\n",
    "                               estimate_value=RolloutEstimator(subintentional_lowlevel_policy(p))\n",
    "                              )\n",
    "        policy1 = solve(solver, p)\n",
    "        hr1 = HistoryRecorder(max_steps = p.HORIZON, rng = MersenneTwister(i))\n",
    "        hist1 = simulate(hr1, p, policy1)\n",
    "\n",
    "        println(i, \",\", discounted_reward(hist), \",\", discounted_reward(hist1))\n",
    "        sum += discounted_reward(hist)\n",
    "        sum1+= discounted_reward(hist1)\n",
    "        if discounted_reward(hist)>0\n",
    "            numPositiveRnd += 1\n",
    "        end\n",
    "        if discounted_reward(hist1)>0\n",
    "            numPositiveMCTS += 1\n",
    "        end\n",
    "    end\n",
    "    println(\"Mean: \",sum/n,\",\", sum1/n)\n",
    "    println(\"Success Rate: \", numPositiveRnd/n, \",\", numPositiveMCTS/n)\n",
    "end"
   ]
  },
  {
   "cell_type": "code",
   "execution_count": 4,
   "metadata": {
    "collapsed": false,
    "deletable": true,
    "editable": true,
    "scrolled": false
   },
   "outputs": [
    {
     "name": "stdout",
     "output_type": "stream",
     "text": [
      "1,0.0,0.0\n",
      "2,44.76691271293581,45.21910375044021\n",
      "3,0.0,44.319243585806454\n",
      "4,0.0,40.011962463435815\n",
      "5,44.76691271293581,45.21910375044021\n",
      "6,0.0,39.319243585806454\n",
      "7,0.0,44.76691271293581\n",
      "8,0.0,43.86319366374611\n",
      "9,44.76691271293581,45.21910375044021\n",
      "10,44.76691271293581,45.21910375044021\n",
      "11,0.0,39.319243585806454\n",
      "12,44.76691271293581,45.21910375044021\n",
      "13,0.0,44.76691271293581\n",
      "14,44.76691271293581,45.21910375044021\n",
      "15,0.0,39.319243585806454\n",
      "16,44.76691271293581,44.76691271293581\n",
      "17,44.319243585806454,44.76691271293581\n",
      "18,44.76691271293581,44.76691271293581\n",
      "19,0.0,45.21910375044021\n",
      "20,0.0,34.36924358580646\n",
      "21,44.76691271293581,44.76691271293581\n",
      "22,0.0,44.76691271293581\n",
      "23,44.76691271293581,44.76691271293581\n",
      "24,44.76691271293581,45.21910375044021\n",
      "25,0.0,39.319243585806454\n",
      "26,0.0,34.36924358580646\n",
      "27,44.76691271293581,44.76691271293581\n",
      "28,0.0,39.76691271293581\n",
      "29,44.76691271293581,45.21910375044021\n",
      "30,44.76691271293581,45.21910375044021\n",
      "31,0.0,45.21910375044021\n",
      "32,44.76691271293581,45.21910375044021\n",
      "33,44.76691271293581,44.76691271293581\n",
      "34,44.319243585806454,44.76691271293581\n",
      "35,44.76691271293581,44.76691271293581\n",
      "36,0.0,0.0\n",
      "37,44.76691271293581,45.21910375044021\n",
      "38,44.319243585806454,44.76691271293581\n",
      "39,0.0,44.319243585806454\n",
      "40,0.0,39.36924358580645\n",
      "41,44.76691271293581,45.21910375044021\n",
      "42,44.76691271293581,44.76691271293581\n",
      "43,44.76691271293581,44.76691271293581\n",
      "44,44.76691271293581,44.76691271293581\n",
      "45,44.76691271293581,44.76691271293581\n",
      "46,0.0,39.319243585806454\n",
      "47,44.319243585806454,45.21910375044021\n",
      "48,44.76691271293581,44.76691271293581\n",
      "49,44.76691271293581,45.21910375044021\n",
      "50,0.0,45.21910375044021\n",
      "51,44.76691271293581,44.76691271293581\n",
      "52,44.319243585806454,44.76691271293581\n",
      "53,44.76691271293581,44.76691271293581\n",
      "54,44.76691271293581,44.76691271293581\n",
      "55,44.76691271293581,44.76691271293581\n",
      "56,0.0,0.0\n",
      "57,44.76691271293581,45.21910375044021\n",
      "58,44.76691271293581,44.76691271293581\n",
      "59,44.76691271293581,44.76691271293581\n",
      "60,44.76691271293581,44.76691271293581\n",
      "61,0.0,44.76691271293581\n",
      "62,0.0,39.319243585806454\n",
      "63,0.0,35.11243766293582\n",
      "64,0.0,0.0\n",
      "65,0.0,40.19932647551761\n",
      "66,44.76691271293581,44.76691271293581\n",
      "67,44.76691271293581,45.21910375044021\n",
      "68,44.76691271293581,39.319243585806454\n",
      "69,44.76691271293581,44.76691271293581\n",
      "70,44.76691271293581,44.76691271293581\n",
      "71,44.76691271293581,44.76691271293581\n",
      "72,44.76691271293581,44.76691271293581\n",
      "73,44.76691271293581,44.76691271293581\n",
      "74,44.76691271293581,44.76691271293581\n",
      "75,0.0,45.21910375044021\n",
      "76,0.0,39.319243585806454\n",
      "77,44.76691271293581,44.76691271293581\n",
      "78,0.0,39.319243585806454\n",
      "79,44.76691271293581,44.76691271293581\n",
      "80,44.76691271293581,44.76691271293581\n",
      "81,0.0,39.319243585806454\n",
      "82,44.76691271293581,44.319243585806454\n",
      "83,44.76691271293581,45.21910375044021\n",
      "84,44.76691271293581,45.21910375044021\n",
      "85,0.0,44.76691271293581\n",
      "86,44.76691271293581,45.21910375044021\n",
      "87,44.76691271293581,45.21910375044021\n",
      "88,0.0,0.0\n",
      "89,44.76691271293581,44.76691271293581\n",
      "90,44.76691271293581,44.76691271293581\n",
      "91,0.0,0.0\n",
      "92,44.76691271293581,44.76691271293581\n",
      "93,44.76691271293581,44.76691271293581\n",
      "94,0.0,45.21910375044021\n",
      "95,0.0,39.319243585806454\n",
      "96,0.0,44.319243585806454\n",
      "97,44.76691271293581,44.76691271293581\n",
      "98,44.76691271293581,45.21910375044021\n",
      "99,44.76691271293581,45.21910375044021\n",
      "100,44.76691271293581,45.21910375044021\n",
      "Mean: 28.18077155279308,41.0796236919165\n",
      "Success Rate: 0.63,0.94\n",
      "350.205690 seconds (3.69 G allocations: 95.331 GB, 10.99% gc time)\n"
     ]
    }
   ],
   "source": [
    "@time testing()"
   ]
  },
  {
   "cell_type": "code",
   "execution_count": null,
   "metadata": {
    "collapsed": true,
    "deletable": true,
    "editable": true
   },
   "outputs": [],
   "source": []
  }
 ],
 "metadata": {
  "anaconda-cloud": {},
  "kernelspec": {
   "display_name": "Julia 0.5.0",
   "language": "julia",
   "name": "julia-0.5"
  },
  "language_info": {
   "file_extension": ".jl",
   "mimetype": "application/julia",
   "name": "julia",
   "version": "0.5.0"
  },
  "widgets": {
   "state": {
    "029bdd06-10b4-45a4-a677-9d803a34868f": {
     "views": [
      {
       "cell_index": 3
      }
     ]
    },
    "7350b06d-c791-4d1e-8639-aa1c50fb8188": {
     "views": [
      {
       "cell_index": 2
      }
     ]
    }
   },
   "version": "1.2.0"
  }
 },
 "nbformat": 4,
 "nbformat_minor": 1
}
