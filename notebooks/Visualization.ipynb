{
 "cells": [
  {
   "cell_type": "code",
   "execution_count": 1,
   "metadata": {
    "collapsed": false,
    "deletable": true,
    "editable": true
   },
   "outputs": [
    {
     "data": {
      "text/html": [
       "<div id=\"interact-js-shim\">\n",
       "    <script charset=\"utf-8\">\n",
       "(function (IPython, $, _, MathJax) {\n",
       "    $.event.special.destroyed = {\n",
       "\tremove: function(o) {\n",
       "\t    if (o.handler) {\n",
       "\t\to.handler.apply(this, arguments)\n",
       "\t    }\n",
       "\t}\n",
       "    }\n",
       "\n",
       "    var OutputArea = IPython.version >= \"4.0.0\" ? require(\"notebook/js/outputarea\").OutputArea : IPython.OutputArea;\n",
       "\n",
       "    var redrawValue = function (container, type, val) {\n",
       "\tvar selector = $(\"<div/>\");\n",
       "\tvar oa = new OutputArea(_.extend(selector, {\n",
       "\t    selector: selector,\n",
       "\t    prompt_area: true,\n",
       "\t    events: IPython.events,\n",
       "\t    keyboard_manager: IPython.keyboard_manager\n",
       "\t})); // Hack to work with IPython 2.1.0\n",
       "\n",
       "\tswitch (type) {\n",
       "\tcase \"image/png\":\n",
       "            var _src = 'data:' + type + ';base64,' + val;\n",
       "\t    $(container).find(\"img\").attr('src', _src);\n",
       "\t    break;\n",
       "\tcase \"text/latex\":\n",
       "\t\tif (MathJax){\n",
       "\t\t\tvar math = MathJax.Hub.getAllJax(container)[0];\n",
       "\t\t\tMathJax.Hub.Queue([\"Text\", math, val.replace(/^\\${1,2}|\\${1,2}$/g, '')]);\n",
       "\t\t\tbreak;\n",
       "\t\t}\n",
       "\tdefault:\n",
       "\t    var toinsert = OutputArea.append_map[type].apply(\n",
       "\t\toa, [val, {}, selector]\n",
       "\t    );\n",
       "\t    $(container).empty().append(toinsert.contents());\n",
       "\t    selector.remove();\n",
       "\t}\n",
       "    }\n",
       "\n",
       "\n",
       "    $(document).ready(function() {\n",
       "\tfunction initComm(evt, data) {\n",
       "\t    var comm_manager = data.kernel.comm_manager;\n",
       "        //_.extend(comm_manager.targets, require(\"widgets/js/widget\"))\n",
       "\t    comm_manager.register_target(\"Signal\", function (comm) {\n",
       "            comm.on_msg(function (msg) {\n",
       "                var val = msg.content.data.value;\n",
       "                $(\".signal-\" + comm.comm_id).each(function() {\n",
       "                var type = $(this).data(\"type\");\n",
       "                if (typeof(val[type]) !== \"undefined\" && val[type] !== null) {\n",
       "                    redrawValue(this, type, val[type], type);\n",
       "                }\n",
       "                });\n",
       "                delete val;\n",
       "                delete msg.content.data.value;\n",
       "            });\n",
       "\t    });\n",
       "\n",
       "\t    // coordingate with Comm and redraw Signals\n",
       "\t    // XXX: Test using Reactive here to improve performance\n",
       "\t    $([IPython.events]).on(\n",
       "\t\t'output_appended.OutputArea', function (event, type, value, md, toinsert) {\n",
       "\t\t    if (md && md.reactive) {\n",
       "                // console.log(md.comm_id);\n",
       "                toinsert.addClass(\"signal-\" + md.comm_id);\n",
       "                toinsert.data(\"type\", type);\n",
       "                // Signal back indicating the mimetype required\n",
       "                var comm_manager = IPython.notebook.kernel.comm_manager;\n",
       "                var comm = comm_manager.comms[md.comm_id];\n",
       "                comm.then(function (c) {\n",
       "                    c.send({action: \"subscribe_mime\",\n",
       "                       mime: type});\n",
       "                    toinsert.bind(\"destroyed\", function() {\n",
       "                        c.send({action: \"unsubscribe_mime\",\n",
       "                               mime: type});\n",
       "                    });\n",
       "                })\n",
       "\t\t    }\n",
       "\t    });\n",
       "\t}\n",
       "\n",
       "\ttry {\n",
       "\t    // try to initialize right away. otherwise, wait on the status_started event.\n",
       "\t    initComm(undefined, IPython.notebook);\n",
       "\t} catch (e) {\n",
       "\t    $([IPython.events]).on('kernel_created.Kernel kernel_created.Session', initComm);\n",
       "\t}\n",
       "    });\n",
       "})(IPython, jQuery, _, MathJax);\n",
       "</script>\n",
       "    <script>\n",
       "        window.interactLoadedFlag = true\n",
       "       $(\"#interact-js-shim\").bind(\"destroyed\", function () {\n",
       "           if (window.interactLoadedFlag) {\n",
       "               console.warn(\"JavaScript required by Interact will be removed if you remove this cell or run using Interact more than once.\")\n",
       "           }\n",
       "       })\n",
       "       $([IPython.events]).on(\"kernel_starting.Kernel kernel_restarting.Kernel\", function () { window.interactLoadedFlag = false })\n",
       "   </script>\n",
       "</div>"
      ]
     },
     "metadata": {},
     "output_type": "display_data"
    }
   ],
   "source": [
    "using HierarchicalDriving\n",
    "import POMDPs:initial_state\n",
    "using POMDPToolbox\n",
    "using Interact\n",
    "using MCTS\n",
    "using AutoViz\n",
    "import ParticleFilters: obs_weight\n",
    "import Base: ==, +, *, -, <, >, copy, Random, hash"
   ]
  },
  {
   "cell_type": "code",
   "execution_count": 8,
   "metadata": {
    "collapsed": false,
    "deletable": true,
    "editable": true
   },
   "outputs": [],
   "source": [
    "HORIZON = 10\n",
    "TIME_STEP = 0.3\n",
    "lb_x = 0 #(AVG_HWY_VELOCITY - 5.0) * TIME_STEP * HORIZON\n",
    "ub_x = 150 #(AVG_HWY_VELOCITY + 5.0) * TIME_STEP * HORIZON\n",
    "p = LowLevelMDP(0.99,TIME_STEP, HORIZON,\n",
    "                            HierarchicalDriving.RoadSegment((-100.0, 500.0),[0.0, LANE_WIDTH, 2.0 * LANE_WIDTH, 3.0 * LANE_WIDTH, 4.0 * LANE_WIDTH]),\n",
    "                            CarPhysicalState((0.0, 3.0 * LANE_WIDTH/2.0, AVG_HWY_VELOCITY)),\n",
    "                            (CarPhysicalState((lb_x, 5.0 * LANE_WIDTH/2.0 - 0.5, AVG_HWY_VELOCITY - 5)),\n",
    "                             CarPhysicalState((ub_x, 5.0 * LANE_WIDTH/2.0 + 0.5, AVG_HWY_VELOCITY + 5))),\n",
    "                            50.0, -500.0, -1.0, -5.0, -5.0, -1.0, HierarchicalDriving.getFrameList());"
   ]
  },
  {
   "cell_type": "code",
   "execution_count": 9,
   "metadata": {
    "collapsed": false,
    "deletable": true,
    "editable": true
   },
   "outputs": [
    {
     "name": "stderr",
     "output_type": "stream",
     "text": [
      "WARNING: Method definition testing()"
     ]
    },
    {
     "data": {
      "text/plain": [
       "testing (generic function with 1 method)"
      ]
     },
     "execution_count": 9,
     "metadata": {},
     "output_type": "execute_result"
    },
    {
     "name": "stderr",
     "output_type": "stream",
     "text": [
      " in module Main at In[6]:2 overwritten at In[9]:2.\n"
     ]
    }
   ],
   "source": [
    "function testing()\n",
    "    n = 100\n",
    "    sum = 0.0\n",
    "    sum1 = 0.0\n",
    "    numPositiveRnd = 0\n",
    "    numPositiveMCTS = 0\n",
    "    for i in 1:n\n",
    "        #policy = RandomPolicy(p)\n",
    "        policy = subintentional_lowlevel_policy(p)\n",
    "        hr = HistoryRecorder(max_steps = p.HORIZON, rng = MersenneTwister(i))\n",
    "        hist = simulate(hr, p, policy)\n",
    "        finState = state_hist(hist)[end]\n",
    "\n",
    "        solver = DPWSolver(depth=p.HORIZON,\n",
    "                             exploration_constant=10.0,\n",
    "                             n_iterations=1_000,\n",
    "                             k_action=10.0,\n",
    "                             alpha_action=1/10,\n",
    "                             k_state=5.0,\n",
    "                             alpha_state=1/10,\n",
    "                             estimate_value=RolloutEstimator(subintentional_lowlevel_policy(p))\n",
    "                              )\n",
    "        policy1 = solve(solver, p)\n",
    "        hr1 = HistoryRecorder(max_steps = p.HORIZON, rng = MersenneTwister(i))\n",
    "        hist1 = simulate(hr1, p, policy1)\n",
    "        finState1 = state_hist(hist1)[end]\n",
    "        \n",
    "\n",
    "        println(i, \",\", discounted_reward(hist), \",\", discounted_reward(hist1))\n",
    "        sum += discounted_reward(hist)\n",
    "        sum1+= discounted_reward(hist1)\n",
    "        if finState.terminal == 2 || HierarchicalDriving.checkTargetCoordinates(finState,p)\n",
    "            numPositiveRnd += 1\n",
    "        end\n",
    "        if finState1.terminal == 2 || HierarchicalDriving.checkTargetCoordinates(finState1,p)\n",
    "            numPositiveMCTS += 1\n",
    "        end\n",
    "    end\n",
    "    println(\"Mean: \",sum/n,\",\", sum1/n)\n",
    "    println(\"Success Rate: \", numPositiveRnd/n, \",\", numPositiveMCTS/n)\n",
    "end"
   ]
  },
  {
   "cell_type": "code",
   "execution_count": 10,
   "metadata": {
    "collapsed": false,
    "deletable": true,
    "editable": true
   },
   "outputs": [
    {
     "name": "stdout",
     "output_type": "stream",
     "text": [
      "1,0.0,0.0\n",
      "2,-1.4417803659219204,44.24325908291367\n",
      "3,0.0,-1.1627255931506546\n",
      "4,44.99354965496276,44.93818497329708\n",
      "5,0.0,-5.929367445013061\n",
      "6,44.99354965496276,44.99354965496276\n",
      "7,44.99354965496276,44.93873862011374\n",
      "8,44.99354965496276,44.99354965496276\n",
      "9,0.0,0.0\n",
      "10,0.0,-11.48239397820663\n",
      "11,0.0,-0.3426331045470551\n",
      "12,-1.4417803659219204,44.24325908291367\n",
      "13,0.0,0.0\n",
      "14,0.0,39.46967708291367\n",
      "15,44.99354965496276,44.99354965496276\n",
      "16,0.0,0.0\n",
      "17,0.0,39.59787708291367\n",
      "18,44.99354965496276,44.93818497329708\n",
      "19,44.99354965496276,44.93818497329708\n",
      "20,44.99354965496276,44.93762573408834\n",
      "21,0.0,44.59787708291367\n",
      "22,-1.7303989782066285,44.99354965496276\n",
      "23,44.99354965496276,44.93762573408834\n",
      "24,0.0,43.47080144691974\n",
      "25,44.99354965496276,44.99354965496276\n",
      "26,0.0,43.29438344691973\n",
      "27,0.0,44.93873862011374\n",
      "28,44.99354965496276,44.93762573408834\n",
      "29,0.0,-10.796254798637655\n",
      "30,0.0,39.25616123658505\n",
      "31,0.0,34.25616123658505\n",
      "32,0.0,-2.0744844689886284\n",
      "33,-4.090549949524554,39.543066048064645\n",
      "34,0.0,43.64370872871973\n",
      "35,-2.1983554796830367,-5.0\n",
      "36,0.0,0.0\n",
      "37,44.99354965496276,44.88337393844806\n",
      "38,0.0,0.0\n",
      "39,44.99354965496276,44.93762573408834\n",
      "40,-1.4417803659219204,44.99354965496276\n",
      "41,44.99354965496276,44.93762573408834\n",
      "42,0.0,39.487701366398966\n",
      "43,0.0,0.0\n",
      "44,0.0,0.0\n",
      "45,0.0,-11.096255415921918\n",
      "46,0.0,0.0\n",
      "47,0.0,-0.17641799999999988\n",
      "48,0.0,-13.236955899763569\n",
      "49,0.0,-0.4999935764362606\n",
      "50,0.0,0.0\n",
      "51,0.0,-11.096255415921918\n",
      "52,0.0,38.86836254871973\n",
      "53,0.0,39.543066048064645\n",
      "54,-2.9040452996830357,39.41431240124799\n",
      "55,44.99354965496276,44.99354965496276\n",
      "56,0.0,44.99354965496276\n",
      "57,44.99354965496276,44.93818497329708\n",
      "58,44.99354965496276,44.93818497329708\n",
      "59,0.0,0.0\n",
      "60,0.0,0.0\n",
      "61,0.0,0.0\n",
      "62,-1.7303989782066285,44.99354965496276\n",
      "63,0.0,0.0\n",
      "64,0.0,0.0\n",
      "65,0.0,34.25616123658505\n",
      "66,0.0,-4.732019341965259\n",
      "67,0.0,-0.3338995314392351\n",
      "68,0.0,44.59787708291367\n",
      "69,0.0,-1.6129585749039204\n",
      "70,0.0,0.0\n",
      "71,0.0,33.96786254871974\n",
      "72,44.99354965496276,44.93873862011374\n",
      "73,0.0,0.0\n",
      "74,0.0,0.0\n",
      "75,-1.1660642512268575,-5.440943548200203\n",
      "76,44.206161236585054,44.59787708291367\n",
      "77,0.0,44.54251240124799\n",
      "78,43.81836254871973,44.54251240124799\n",
      "79,0.0,0.0\n",
      "80,-0.9932591662584747,44.24325908291367\n",
      "81,0.0,0.0\n",
      "82,-1.7303989782066285,44.88337393844806\n",
      "83,44.99354965496276,44.99354965496276\n",
      "84,0.0,-9.181309709557803\n",
      "85,0.0,43.81836254871973\n",
      "86,0.0,0.0\n",
      "87,44.59787708291367,44.99354965496276\n",
      "88,0.0,0.0\n",
      "89,0.0,44.543066048064645\n",
      "90,0.0,39.487701366398966\n",
      "91,0.0,-2.077960080006628\n",
      "92,0.0,0.0\n",
      "93,0.0,0.0\n",
      "94,0.0,0.0\n",
      "95,0.0,0.0\n",
      "96,0.0,0.0\n",
      "97,0.0,0.0\n",
      "98,44.99354965496276,44.93818497329708\n",
      "99,0.0,44.029743236585055\n",
      "100,44.99354965496276,44.88226105242266\n",
      "Mean: 10.566181314436749,22.37995289980919\n",
      "Success Rate: 0.27,0.57\n",
      "301.303643 seconds (3.96 G allocations: 114.524 GB, 12.17% gc time)\n"
     ]
    }
   ],
   "source": [
    "@time testing()"
   ]
  },
  {
   "cell_type": "code",
   "execution_count": 7,
   "metadata": {
    "collapsed": false,
    "deletable": true,
    "editable": true,
    "scrolled": false
   },
   "outputs": [
    {
     "data": {
      "text/html": [],
      "text/plain": [
       "Interact.Options{:SelectionSlider,Int64}(Signal{Int64}(8, nactions=1),\"i\",8,\"8\",Interact.OptionDict(DataStructures.OrderedDict(\"1\"=>1,\"2\"=>2,\"3\"=>3,\"4\"=>4,\"5\"=>5,\"6\"=>6,\"7\"=>7,\"8\"=>8,\"9\"=>9,\"10\"=>10…),Dict(2=>\"2\",16=>\"16\",11=>\"11\",7=>\"7\",9=>\"9\",10=>\"10\",8=>\"8\",6=>\"6\",4=>\"4\",3=>\"3\"…)),Any[],Any[],true,\"horizontal\")"
      ]
     },
     "metadata": {},
     "output_type": "display_data"
    },
    {
     "data": {
      "image/png": "[encoded data removed]",
      "text/plain": [
       "(HierarchicalDriving.LowLevelMDP(0.99,0.3,15,HierarchicalDriving.RoadSegment((-100.0,500.0),[0.0,4.0,8.0,12.0,16.0]),HierarchicalDriving.CarPhysicalState((0.0,6.0,25.0)),(HierarchicalDriving.CarPhysicalState((0.0,9.5,20.0)),HierarchicalDriving.CarPhysicalState((150.0,10.5,30.0))),50.0,-500.0,-1.0,-5.0,-5.0,-1.0,HierarchicalDriving.LowLevelCarFrameL0[HierarchicalDriving.LowLevelCarFrameL0(HierarchicalDriving.IDMParam(1.4,2.0,1.5,22.7648,2.0,4.0),HierarchicalDriving.MOBILParam(0.0,2.0,-1.0),HierarchicalDriving.FSM{Int64,Float64,String}(HierarchicalDriving.FSM_Node{Int64}[HierarchicalDriving.FSM_Node{Int64}(1),HierarchicalDriving.FSM_Node{Int64}(2),HierarchicalDriving.FSM_Node{Int64}(3),HierarchicalDriving.FSM_Node{Int64}(4)],HierarchicalDriving.FSM_Edge{String}[HierarchicalDriving.FSM_Edge{String}(\"Reached\"),HierarchicalDriving.FSM_Edge{String}(\"SafeSmooth\"),HierarchicalDriving.FSM_Edge{String}(\"UnsafeOrUnsmooth\"),HierarchicalDriving.FSM_Edge{String}(\"Undetermined\")],Dict((HierarchicalDriving.FSM_Node{Int64}(1),0.0)=>0.5,(HierarchicalDriving.FSM_Node{Int64}(1),2.0)=>0.5,(HierarchicalDriving.FSM_Node{Int64}(2),0.0)=>1.0,(HierarchicalDriving.FSM_Node{Int64}(3),-2.0)=>1.0,(HierarchicalDriving.FSM_Node{Int64}(4),2.0)=>1.0),Dict((HierarchicalDriving.FSM_Node{Int64}(2),HierarchicalDriving.FSM_Edge{String}(\"UnsafeOrUnsmooth\"),HierarchicalDriving.FSM_Node{Int64}(2))=>1.0,(HierarchicalDriving.FSM_Node{Int64}(4),HierarchicalDriving.FSM_Edge{String}(\"Reached\"),HierarchicalDriving.FSM_Node{Int64}(2))=>1.0,(HierarchicalDriving.FSM_Node{Int64}(2),HierarchicalDriving.FSM_Edge{String}(\"SafeSmooth\"),HierarchicalDriving.FSM_Node{Int64}(4))=>1.0,(HierarchicalDriving.FSM_Node{Int64}(1),HierarchicalDriving.FSM_Edge{String}(\"Undetermined\"),HierarchicalDriving.FSM_Node{Int64}(3))=>0.5,(HierarchicalDriving.FSM_Node{Int64}(1),HierarchicalDriving.FSM_Edge{String}(\"Undetermined\"),HierarchicalDriving.FSM_Node{Int64}(4))=>0.5,(HierarchicalDriving.FSM_Node{Int64}(3),HierarchicalDriving.FSM_Edge{String}(\"Undetermined\"),HierarchicalDriving.FSM_Node{Int64}(3))=>1.0,(HierarchicalDriving.FSM_Node{Int64}(1),HierarchicalDriving.FSM_Edge{String}(\"SafeSmooth\"),HierarchicalDriving.FSM_Node{Int64}(4))=>1.0,(HierarchicalDriving.FSM_Node{Int64}(3),HierarchicalDriving.FSM_Edge{String}(\"Reached\"),HierarchicalDriving.FSM_Node{Int64}(2))=>1.0,(HierarchicalDriving.FSM_Node{Int64}(3),HierarchicalDriving.FSM_Edge{String}(\"UnsafeOrUnsmooth\"),HierarchicalDriving.FSM_Node{Int64}(3))=>1.0,(HierarchicalDriving.FSM_Node{Int64}(2),HierarchicalDriving.FSM_Edge{String}(\"Undetermined\"),HierarchicalDriving.FSM_Node{Int64}(2))=>1.0…)),6.0,2.5),HierarchicalDriving.LowLevelCarFrameL0(HierarchicalDriving.IDMParam(1.4,2.0,1.5,25.0,1.0,4.0),HierarchicalDriving.MOBILParam(0.0,2.0,-1.5),HierarchicalDriving.FSM{Int64,Float64,String}(HierarchicalDriving.FSM_Node{Int64}[HierarchicalDriving.FSM_Node{Int64}(1),HierarchicalDriving.FSM_Node{Int64}(2),HierarchicalDriving.FSM_Node{Int64}(3),HierarchicalDriving.FSM_Node{Int64}(4)],HierarchicalDriving.FSM_Edge{String}[HierarchicalDriving.FSM_Edge{String}(\"Reached\"),HierarchicalDriving.FSM_Edge{String}(\"SafeSmooth\"),HierarchicalDriving.FSM_Edge{String}(\"UnsafeOrUnsmooth\"),HierarchicalDriving.FSM_Edge{String}(\"Undetermined\")],Dict((HierarchicalDriving.FSM_Node{Int64}(1),0.0)=>0.5,(HierarchicalDriving.FSM_Node{Int64}(1),2.0)=>0.5,(HierarchicalDriving.FSM_Node{Int64}(2),0.0)=>1.0,(HierarchicalDriving.FSM_Node{Int64}(3),-2.0)=>1.0,(HierarchicalDriving.FSM_Node{Int64}(4),2.0)=>1.0),Dict((HierarchicalDriving.FSM_Node{Int64}(2),HierarchicalDriving.FSM_Edge{String}(\"UnsafeOrUnsmooth\"),HierarchicalDriving.FSM_Node{Int64}(2))=>1.0,(HierarchicalDriving.FSM_Node{Int64}(4),HierarchicalDriving.FSM_Edge{String}(\"Reached\"),HierarchicalDriving.FSM_Node{Int64}(2))=>1.0,(HierarchicalDriving.FSM_Node{Int64}(2),HierarchicalDriving.FSM_Edge{String}(\"SafeSmooth\"),HierarchicalDriving.FSM_Node{Int64}(4))=>1.0,(HierarchicalDriving.FSM_Node{Int64}(1),HierarchicalDriving.FSM_Edge{String}(\"Undetermined\"),HierarchicalDriving.FSM_Node{Int64}(3))=>0.5,(HierarchicalDriving.FSM_Node{Int64}(1),HierarchicalDriving.FSM_Edge{String}(\"Undetermined\"),HierarchicalDriving.FSM_Node{Int64}(4))=>0.5,(HierarchicalDriving.FSM_Node{Int64}(3),HierarchicalDriving.FSM_Edge{String}(\"Undetermined\"),HierarchicalDriving.FSM_Node{Int64}(3))=>1.0,(HierarchicalDriving.FSM_Node{Int64}(1),HierarchicalDriving.FSM_Edge{String}(\"SafeSmooth\"),HierarchicalDriving.FSM_Node{Int64}(4))=>1.0,(HierarchicalDriving.FSM_Node{Int64}(3),HierarchicalDriving.FSM_Edge{String}(\"Reached\"),HierarchicalDriving.FSM_Node{Int64}(2))=>1.0,(HierarchicalDriving.FSM_Node{Int64}(3),HierarchicalDriving.FSM_Edge{String}(\"UnsafeOrUnsmooth\"),HierarchicalDriving.FSM_Node{Int64}(3))=>1.0,(HierarchicalDriving.FSM_Node{Int64}(2),HierarchicalDriving.FSM_Edge{String}(\"Undetermined\"),HierarchicalDriving.FSM_Node{Int64}(2))=>1.0…)),6.0,2.5),HierarchicalDriving.LowLevelCarFrameL0(HierarchicalDriving.IDMParam(1.4,2.0,1.5,27.2352,0.5,4.0),HierarchicalDriving.MOBILParam(0.0,2.0,-2.0),HierarchicalDriving.FSM{Int64,Float64,String}(HierarchicalDriving.FSM_Node{Int64}[HierarchicalDriving.FSM_Node{Int64}(1),HierarchicalDriving.FSM_Node{Int64}(2),HierarchicalDriving.FSM_Node{Int64}(3),HierarchicalDriving.FSM_Node{Int64}(4)],HierarchicalDriving.FSM_Edge{String}[HierarchicalDriving.FSM_Edge{String}(\"Reached\"),HierarchicalDriving.FSM_Edge{String}(\"SafeSmooth\"),HierarchicalDriving.FSM_Edge{String}(\"UnsafeOrUnsmooth\"),HierarchicalDriving.FSM_Edge{String}(\"Undetermined\")],Dict((HierarchicalDriving.FSM_Node{Int64}(1),0.0)=>0.5,(HierarchicalDriving.FSM_Node{Int64}(1),2.0)=>0.5,(HierarchicalDriving.FSM_Node{Int64}(2),0.0)=>1.0,(HierarchicalDriving.FSM_Node{Int64}(3),-2.0)=>1.0,(HierarchicalDriving.FSM_Node{Int64}(4),2.0)=>1.0),Dict((HierarchicalDriving.FSM_Node{Int64}(2),HierarchicalDriving.FSM_Edge{String}(\"UnsafeOrUnsmooth\"),HierarchicalDriving.FSM_Node{Int64}(2))=>1.0,(HierarchicalDriving.FSM_Node{Int64}(4),HierarchicalDriving.FSM_Edge{String}(\"Reached\"),HierarchicalDriving.FSM_Node{Int64}(2))=>1.0,(HierarchicalDriving.FSM_Node{Int64}(2),HierarchicalDriving.FSM_Edge{String}(\"SafeSmooth\"),HierarchicalDriving.FSM_Node{Int64}(4))=>1.0,(HierarchicalDriving.FSM_Node{Int64}(1),HierarchicalDriving.FSM_Edge{String}(\"Undetermined\"),HierarchicalDriving.FSM_Node{Int64}(3))=>0.5,(HierarchicalDriving.FSM_Node{Int64}(1),HierarchicalDriving.FSM_Edge{String}(\"Undetermined\"),HierarchicalDriving.FSM_Node{Int64}(4))=>0.5,(HierarchicalDriving.FSM_Node{Int64}(3),HierarchicalDriving.FSM_Edge{String}(\"Undetermined\"),HierarchicalDriving.FSM_Node{Int64}(3))=>1.0,(HierarchicalDriving.FSM_Node{Int64}(1),HierarchicalDriving.FSM_Edge{String}(\"SafeSmooth\"),HierarchicalDriving.FSM_Node{Int64}(4))=>1.0,(HierarchicalDriving.FSM_Node{Int64}(3),HierarchicalDriving.FSM_Edge{String}(\"Reached\"),HierarchicalDriving.FSM_Node{Int64}(2))=>1.0,(HierarchicalDriving.FSM_Node{Int64}(3),HierarchicalDriving.FSM_Edge{String}(\"UnsafeOrUnsmooth\"),HierarchicalDriving.FSM_Node{Int64}(3))=>1.0,(HierarchicalDriving.FSM_Node{Int64}(2),HierarchicalDriving.FSM_Edge{String}(\"Undetermined\"),HierarchicalDriving.FSM_Node{Int64}(2))=>1.0…)),6.0,2.5)]),HierarchicalDriving.GlobalStateL1(0,HierarchicalDriving.CarPhysicalState((51.18566624960352,6.0,23.787860577546546)),Array{HierarchicalDriving.CarLocalIS,1}[HierarchicalDriving.CarLocalIS[HierarchicalDriving.CarLocalIS{HierarchicalDriving.ParamCarModelL0}(HierarchicalDriving.CarPhysicalState((45.3218,2.0,25.2663)),HierarchicalDriving.ParamCarModelL0(2,HierarchicalDriving.LowLevelCarFrameL0(HierarchicalDriving.IDMParam(1.4,2.0,1.5,27.2352,0.5,4.0),HierarchicalDriving.MOBILParam(0.0,2.0,-2.0),HierarchicalDriving.FSM{Int64,Float64,String}(HierarchicalDriving.FSM_Node{Int64}[HierarchicalDriving.FSM_Node{Int64}(1),HierarchicalDriving.FSM_Node{Int64}(2),HierarchicalDriving.FSM_Node{Int64}(3),HierarchicalDriving.FSM_Node{Int64}(4)],HierarchicalDriving.FSM_Edge{String}[HierarchicalDriving.FSM_Edge{String}(\"Reached\"),HierarchicalDriving.FSM_Edge{String}(\"SafeSmooth\"),HierarchicalDriving.FSM_Edge{String}(\"UnsafeOrUnsmooth\"),HierarchicalDriving.FSM_Edge{String}(\"Undetermined\")],Dict((HierarchicalDriving.FSM_Node{Int64}(1),0.0)=>0.5,(HierarchicalDriving.FSM_Node{Int64}(1),2.0)=>0.5,(HierarchicalDriving.FSM_Node{Int64}(2),0.0)=>1.0,(HierarchicalDriving.FSM_Node{Int64}(3),-2.0)=>1.0,(HierarchicalDriving.FSM_Node{Int64}(4),2.0)=>1.0),Dict((HierarchicalDriving.FSM_Node{Int64}(2),HierarchicalDriving.FSM_Edge{String}(\"UnsafeOrUnsmooth\"),HierarchicalDriving.FSM_Node{Int64}(2))=>1.0,(HierarchicalDriving.FSM_Node{Int64}(4),HierarchicalDriving.FSM_Edge{String}(\"Reached\"),HierarchicalDriving.FSM_Node{Int64}(2))=>1.0,(HierarchicalDriving.FSM_Node{Int64}(2),HierarchicalDriving.FSM_Edge{String}(\"SafeSmooth\"),HierarchicalDriving.FSM_Node{Int64}(4))=>1.0,(HierarchicalDriving.FSM_Node{Int64}(1),HierarchicalDriving.FSM_Edge{String}(\"Undetermined\"),HierarchicalDriving.FSM_Node{Int64}(3))=>0.5,(HierarchicalDriving.FSM_Node{Int64}(1),HierarchicalDriving.FSM_Edge{String}(\"Undetermined\"),HierarchicalDriving.FSM_Node{Int64}(4))=>0.5,(HierarchicalDriving.FSM_Node{Int64}(3),HierarchicalDriving.FSM_Edge{String}(\"Undetermined\"),HierarchicalDriving.FSM_Node{Int64}(3))=>1.0,(HierarchicalDriving.FSM_Node{Int64}(1),HierarchicalDriving.FSM_Edge{String}(\"SafeSmooth\"),HierarchicalDriving.FSM_Node{Int64}(4))=>1.0,(HierarchicalDriving.FSM_Node{Int64}(3),HierarchicalDriving.FSM_Edge{String}(\"Reached\"),HierarchicalDriving.FSM_Node{Int64}(2))=>1.0,(HierarchicalDriving.FSM_Node{Int64}(3),HierarchicalDriving.FSM_Edge{String}(\"UnsafeOrUnsmooth\"),HierarchicalDriving.FSM_Node{Int64}(3))=>1.0,(HierarchicalDriving.FSM_Node{Int64}(2),HierarchicalDriving.FSM_Edge{String}(\"Undetermined\"),HierarchicalDriving.FSM_Node{Int64}(2))=>1.0…)),6.0,2.5),HierarchicalDriving.FSM_Node{Int64}(3)))],HierarchicalDriving.CarLocalIS[HierarchicalDriving.CarLocalIS{HierarchicalDriving.ParamCarModelL0}(HierarchicalDriving.CarPhysicalState((116.148,6.0,21.0561)),HierarchicalDriving.ParamCarModelL0(1,HierarchicalDriving.LowLevelCarFrameL0(HierarchicalDriving.IDMParam(1.4,2.0,1.5,25.0,1.0,4.0),HierarchicalDriving.MOBILParam(0.0,2.0,-1.5),HierarchicalDriving.FSM{Int64,Float64,String}(HierarchicalDriving.FSM_Node{Int64}[HierarchicalDriving.FSM_Node{Int64}(1),HierarchicalDriving.FSM_Node{Int64}(2),HierarchicalDriving.FSM_Node{Int64}(3),HierarchicalDriving.FSM_Node{Int64}(4)],HierarchicalDriving.FSM_Edge{String}[HierarchicalDriving.FSM_Edge{String}(\"Reached\"),HierarchicalDriving.FSM_Edge{String}(\"SafeSmooth\"),HierarchicalDriving.FSM_Edge{String}(\"UnsafeOrUnsmooth\"),HierarchicalDriving.FSM_Edge{String}(\"Undetermined\")],Dict((HierarchicalDriving.FSM_Node{Int64}(1),0.0)=>0.5,(HierarchicalDriving.FSM_Node{Int64}(1),2.0)=>0.5,(HierarchicalDriving.FSM_Node{Int64}(2),0.0)=>1.0,(HierarchicalDriving.FSM_Node{Int64}(3),-2.0)=>1.0,(HierarchicalDriving.FSM_Node{Int64}(4),2.0)=>1.0),Dict((HierarchicalDriving.FSM_Node{Int64}(2),HierarchicalDriving.FSM_Edge{String}(\"UnsafeOrUnsmooth\"),HierarchicalDriving.FSM_Node{Int64}(2))=>1.0,(HierarchicalDriving.FSM_Node{Int64}(4),HierarchicalDriving.FSM_Edge{String}(\"Reached\"),HierarchicalDriving.FSM_Node{Int64}(2))=>1.0,(HierarchicalDriving.FSM_Node{Int64}(2),HierarchicalDriving.FSM_Edge{String}(\"SafeSmooth\"),HierarchicalDriving.FSM_Node{Int64}(4))=>1.0,(HierarchicalDriving.FSM_Node{Int64}(1),HierarchicalDriving.FSM_Edge{String}(\"Undetermined\"),HierarchicalDriving.FSM_Node{Int64}(3))=>0.5,(HierarchicalDriving.FSM_Node{Int64}(1),HierarchicalDriving.FSM_Edge{String}(\"Undetermined\"),HierarchicalDriving.FSM_Node{Int64}(4))=>0.5,(HierarchicalDriving.FSM_Node{Int64}(3),HierarchicalDriving.FSM_Edge{String}(\"Undetermined\"),HierarchicalDriving.FSM_Node{Int64}(3))=>1.0,(HierarchicalDriving.FSM_Node{Int64}(1),HierarchicalDriving.FSM_Edge{String}(\"SafeSmooth\"),HierarchicalDriving.FSM_Node{Int64}(4))=>1.0,(HierarchicalDriving.FSM_Node{Int64}(3),HierarchicalDriving.FSM_Edge{String}(\"Reached\"),HierarchicalDriving.FSM_Node{Int64}(2))=>1.0,(HierarchicalDriving.FSM_Node{Int64}(3),HierarchicalDriving.FSM_Edge{String}(\"UnsafeOrUnsmooth\"),HierarchicalDriving.FSM_Node{Int64}(3))=>1.0,(HierarchicalDriving.FSM_Node{Int64}(2),HierarchicalDriving.FSM_Edge{String}(\"Undetermined\"),HierarchicalDriving.FSM_Node{Int64}(2))=>1.0…)),6.0,2.5),HierarchicalDriving.FSM_Node{Int64}(3)))],HierarchicalDriving.CarLocalIS[HierarchicalDriving.CarLocalIS{HierarchicalDriving.ParamCarModelL0}(HierarchicalDriving.CarPhysicalState((57.373,10.0,25.9941)),HierarchicalDriving.ParamCarModelL0(3,HierarchicalDriving.LowLevelCarFrameL0(HierarchicalDriving.IDMParam(1.4,2.0,1.5,25.0,1.0,4.0),HierarchicalDriving.MOBILParam(0.0,2.0,-1.5),HierarchicalDriving.FSM{Int64,Float64,String}(HierarchicalDriving.FSM_Node{Int64}[HierarchicalDriving.FSM_Node{Int64}(1),HierarchicalDriving.FSM_Node{Int64}(2),HierarchicalDriving.FSM_Node{Int64}(3),HierarchicalDriving.FSM_Node{Int64}(4)],HierarchicalDriving.FSM_Edge{String}[HierarchicalDriving.FSM_Edge{String}(\"Reached\"),HierarchicalDriving.FSM_Edge{String}(\"SafeSmooth\"),HierarchicalDriving.FSM_Edge{String}(\"UnsafeOrUnsmooth\"),HierarchicalDriving.FSM_Edge{String}(\"Undetermined\")],Dict((HierarchicalDriving.FSM_Node{Int64}(1),0.0)=>0.5,(HierarchicalDriving.FSM_Node{Int64}(1),2.0)=>0.5,(HierarchicalDriving.FSM_Node{Int64}(2),0.0)=>1.0,(HierarchicalDriving.FSM_Node{Int64}(3),-2.0)=>1.0,(HierarchicalDriving.FSM_Node{Int64}(4),2.0)=>1.0),Dict((HierarchicalDriving.FSM_Node{Int64}(2),HierarchicalDriving.FSM_Edge{String}(\"UnsafeOrUnsmooth\"),HierarchicalDriving.FSM_Node{Int64}(2))=>1.0,(HierarchicalDriving.FSM_Node{Int64}(4),HierarchicalDriving.FSM_Edge{String}(\"Reached\"),HierarchicalDriving.FSM_Node{Int64}(2))=>1.0,(HierarchicalDriving.FSM_Node{Int64}(2),HierarchicalDriving.FSM_Edge{String}(\"SafeSmooth\"),HierarchicalDriving.FSM_Node{Int64}(4))=>1.0,(HierarchicalDriving.FSM_Node{Int64}(1),HierarchicalDriving.FSM_Edge{String}(\"Undetermined\"),HierarchicalDriving.FSM_Node{Int64}(3))=>0.5,(HierarchicalDriving.FSM_Node{Int64}(1),HierarchicalDriving.FSM_Edge{String}(\"Undetermined\"),HierarchicalDriving.FSM_Node{Int64}(4))=>0.5,(HierarchicalDriving.FSM_Node{Int64}(3),HierarchicalDriving.FSM_Edge{String}(\"Undetermined\"),HierarchicalDriving.FSM_Node{Int64}(3))=>1.0,(HierarchicalDriving.FSM_Node{Int64}(1),HierarchicalDriving.FSM_Edge{String}(\"SafeSmooth\"),HierarchicalDriving.FSM_Node{Int64}(4))=>1.0,(HierarchicalDriving.FSM_Node{Int64}(3),HierarchicalDriving.FSM_Edge{String}(\"Reached\"),HierarchicalDriving.FSM_Node{Int64}(2))=>1.0,(HierarchicalDriving.FSM_Node{Int64}(3),HierarchicalDriving.FSM_Edge{String}(\"UnsafeOrUnsmooth\"),HierarchicalDriving.FSM_Node{Int64}(3))=>1.0,(HierarchicalDriving.FSM_Node{Int64}(2),HierarchicalDriving.FSM_Edge{String}(\"Undetermined\"),HierarchicalDriving.FSM_Node{Int64}(2))=>1.0…)),6.0,2.5),HierarchicalDriving.FSM_Node{Int64}(2)))],HierarchicalDriving.CarLocalIS[HierarchicalDriving.CarLocalIS{HierarchicalDriving.ParamCarModelL0}(HierarchicalDriving.CarPhysicalState((130.034,14.0,25.3235)),HierarchicalDriving.ParamCarModelL0(4,HierarchicalDriving.LowLevelCarFrameL0(HierarchicalDriving.IDMParam(1.4,2.0,1.5,25.0,1.0,4.0),HierarchicalDriving.MOBILParam(0.0,2.0,-1.5),HierarchicalDriving.FSM{Int64,Float64,String}(HierarchicalDriving.FSM_Node{Int64}[HierarchicalDriving.FSM_Node{Int64}(1),HierarchicalDriving.FSM_Node{Int64}(2),HierarchicalDriving.FSM_Node{Int64}(3),HierarchicalDriving.FSM_Node{Int64}(4)],HierarchicalDriving.FSM_Edge{String}[HierarchicalDriving.FSM_Edge{String}(\"Reached\"),HierarchicalDriving.FSM_Edge{String}(\"SafeSmooth\"),HierarchicalDriving.FSM_Edge{String}(\"UnsafeOrUnsmooth\"),HierarchicalDriving.FSM_Edge{String}(\"Undetermined\")],Dict((HierarchicalDriving.FSM_Node{Int64}(1),0.0)=>0.5,(HierarchicalDriving.FSM_Node{Int64}(1),2.0)=>0.5,(HierarchicalDriving.FSM_Node{Int64}(2),0.0)=>1.0,(HierarchicalDriving.FSM_Node{Int64}(3),-2.0)=>1.0,(HierarchicalDriving.FSM_Node{Int64}(4),2.0)=>1.0),Dict((HierarchicalDriving.FSM_Node{Int64}(2),HierarchicalDriving.FSM_Edge{String}(\"UnsafeOrUnsmooth\"),HierarchicalDriving.FSM_Node{Int64}(2))=>1.0,(HierarchicalDriving.FSM_Node{Int64}(4),HierarchicalDriving.FSM_Edge{String}(\"Reached\"),HierarchicalDriving.FSM_Node{Int64}(2))=>1.0,(HierarchicalDriving.FSM_Node{Int64}(2),HierarchicalDriving.FSM_Edge{String}(\"SafeSmooth\"),HierarchicalDriving.FSM_Node{Int64}(4))=>1.0,(HierarchicalDriving.FSM_Node{Int64}(1),HierarchicalDriving.FSM_Edge{String}(\"Undetermined\"),HierarchicalDriving.FSM_Node{Int64}(3))=>0.5,(HierarchicalDriving.FSM_Node{Int64}(1),HierarchicalDriving.FSM_Edge{String}(\"Undetermined\"),HierarchicalDriving.FSM_Node{Int64}(4))=>0.5,(HierarchicalDriving.FSM_Node{Int64}(3),HierarchicalDriving.FSM_Edge{String}(\"Undetermined\"),HierarchicalDriving.FSM_Node{Int64}(3))=>1.0,(HierarchicalDriving.FSM_Node{Int64}(1),HierarchicalDriving.FSM_Edge{String}(\"SafeSmooth\"),HierarchicalDriving.FSM_Node{Int64}(4))=>1.0,(HierarchicalDriving.FSM_Node{Int64}(3),HierarchicalDriving.FSM_Edge{String}(\"Reached\"),HierarchicalDriving.FSM_Node{Int64}(2))=>1.0,(HierarchicalDriving.FSM_Node{Int64}(3),HierarchicalDriving.FSM_Edge{String}(\"UnsafeOrUnsmooth\"),HierarchicalDriving.FSM_Node{Int64}(3))=>1.0,(HierarchicalDriving.FSM_Node{Int64}(2),HierarchicalDriving.FSM_Edge{String}(\"Undetermined\"),HierarchicalDriving.FSM_Node{Int64}(2))=>1.0…)),6.0,2.5),HierarchicalDriving.FSM_Node{Int64}(2)))]],Dict{HierarchicalDriving.CarPhysicalState,Array{StaticArrays.SVector{2,HierarchicalDriving.CarPhysicalState},1}}()),AutoViz.SceneOverlay[HierarchicalDriving.CarVelOverlay(),HierarchicalDriving.CarIDOverlay()])"
      ]
     },
     "execution_count": 7,
     "metadata": {
      "comm_id": "19035f28-f837-4ddb-a5b1-9cf74d4f0294",
      "reactive": true
     },
     "output_type": "execute_result"
    }
   ],
   "source": [
    "i = 87\n",
    "#policy = RandomPolicy(p)\n",
    "policy = subintentional_lowlevel_policy(p);\n",
    "hr = HistoryRecorder(max_steps = p.HORIZON, rng = MersenneTwister(i));\n",
    "hist = simulate(hr, p, policy);\n",
    "#for stepno in 1:n_steps(hist)\n",
    "    #act = action(policy, state_hist(hist)[stepno])\n",
    "    #println(\"StepNo $stepno\")\n",
    "    #println(act)\n",
    "    #println(action(policy, state_hist(hist)[stepno]))\n",
    "#end\n",
    "@manipulate for i in 1:n_steps(hist)+1\n",
    "    (p,state_hist(hist)[i],SceneOverlay[CarVelOverlay(), CarIDOverlay()])\n",
    "end"
   ]
  },
  {
   "cell_type": "code",
   "execution_count": 8,
   "metadata": {
    "collapsed": false,
    "deletable": true,
    "editable": true
   },
   "outputs": [
    {
     "name": "stdout",
     "output_type": "stream",
     "text": [
      "  "
     ]
    },
    {
     "data": {
      "text/html": [],
      "text/plain": [
       "Interact.Options{:SelectionSlider,Int64}(Signal{Int64}(8, nactions=1),\"i\",8,\"8\",Interact.OptionDict(DataStructures.OrderedDict(\"1\"=>1,\"2\"=>2,\"3\"=>3,\"4\"=>4,\"5\"=>5,\"6\"=>6,\"7\"=>7,\"8\"=>8,\"9\"=>9,\"10\"=>10…),Dict(2=>\"2\",16=>\"16\",11=>\"11\",7=>\"7\",9=>\"9\",10=>\"10\",8=>\"8\",6=>\"6\",4=>\"4\",3=>\"3\"…)),Any[],Any[],true,\"horizontal\")"
      ]
     },
     "metadata": {},
     "output_type": "display_data"
    },
    {
     "name": "stdout",
     "output_type": "stream",
     "text": [
      "8.173210 seconds (90.21 M allocations: 2.621 GB, 10.63% gc time)\n"
     ]
    },
    {
     "data": {
      "image/png": "[encoded data removed]",
      "text/plain": [
       "(HierarchicalDriving.LowLevelMDP(0.99,0.3,15,HierarchicalDriving.RoadSegment((-100.0,500.0),[0.0,4.0,8.0,12.0,16.0]),HierarchicalDriving.CarPhysicalState((0.0,6.0,25.0)),(HierarchicalDriving.CarPhysicalState((0.0,9.5,20.0)),HierarchicalDriving.CarPhysicalState((150.0,10.5,30.0))),50.0,-500.0,-1.0,-5.0,-5.0,-1.0,HierarchicalDriving.LowLevelCarFrameL0[HierarchicalDriving.LowLevelCarFrameL0(HierarchicalDriving.IDMParam(1.4,2.0,1.5,22.7648,2.0,4.0),HierarchicalDriving.MOBILParam(0.0,2.0,-1.0),HierarchicalDriving.FSM{Int64,Float64,String}(HierarchicalDriving.FSM_Node{Int64}[HierarchicalDriving.FSM_Node{Int64}(1),HierarchicalDriving.FSM_Node{Int64}(2),HierarchicalDriving.FSM_Node{Int64}(3),HierarchicalDriving.FSM_Node{Int64}(4)],HierarchicalDriving.FSM_Edge{String}[HierarchicalDriving.FSM_Edge{String}(\"Reached\"),HierarchicalDriving.FSM_Edge{String}(\"SafeSmooth\"),HierarchicalDriving.FSM_Edge{String}(\"UnsafeOrUnsmooth\"),HierarchicalDriving.FSM_Edge{String}(\"Undetermined\")],Dict((HierarchicalDriving.FSM_Node{Int64}(1),0.0)=>0.5,(HierarchicalDriving.FSM_Node{Int64}(1),2.0)=>0.5,(HierarchicalDriving.FSM_Node{Int64}(2),0.0)=>1.0,(HierarchicalDriving.FSM_Node{Int64}(3),-2.0)=>1.0,(HierarchicalDriving.FSM_Node{Int64}(4),2.0)=>1.0),Dict((HierarchicalDriving.FSM_Node{Int64}(2),HierarchicalDriving.FSM_Edge{String}(\"UnsafeOrUnsmooth\"),HierarchicalDriving.FSM_Node{Int64}(2))=>1.0,(HierarchicalDriving.FSM_Node{Int64}(4),HierarchicalDriving.FSM_Edge{String}(\"Reached\"),HierarchicalDriving.FSM_Node{Int64}(2))=>1.0,(HierarchicalDriving.FSM_Node{Int64}(2),HierarchicalDriving.FSM_Edge{String}(\"SafeSmooth\"),HierarchicalDriving.FSM_Node{Int64}(4))=>1.0,(HierarchicalDriving.FSM_Node{Int64}(1),HierarchicalDriving.FSM_Edge{String}(\"Undetermined\"),HierarchicalDriving.FSM_Node{Int64}(3))=>0.5,(HierarchicalDriving.FSM_Node{Int64}(1),HierarchicalDriving.FSM_Edge{String}(\"Undetermined\"),HierarchicalDriving.FSM_Node{Int64}(4))=>0.5,(HierarchicalDriving.FSM_Node{Int64}(3),HierarchicalDriving.FSM_Edge{String}(\"Undetermined\"),HierarchicalDriving.FSM_Node{Int64}(3))=>1.0,(HierarchicalDriving.FSM_Node{Int64}(1),HierarchicalDriving.FSM_Edge{String}(\"SafeSmooth\"),HierarchicalDriving.FSM_Node{Int64}(4))=>1.0,(HierarchicalDriving.FSM_Node{Int64}(3),HierarchicalDriving.FSM_Edge{String}(\"Reached\"),HierarchicalDriving.FSM_Node{Int64}(2))=>1.0,(HierarchicalDriving.FSM_Node{Int64}(3),HierarchicalDriving.FSM_Edge{String}(\"UnsafeOrUnsmooth\"),HierarchicalDriving.FSM_Node{Int64}(3))=>1.0,(HierarchicalDriving.FSM_Node{Int64}(2),HierarchicalDriving.FSM_Edge{String}(\"Undetermined\"),HierarchicalDriving.FSM_Node{Int64}(2))=>1.0…)),6.0,2.5),HierarchicalDriving.LowLevelCarFrameL0(HierarchicalDriving.IDMParam(1.4,2.0,1.5,25.0,1.0,4.0),HierarchicalDriving.MOBILParam(0.0,2.0,-1.5),HierarchicalDriving.FSM{Int64,Float64,String}(HierarchicalDriving.FSM_Node{Int64}[HierarchicalDriving.FSM_Node{Int64}(1),HierarchicalDriving.FSM_Node{Int64}(2),HierarchicalDriving.FSM_Node{Int64}(3),HierarchicalDriving.FSM_Node{Int64}(4)],HierarchicalDriving.FSM_Edge{String}[HierarchicalDriving.FSM_Edge{String}(\"Reached\"),HierarchicalDriving.FSM_Edge{String}(\"SafeSmooth\"),HierarchicalDriving.FSM_Edge{String}(\"UnsafeOrUnsmooth\"),HierarchicalDriving.FSM_Edge{String}(\"Undetermined\")],Dict((HierarchicalDriving.FSM_Node{Int64}(1),0.0)=>0.5,(HierarchicalDriving.FSM_Node{Int64}(1),2.0)=>0.5,(HierarchicalDriving.FSM_Node{Int64}(2),0.0)=>1.0,(HierarchicalDriving.FSM_Node{Int64}(3),-2.0)=>1.0,(HierarchicalDriving.FSM_Node{Int64}(4),2.0)=>1.0),Dict((HierarchicalDriving.FSM_Node{Int64}(2),HierarchicalDriving.FSM_Edge{String}(\"UnsafeOrUnsmooth\"),HierarchicalDriving.FSM_Node{Int64}(2))=>1.0,(HierarchicalDriving.FSM_Node{Int64}(4),HierarchicalDriving.FSM_Edge{String}(\"Reached\"),HierarchicalDriving.FSM_Node{Int64}(2))=>1.0,(HierarchicalDriving.FSM_Node{Int64}(2),HierarchicalDriving.FSM_Edge{String}(\"SafeSmooth\"),HierarchicalDriving.FSM_Node{Int64}(4))=>1.0,(HierarchicalDriving.FSM_Node{Int64}(1),HierarchicalDriving.FSM_Edge{String}(\"Undetermined\"),HierarchicalDriving.FSM_Node{Int64}(3))=>0.5,(HierarchicalDriving.FSM_Node{Int64}(1),HierarchicalDriving.FSM_Edge{String}(\"Undetermined\"),HierarchicalDriving.FSM_Node{Int64}(4))=>0.5,(HierarchicalDriving.FSM_Node{Int64}(3),HierarchicalDriving.FSM_Edge{String}(\"Undetermined\"),HierarchicalDriving.FSM_Node{Int64}(3))=>1.0,(HierarchicalDriving.FSM_Node{Int64}(1),HierarchicalDriving.FSM_Edge{String}(\"SafeSmooth\"),HierarchicalDriving.FSM_Node{Int64}(4))=>1.0,(HierarchicalDriving.FSM_Node{Int64}(3),HierarchicalDriving.FSM_Edge{String}(\"Reached\"),HierarchicalDriving.FSM_Node{Int64}(2))=>1.0,(HierarchicalDriving.FSM_Node{Int64}(3),HierarchicalDriving.FSM_Edge{String}(\"UnsafeOrUnsmooth\"),HierarchicalDriving.FSM_Node{Int64}(3))=>1.0,(HierarchicalDriving.FSM_Node{Int64}(2),HierarchicalDriving.FSM_Edge{String}(\"Undetermined\"),HierarchicalDriving.FSM_Node{Int64}(2))=>1.0…)),6.0,2.5),HierarchicalDriving.LowLevelCarFrameL0(HierarchicalDriving.IDMParam(1.4,2.0,1.5,27.2352,0.5,4.0),HierarchicalDriving.MOBILParam(0.0,2.0,-2.0),HierarchicalDriving.FSM{Int64,Float64,String}(HierarchicalDriving.FSM_Node{Int64}[HierarchicalDriving.FSM_Node{Int64}(1),HierarchicalDriving.FSM_Node{Int64}(2),HierarchicalDriving.FSM_Node{Int64}(3),HierarchicalDriving.FSM_Node{Int64}(4)],HierarchicalDriving.FSM_Edge{String}[HierarchicalDriving.FSM_Edge{String}(\"Reached\"),HierarchicalDriving.FSM_Edge{String}(\"SafeSmooth\"),HierarchicalDriving.FSM_Edge{String}(\"UnsafeOrUnsmooth\"),HierarchicalDriving.FSM_Edge{String}(\"Undetermined\")],Dict((HierarchicalDriving.FSM_Node{Int64}(1),0.0)=>0.5,(HierarchicalDriving.FSM_Node{Int64}(1),2.0)=>0.5,(HierarchicalDriving.FSM_Node{Int64}(2),0.0)=>1.0,(HierarchicalDriving.FSM_Node{Int64}(3),-2.0)=>1.0,(HierarchicalDriving.FSM_Node{Int64}(4),2.0)=>1.0),Dict((HierarchicalDriving.FSM_Node{Int64}(2),HierarchicalDriving.FSM_Edge{String}(\"UnsafeOrUnsmooth\"),HierarchicalDriving.FSM_Node{Int64}(2))=>1.0,(HierarchicalDriving.FSM_Node{Int64}(4),HierarchicalDriving.FSM_Edge{String}(\"Reached\"),HierarchicalDriving.FSM_Node{Int64}(2))=>1.0,(HierarchicalDriving.FSM_Node{Int64}(2),HierarchicalDriving.FSM_Edge{String}(\"SafeSmooth\"),HierarchicalDriving.FSM_Node{Int64}(4))=>1.0,(HierarchicalDriving.FSM_Node{Int64}(1),HierarchicalDriving.FSM_Edge{String}(\"Undetermined\"),HierarchicalDriving.FSM_Node{Int64}(3))=>0.5,(HierarchicalDriving.FSM_Node{Int64}(1),HierarchicalDriving.FSM_Edge{String}(\"Undetermined\"),HierarchicalDriving.FSM_Node{Int64}(4))=>0.5,(HierarchicalDriving.FSM_Node{Int64}(3),HierarchicalDriving.FSM_Edge{String}(\"Undetermined\"),HierarchicalDriving.FSM_Node{Int64}(3))=>1.0,(HierarchicalDriving.FSM_Node{Int64}(1),HierarchicalDriving.FSM_Edge{String}(\"SafeSmooth\"),HierarchicalDriving.FSM_Node{Int64}(4))=>1.0,(HierarchicalDriving.FSM_Node{Int64}(3),HierarchicalDriving.FSM_Edge{String}(\"Reached\"),HierarchicalDriving.FSM_Node{Int64}(2))=>1.0,(HierarchicalDriving.FSM_Node{Int64}(3),HierarchicalDriving.FSM_Edge{String}(\"UnsafeOrUnsmooth\"),HierarchicalDriving.FSM_Node{Int64}(3))=>1.0,(HierarchicalDriving.FSM_Node{Int64}(2),HierarchicalDriving.FSM_Edge{String}(\"Undetermined\"),HierarchicalDriving.FSM_Node{Int64}(2))=>1.0…)),6.0,2.5)]),HierarchicalDriving.GlobalStateL1(0,HierarchicalDriving.CarPhysicalState((45.62055656810683,8.999999999999998,21.892689147381887)),Array{HierarchicalDriving.CarLocalIS,1}[HierarchicalDriving.CarLocalIS[HierarchicalDriving.CarLocalIS{HierarchicalDriving.ParamCarModelL0}(HierarchicalDriving.CarPhysicalState((45.3218,2.0,25.2663)),HierarchicalDriving.ParamCarModelL0(2,HierarchicalDriving.LowLevelCarFrameL0(HierarchicalDriving.IDMParam(1.4,2.0,1.5,27.2352,0.5,4.0),HierarchicalDriving.MOBILParam(0.0,2.0,-2.0),HierarchicalDriving.FSM{Int64,Float64,String}(HierarchicalDriving.FSM_Node{Int64}[HierarchicalDriving.FSM_Node{Int64}(1),HierarchicalDriving.FSM_Node{Int64}(2),HierarchicalDriving.FSM_Node{Int64}(3),HierarchicalDriving.FSM_Node{Int64}(4)],HierarchicalDriving.FSM_Edge{String}[HierarchicalDriving.FSM_Edge{String}(\"Reached\"),HierarchicalDriving.FSM_Edge{String}(\"SafeSmooth\"),HierarchicalDriving.FSM_Edge{String}(\"UnsafeOrUnsmooth\"),HierarchicalDriving.FSM_Edge{String}(\"Undetermined\")],Dict((HierarchicalDriving.FSM_Node{Int64}(1),0.0)=>0.5,(HierarchicalDriving.FSM_Node{Int64}(1),2.0)=>0.5,(HierarchicalDriving.FSM_Node{Int64}(2),0.0)=>1.0,(HierarchicalDriving.FSM_Node{Int64}(3),-2.0)=>1.0,(HierarchicalDriving.FSM_Node{Int64}(4),2.0)=>1.0),Dict((HierarchicalDriving.FSM_Node{Int64}(2),HierarchicalDriving.FSM_Edge{String}(\"UnsafeOrUnsmooth\"),HierarchicalDriving.FSM_Node{Int64}(2))=>1.0,(HierarchicalDriving.FSM_Node{Int64}(4),HierarchicalDriving.FSM_Edge{String}(\"Reached\"),HierarchicalDriving.FSM_Node{Int64}(2))=>1.0,(HierarchicalDriving.FSM_Node{Int64}(2),HierarchicalDriving.FSM_Edge{String}(\"SafeSmooth\"),HierarchicalDriving.FSM_Node{Int64}(4))=>1.0,(HierarchicalDriving.FSM_Node{Int64}(1),HierarchicalDriving.FSM_Edge{String}(\"Undetermined\"),HierarchicalDriving.FSM_Node{Int64}(3))=>0.5,(HierarchicalDriving.FSM_Node{Int64}(1),HierarchicalDriving.FSM_Edge{String}(\"Undetermined\"),HierarchicalDriving.FSM_Node{Int64}(4))=>0.5,(HierarchicalDriving.FSM_Node{Int64}(3),HierarchicalDriving.FSM_Edge{String}(\"Undetermined\"),HierarchicalDriving.FSM_Node{Int64}(3))=>1.0,(HierarchicalDriving.FSM_Node{Int64}(1),HierarchicalDriving.FSM_Edge{String}(\"SafeSmooth\"),HierarchicalDriving.FSM_Node{Int64}(4))=>1.0,(HierarchicalDriving.FSM_Node{Int64}(3),HierarchicalDriving.FSM_Edge{String}(\"Reached\"),HierarchicalDriving.FSM_Node{Int64}(2))=>1.0,(HierarchicalDriving.FSM_Node{Int64}(3),HierarchicalDriving.FSM_Edge{String}(\"UnsafeOrUnsmooth\"),HierarchicalDriving.FSM_Node{Int64}(3))=>1.0,(HierarchicalDriving.FSM_Node{Int64}(2),HierarchicalDriving.FSM_Edge{String}(\"Undetermined\"),HierarchicalDriving.FSM_Node{Int64}(2))=>1.0…)),6.0,2.5),HierarchicalDriving.FSM_Node{Int64}(3)))],HierarchicalDriving.CarLocalIS[HierarchicalDriving.CarLocalIS{HierarchicalDriving.ParamCarModelL0}(HierarchicalDriving.CarPhysicalState((116.148,6.0,21.0561)),HierarchicalDriving.ParamCarModelL0(1,HierarchicalDriving.LowLevelCarFrameL0(HierarchicalDriving.IDMParam(1.4,2.0,1.5,25.0,1.0,4.0),HierarchicalDriving.MOBILParam(0.0,2.0,-1.5),HierarchicalDriving.FSM{Int64,Float64,String}(HierarchicalDriving.FSM_Node{Int64}[HierarchicalDriving.FSM_Node{Int64}(1),HierarchicalDriving.FSM_Node{Int64}(2),HierarchicalDriving.FSM_Node{Int64}(3),HierarchicalDriving.FSM_Node{Int64}(4)],HierarchicalDriving.FSM_Edge{String}[HierarchicalDriving.FSM_Edge{String}(\"Reached\"),HierarchicalDriving.FSM_Edge{String}(\"SafeSmooth\"),HierarchicalDriving.FSM_Edge{String}(\"UnsafeOrUnsmooth\"),HierarchicalDriving.FSM_Edge{String}(\"Undetermined\")],Dict((HierarchicalDriving.FSM_Node{Int64}(1),0.0)=>0.5,(HierarchicalDriving.FSM_Node{Int64}(1),2.0)=>0.5,(HierarchicalDriving.FSM_Node{Int64}(2),0.0)=>1.0,(HierarchicalDriving.FSM_Node{Int64}(3),-2.0)=>1.0,(HierarchicalDriving.FSM_Node{Int64}(4),2.0)=>1.0),Dict((HierarchicalDriving.FSM_Node{Int64}(2),HierarchicalDriving.FSM_Edge{String}(\"UnsafeOrUnsmooth\"),HierarchicalDriving.FSM_Node{Int64}(2))=>1.0,(HierarchicalDriving.FSM_Node{Int64}(4),HierarchicalDriving.FSM_Edge{String}(\"Reached\"),HierarchicalDriving.FSM_Node{Int64}(2))=>1.0,(HierarchicalDriving.FSM_Node{Int64}(2),HierarchicalDriving.FSM_Edge{String}(\"SafeSmooth\"),HierarchicalDriving.FSM_Node{Int64}(4))=>1.0,(HierarchicalDriving.FSM_Node{Int64}(1),HierarchicalDriving.FSM_Edge{String}(\"Undetermined\"),HierarchicalDriving.FSM_Node{Int64}(3))=>0.5,(HierarchicalDriving.FSM_Node{Int64}(1),HierarchicalDriving.FSM_Edge{String}(\"Undetermined\"),HierarchicalDriving.FSM_Node{Int64}(4))=>0.5,(HierarchicalDriving.FSM_Node{Int64}(3),HierarchicalDriving.FSM_Edge{String}(\"Undetermined\"),HierarchicalDriving.FSM_Node{Int64}(3))=>1.0,(HierarchicalDriving.FSM_Node{Int64}(1),HierarchicalDriving.FSM_Edge{String}(\"SafeSmooth\"),HierarchicalDriving.FSM_Node{Int64}(4))=>1.0,(HierarchicalDriving.FSM_Node{Int64}(3),HierarchicalDriving.FSM_Edge{String}(\"Reached\"),HierarchicalDriving.FSM_Node{Int64}(2))=>1.0,(HierarchicalDriving.FSM_Node{Int64}(3),HierarchicalDriving.FSM_Edge{String}(\"UnsafeOrUnsmooth\"),HierarchicalDriving.FSM_Node{Int64}(3))=>1.0,(HierarchicalDriving.FSM_Node{Int64}(2),HierarchicalDriving.FSM_Edge{String}(\"Undetermined\"),HierarchicalDriving.FSM_Node{Int64}(2))=>1.0…)),6.0,2.5),HierarchicalDriving.FSM_Node{Int64}(3)))],HierarchicalDriving.CarLocalIS[HierarchicalDriving.CarLocalIS{HierarchicalDriving.ParamCarModelL0}(HierarchicalDriving.CarPhysicalState((57.373,10.0,25.9941)),HierarchicalDriving.ParamCarModelL0(3,HierarchicalDriving.LowLevelCarFrameL0(HierarchicalDriving.IDMParam(1.4,2.0,1.5,25.0,1.0,4.0),HierarchicalDriving.MOBILParam(0.0,2.0,-1.5),HierarchicalDriving.FSM{Int64,Float64,String}(HierarchicalDriving.FSM_Node{Int64}[HierarchicalDriving.FSM_Node{Int64}(1),HierarchicalDriving.FSM_Node{Int64}(2),HierarchicalDriving.FSM_Node{Int64}(3),HierarchicalDriving.FSM_Node{Int64}(4)],HierarchicalDriving.FSM_Edge{String}[HierarchicalDriving.FSM_Edge{String}(\"Reached\"),HierarchicalDriving.FSM_Edge{String}(\"SafeSmooth\"),HierarchicalDriving.FSM_Edge{String}(\"UnsafeOrUnsmooth\"),HierarchicalDriving.FSM_Edge{String}(\"Undetermined\")],Dict((HierarchicalDriving.FSM_Node{Int64}(1),0.0)=>0.5,(HierarchicalDriving.FSM_Node{Int64}(1),2.0)=>0.5,(HierarchicalDriving.FSM_Node{Int64}(2),0.0)=>1.0,(HierarchicalDriving.FSM_Node{Int64}(3),-2.0)=>1.0,(HierarchicalDriving.FSM_Node{Int64}(4),2.0)=>1.0),Dict((HierarchicalDriving.FSM_Node{Int64}(2),HierarchicalDriving.FSM_Edge{String}(\"UnsafeOrUnsmooth\"),HierarchicalDriving.FSM_Node{Int64}(2))=>1.0,(HierarchicalDriving.FSM_Node{Int64}(4),HierarchicalDriving.FSM_Edge{String}(\"Reached\"),HierarchicalDriving.FSM_Node{Int64}(2))=>1.0,(HierarchicalDriving.FSM_Node{Int64}(2),HierarchicalDriving.FSM_Edge{String}(\"SafeSmooth\"),HierarchicalDriving.FSM_Node{Int64}(4))=>1.0,(HierarchicalDriving.FSM_Node{Int64}(1),HierarchicalDriving.FSM_Edge{String}(\"Undetermined\"),HierarchicalDriving.FSM_Node{Int64}(3))=>0.5,(HierarchicalDriving.FSM_Node{Int64}(1),HierarchicalDriving.FSM_Edge{String}(\"Undetermined\"),HierarchicalDriving.FSM_Node{Int64}(4))=>0.5,(HierarchicalDriving.FSM_Node{Int64}(3),HierarchicalDriving.FSM_Edge{String}(\"Undetermined\"),HierarchicalDriving.FSM_Node{Int64}(3))=>1.0,(HierarchicalDriving.FSM_Node{Int64}(1),HierarchicalDriving.FSM_Edge{String}(\"SafeSmooth\"),HierarchicalDriving.FSM_Node{Int64}(4))=>1.0,(HierarchicalDriving.FSM_Node{Int64}(3),HierarchicalDriving.FSM_Edge{String}(\"Reached\"),HierarchicalDriving.FSM_Node{Int64}(2))=>1.0,(HierarchicalDriving.FSM_Node{Int64}(3),HierarchicalDriving.FSM_Edge{String}(\"UnsafeOrUnsmooth\"),HierarchicalDriving.FSM_Node{Int64}(3))=>1.0,(HierarchicalDriving.FSM_Node{Int64}(2),HierarchicalDriving.FSM_Edge{String}(\"Undetermined\"),HierarchicalDriving.FSM_Node{Int64}(2))=>1.0…)),6.0,2.5),HierarchicalDriving.FSM_Node{Int64}(2)))],HierarchicalDriving.CarLocalIS[HierarchicalDriving.CarLocalIS{HierarchicalDriving.ParamCarModelL0}(HierarchicalDriving.CarPhysicalState((130.034,14.0,25.3235)),HierarchicalDriving.ParamCarModelL0(4,HierarchicalDriving.LowLevelCarFrameL0(HierarchicalDriving.IDMParam(1.4,2.0,1.5,25.0,1.0,4.0),HierarchicalDriving.MOBILParam(0.0,2.0,-1.5),HierarchicalDriving.FSM{Int64,Float64,String}(HierarchicalDriving.FSM_Node{Int64}[HierarchicalDriving.FSM_Node{Int64}(1),HierarchicalDriving.FSM_Node{Int64}(2),HierarchicalDriving.FSM_Node{Int64}(3),HierarchicalDriving.FSM_Node{Int64}(4)],HierarchicalDriving.FSM_Edge{String}[HierarchicalDriving.FSM_Edge{String}(\"Reached\"),HierarchicalDriving.FSM_Edge{String}(\"SafeSmooth\"),HierarchicalDriving.FSM_Edge{String}(\"UnsafeOrUnsmooth\"),HierarchicalDriving.FSM_Edge{String}(\"Undetermined\")],Dict((HierarchicalDriving.FSM_Node{Int64}(1),0.0)=>0.5,(HierarchicalDriving.FSM_Node{Int64}(1),2.0)=>0.5,(HierarchicalDriving.FSM_Node{Int64}(2),0.0)=>1.0,(HierarchicalDriving.FSM_Node{Int64}(3),-2.0)=>1.0,(HierarchicalDriving.FSM_Node{Int64}(4),2.0)=>1.0),Dict((HierarchicalDriving.FSM_Node{Int64}(2),HierarchicalDriving.FSM_Edge{String}(\"UnsafeOrUnsmooth\"),HierarchicalDriving.FSM_Node{Int64}(2))=>1.0,(HierarchicalDriving.FSM_Node{Int64}(4),HierarchicalDriving.FSM_Edge{String}(\"Reached\"),HierarchicalDriving.FSM_Node{Int64}(2))=>1.0,(HierarchicalDriving.FSM_Node{Int64}(2),HierarchicalDriving.FSM_Edge{String}(\"SafeSmooth\"),HierarchicalDriving.FSM_Node{Int64}(4))=>1.0,(HierarchicalDriving.FSM_Node{Int64}(1),HierarchicalDriving.FSM_Edge{String}(\"Undetermined\"),HierarchicalDriving.FSM_Node{Int64}(3))=>0.5,(HierarchicalDriving.FSM_Node{Int64}(1),HierarchicalDriving.FSM_Edge{String}(\"Undetermined\"),HierarchicalDriving.FSM_Node{Int64}(4))=>0.5,(HierarchicalDriving.FSM_Node{Int64}(3),HierarchicalDriving.FSM_Edge{String}(\"Undetermined\"),HierarchicalDriving.FSM_Node{Int64}(3))=>1.0,(HierarchicalDriving.FSM_Node{Int64}(1),HierarchicalDriving.FSM_Edge{String}(\"SafeSmooth\"),HierarchicalDriving.FSM_Node{Int64}(4))=>1.0,(HierarchicalDriving.FSM_Node{Int64}(3),HierarchicalDriving.FSM_Edge{String}(\"Reached\"),HierarchicalDriving.FSM_Node{Int64}(2))=>1.0,(HierarchicalDriving.FSM_Node{Int64}(3),HierarchicalDriving.FSM_Edge{String}(\"UnsafeOrUnsmooth\"),HierarchicalDriving.FSM_Node{Int64}(3))=>1.0,(HierarchicalDriving.FSM_Node{Int64}(2),HierarchicalDriving.FSM_Edge{String}(\"Undetermined\"),HierarchicalDriving.FSM_Node{Int64}(2))=>1.0…)),6.0,2.5),HierarchicalDriving.FSM_Node{Int64}(2)))]],Dict{HierarchicalDriving.CarPhysicalState,Array{StaticArrays.SVector{2,HierarchicalDriving.CarPhysicalState},1}}()))"
      ]
     },
     "execution_count": 8,
     "metadata": {
      "comm_id": "d1041240-dc23-44a0-a4ef-e932a76cc506",
      "reactive": true
     },
     "output_type": "execute_result"
    }
   ],
   "source": [
    "solver = DPWSolver(depth=p.HORIZON,\n",
    "                             exploration_constant=10.0,\n",
    "                             n_iterations=1_000,\n",
    "                             k_action=10.0,\n",
    "                             alpha_action=1/10,\n",
    "                             k_state=5.0,\n",
    "                             alpha_state=1/10,\n",
    "                             estimate_value=RolloutEstimator(subintentional_lowlevel_policy(p))\n",
    "                          )\n",
    "policy1 = solve(solver, p)\n",
    "hr1 = HistoryRecorder(max_steps = p.HORIZON, rng = MersenneTwister(i))\n",
    "hr2 = HistoryRecorder(max_steps = p.HORIZON, rng = MersenneTwister(i))\n",
    "@time (hist1 = simulate(hr1, p, policy1);)\n",
    "#@time (hist2 = simulate(hr2, p, policy1);)\n",
    "#for i in 1:n_steps(hist1)\n",
    "#    println(\"StepNo $i\")\n",
    "#   @time (act = action(policy1, state_hist(hist1)[i]))\n",
    "#    \n",
    "#    println(act) \n",
    "#    println(action(policy, state_hist(hist)[i]))\n",
    "#end\n",
    "@manipulate for i in 1:n_steps(hist1)+1\n",
    "    (p,state_hist(hist1)[i])\n",
    "end"
   ]
  },
  {
   "cell_type": "code",
   "execution_count": 5,
   "metadata": {
    "collapsed": false,
    "deletable": true,
    "editable": true
   },
   "outputs": [
    {
     "name": "stdout",
     "output_type": "stream",
     "text": [
      "HierarchicalDriving.CarPhysicalState((64.31508314322822,10.199999999999998,26.36390749962482))\n"
     ]
    }
   ],
   "source": [
    "sh = state_hist(hist1)[end]\n",
    "println(sh.ego)"
   ]
  },
  {
   "cell_type": "code",
   "execution_count": 6,
   "metadata": {
    "collapsed": false,
    "deletable": true,
    "editable": true
   },
   "outputs": [
    {
     "data": {
      "text/plain": [
       "0.0"
      ]
     },
     "execution_count": 6,
     "metadata": {},
     "output_type": "execute_result"
    }
   ],
   "source": [
    "discounted_reward(hist)"
   ]
  },
  {
   "cell_type": "code",
   "execution_count": 6,
   "metadata": {
    "collapsed": false,
    "deletable": true,
    "editable": true
   },
   "outputs": [
    {
     "data": {
      "text/plain": [
       "34.123558845652454"
      ]
     },
     "execution_count": 6,
     "metadata": {},
     "output_type": "execute_result"
    }
   ],
   "source": [
    "discounted_reward(hist1)"
   ]
  },
  {
   "cell_type": "code",
   "execution_count": null,
   "metadata": {
    "collapsed": true,
    "deletable": true,
    "editable": true
   },
   "outputs": [],
   "source": []
  }
 ],
 "metadata": {
  "anaconda-cloud": {},
  "kernelspec": {
   "display_name": "Julia 0.5.0",
   "language": "julia",
   "name": "julia-0.5"
  },
  "language_info": {
   "file_extension": ".jl",
   "mimetype": "application/julia",
   "name": "julia",
   "version": "0.5.0"
  }
 },
 "nbformat": 4,
 "nbformat_minor": 1
}
